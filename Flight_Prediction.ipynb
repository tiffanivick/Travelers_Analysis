{
 "cells": [
  {
   "attachments": {},
   "cell_type": "markdown",
   "metadata": {},
   "source": [
    "## Imports and Data Load"
   ]
  },
  {
   "cell_type": "code",
   "execution_count": 1,
   "metadata": {},
   "outputs": [],
   "source": [
    "import pandas as pd\n",
    "import numpy as np\n",
    "import seaborn as sns\n",
    "import matplotlib.pyplot as plt\n",
    "%matplotlib inline\n",
    "import matplotlib.ticker as ticker\n",
    "from matplotlib.ticker import FuncFormatter, FixedLocator, FormatStrFormatter\n",
    "\n",
    "import warnings\n",
    "warnings.filterwarnings('ignore')"
   ]
  },
  {
   "cell_type": "code",
   "execution_count": 2,
   "metadata": {},
   "outputs": [
    {
     "data": {
      "text/html": [
       "<div>\n",
       "<style scoped>\n",
       "    .dataframe tbody tr th:only-of-type {\n",
       "        vertical-align: middle;\n",
       "    }\n",
       "\n",
       "    .dataframe tbody tr th {\n",
       "        vertical-align: top;\n",
       "    }\n",
       "\n",
       "    .dataframe thead th {\n",
       "        text-align: right;\n",
       "    }\n",
       "</style>\n",
       "<table border=\"1\" class=\"dataframe\">\n",
       "  <thead>\n",
       "    <tr style=\"text-align: right;\">\n",
       "      <th></th>\n",
       "      <th>Airline</th>\n",
       "      <th>Date_of_Journey</th>\n",
       "      <th>Source</th>\n",
       "      <th>Destination</th>\n",
       "      <th>Route</th>\n",
       "      <th>Dep_Time</th>\n",
       "      <th>Arrival_Time</th>\n",
       "      <th>Duration</th>\n",
       "      <th>Total_Stops</th>\n",
       "      <th>Additional_Info</th>\n",
       "      <th>Price</th>\n",
       "    </tr>\n",
       "  </thead>\n",
       "  <tbody>\n",
       "    <tr>\n",
       "      <th>0</th>\n",
       "      <td>IndiGo</td>\n",
       "      <td>24/03/2019</td>\n",
       "      <td>Banglore</td>\n",
       "      <td>New Delhi</td>\n",
       "      <td>BLR → DEL</td>\n",
       "      <td>22:20</td>\n",
       "      <td>01:10 22 Mar</td>\n",
       "      <td>2h 50m</td>\n",
       "      <td>non-stop</td>\n",
       "      <td>No info</td>\n",
       "      <td>3897</td>\n",
       "    </tr>\n",
       "    <tr>\n",
       "      <th>1</th>\n",
       "      <td>Air India</td>\n",
       "      <td>1/05/2019</td>\n",
       "      <td>Kolkata</td>\n",
       "      <td>Banglore</td>\n",
       "      <td>CCU → IXR → BBI → BLR</td>\n",
       "      <td>05:50</td>\n",
       "      <td>13:15</td>\n",
       "      <td>7h 25m</td>\n",
       "      <td>2 stops</td>\n",
       "      <td>No info</td>\n",
       "      <td>7662</td>\n",
       "    </tr>\n",
       "    <tr>\n",
       "      <th>2</th>\n",
       "      <td>Jet Airways</td>\n",
       "      <td>9/06/2019</td>\n",
       "      <td>Delhi</td>\n",
       "      <td>Cochin</td>\n",
       "      <td>DEL → LKO → BOM → COK</td>\n",
       "      <td>09:25</td>\n",
       "      <td>04:25 10 Jun</td>\n",
       "      <td>19h</td>\n",
       "      <td>2 stops</td>\n",
       "      <td>No info</td>\n",
       "      <td>13882</td>\n",
       "    </tr>\n",
       "    <tr>\n",
       "      <th>3</th>\n",
       "      <td>IndiGo</td>\n",
       "      <td>12/05/2019</td>\n",
       "      <td>Kolkata</td>\n",
       "      <td>Banglore</td>\n",
       "      <td>CCU → NAG → BLR</td>\n",
       "      <td>18:05</td>\n",
       "      <td>23:30</td>\n",
       "      <td>5h 25m</td>\n",
       "      <td>1 stop</td>\n",
       "      <td>No info</td>\n",
       "      <td>6218</td>\n",
       "    </tr>\n",
       "    <tr>\n",
       "      <th>4</th>\n",
       "      <td>IndiGo</td>\n",
       "      <td>01/03/2019</td>\n",
       "      <td>Banglore</td>\n",
       "      <td>New Delhi</td>\n",
       "      <td>BLR → NAG → DEL</td>\n",
       "      <td>16:50</td>\n",
       "      <td>21:35</td>\n",
       "      <td>4h 45m</td>\n",
       "      <td>1 stop</td>\n",
       "      <td>No info</td>\n",
       "      <td>13302</td>\n",
       "    </tr>\n",
       "  </tbody>\n",
       "</table>\n",
       "</div>"
      ],
      "text/plain": [
       "       Airline Date_of_Journey    Source Destination                  Route  \\\n",
       "0       IndiGo      24/03/2019  Banglore   New Delhi              BLR → DEL   \n",
       "1    Air India       1/05/2019   Kolkata    Banglore  CCU → IXR → BBI → BLR   \n",
       "2  Jet Airways       9/06/2019     Delhi      Cochin  DEL → LKO → BOM → COK   \n",
       "3       IndiGo      12/05/2019   Kolkata    Banglore        CCU → NAG → BLR   \n",
       "4       IndiGo      01/03/2019  Banglore   New Delhi        BLR → NAG → DEL   \n",
       "\n",
       "  Dep_Time  Arrival_Time Duration Total_Stops Additional_Info  Price  \n",
       "0    22:20  01:10 22 Mar   2h 50m    non-stop         No info   3897  \n",
       "1    05:50         13:15   7h 25m     2 stops         No info   7662  \n",
       "2    09:25  04:25 10 Jun      19h     2 stops         No info  13882  \n",
       "3    18:05         23:30   5h 25m      1 stop         No info   6218  \n",
       "4    16:50         21:35   4h 45m      1 stop         No info  13302  "
      ]
     },
     "execution_count": 2,
     "metadata": {},
     "output_type": "execute_result"
    }
   ],
   "source": [
    "# Load the data\n",
    "df = pd.read_csv('/Users/tiffanivick/Workspace/Travelers_Analysis/Flight_Dataset.csv')\n",
    "df.head()"
   ]
  },
  {
   "attachments": {},
   "cell_type": "markdown",
   "metadata": {},
   "source": [
    "Feature Descriptions \n",
    "\n",
    "Airline - airline company\n",
    "\n",
    "Date of Journey - the date of travel\n",
    "\n",
    "Source - the city of departure\n",
    "\n",
    "Destination - the city of arrival\n",
    "\n",
    "Route - city departing from -> city arriving to\n",
    "\n",
    "Departure Time (military time) - the time in which the plane is expected to takeoff \n",
    "\n",
    "Arrival Time (military time) - the time in which the plane is expected to arrive\n",
    "\n",
    "Duration (hour/minute) - the flight's estimated total length of time \n",
    "\n",
    "Total Stops - the total number of layovers before arriving at destination\n",
    "\n",
    "Additional Info - additional information about the flight \n",
    "\n",
    "Price - the total price of the trip"
   ]
  },
  {
   "cell_type": "code",
   "execution_count": 3,
   "metadata": {},
   "outputs": [
    {
     "name": "stdout",
     "output_type": "stream",
     "text": [
      "<class 'pandas.core.frame.DataFrame'>\n",
      "RangeIndex: 10683 entries, 0 to 10682\n",
      "Data columns (total 11 columns):\n",
      " #   Column           Non-Null Count  Dtype \n",
      "---  ------           --------------  ----- \n",
      " 0   Airline          10683 non-null  object\n",
      " 1   Date_of_Journey  10683 non-null  object\n",
      " 2   Source           10683 non-null  object\n",
      " 3   Destination      10683 non-null  object\n",
      " 4   Route            10682 non-null  object\n",
      " 5   Dep_Time         10683 non-null  object\n",
      " 6   Arrival_Time     10683 non-null  object\n",
      " 7   Duration         10683 non-null  object\n",
      " 8   Total_Stops      10682 non-null  object\n",
      " 9   Additional_Info  10683 non-null  object\n",
      " 10  Price            10683 non-null  int64 \n",
      "dtypes: int64(1), object(10)\n",
      "memory usage: 918.2+ KB\n"
     ]
    }
   ],
   "source": [
    "# Summary of data\n",
    "df.info()"
   ]
  },
  {
   "cell_type": "code",
   "execution_count": 4,
   "metadata": {},
   "outputs": [
    {
     "data": {
      "text/html": [
       "<div>\n",
       "<style scoped>\n",
       "    .dataframe tbody tr th:only-of-type {\n",
       "        vertical-align: middle;\n",
       "    }\n",
       "\n",
       "    .dataframe tbody tr th {\n",
       "        vertical-align: top;\n",
       "    }\n",
       "\n",
       "    .dataframe thead th {\n",
       "        text-align: right;\n",
       "    }\n",
       "</style>\n",
       "<table border=\"1\" class=\"dataframe\">\n",
       "  <thead>\n",
       "    <tr style=\"text-align: right;\">\n",
       "      <th></th>\n",
       "      <th>Price</th>\n",
       "    </tr>\n",
       "  </thead>\n",
       "  <tbody>\n",
       "    <tr>\n",
       "      <th>count</th>\n",
       "      <td>10683.000000</td>\n",
       "    </tr>\n",
       "    <tr>\n",
       "      <th>mean</th>\n",
       "      <td>9087.064121</td>\n",
       "    </tr>\n",
       "    <tr>\n",
       "      <th>std</th>\n",
       "      <td>4611.359167</td>\n",
       "    </tr>\n",
       "    <tr>\n",
       "      <th>min</th>\n",
       "      <td>1759.000000</td>\n",
       "    </tr>\n",
       "    <tr>\n",
       "      <th>25%</th>\n",
       "      <td>5277.000000</td>\n",
       "    </tr>\n",
       "    <tr>\n",
       "      <th>50%</th>\n",
       "      <td>8372.000000</td>\n",
       "    </tr>\n",
       "    <tr>\n",
       "      <th>75%</th>\n",
       "      <td>12373.000000</td>\n",
       "    </tr>\n",
       "    <tr>\n",
       "      <th>max</th>\n",
       "      <td>79512.000000</td>\n",
       "    </tr>\n",
       "  </tbody>\n",
       "</table>\n",
       "</div>"
      ],
      "text/plain": [
       "              Price\n",
       "count  10683.000000\n",
       "mean    9087.064121\n",
       "std     4611.359167\n",
       "min     1759.000000\n",
       "25%     5277.000000\n",
       "50%     8372.000000\n",
       "75%    12373.000000\n",
       "max    79512.000000"
      ]
     },
     "execution_count": 4,
     "metadata": {},
     "output_type": "execute_result"
    }
   ],
   "source": [
    "# Descriptive statistics of continuous data\n",
    "df.describe()"
   ]
  },
  {
   "cell_type": "code",
   "execution_count": 5,
   "metadata": {},
   "outputs": [
    {
     "data": {
      "text/plain": [
       "(10683, 11)"
      ]
     },
     "execution_count": 5,
     "metadata": {},
     "output_type": "execute_result"
    }
   ],
   "source": [
    "df.shape"
   ]
  },
  {
   "cell_type": "code",
   "execution_count": 6,
   "metadata": {},
   "outputs": [
    {
     "data": {
      "text/plain": [
       "Airline            0\n",
       "Date_of_Journey    0\n",
       "Source             0\n",
       "Destination        0\n",
       "Route              1\n",
       "Dep_Time           0\n",
       "Arrival_Time       0\n",
       "Duration           0\n",
       "Total_Stops        1\n",
       "Additional_Info    0\n",
       "Price              0\n",
       "dtype: int64"
      ]
     },
     "execution_count": 6,
     "metadata": {},
     "output_type": "execute_result"
    }
   ],
   "source": [
    "# Check for nulls\n",
    "df.isnull().sum()"
   ]
  },
  {
   "attachments": {},
   "cell_type": "markdown",
   "metadata": {},
   "source": [
    "As there are only a couple null values, we will drop the rows from the dataset."
   ]
  },
  {
   "cell_type": "code",
   "execution_count": 7,
   "metadata": {},
   "outputs": [],
   "source": [
    "# Drop nulls\n",
    "df.dropna(inplace=True)"
   ]
  },
  {
   "cell_type": "code",
   "execution_count": 8,
   "metadata": {},
   "outputs": [
    {
     "data": {
      "text/plain": [
       "Airline            0\n",
       "Date_of_Journey    0\n",
       "Source             0\n",
       "Destination        0\n",
       "Route              0\n",
       "Dep_Time           0\n",
       "Arrival_Time       0\n",
       "Duration           0\n",
       "Total_Stops        0\n",
       "Additional_Info    0\n",
       "Price              0\n",
       "dtype: int64"
      ]
     },
     "execution_count": 8,
     "metadata": {},
     "output_type": "execute_result"
    }
   ],
   "source": [
    "df.isnull().sum()"
   ]
  },
  {
   "attachments": {},
   "cell_type": "markdown",
   "metadata": {},
   "source": [
    "## Data Cleaning"
   ]
  },
  {
   "cell_type": "code",
   "execution_count": 9,
   "metadata": {},
   "outputs": [],
   "source": [
    "# Clean column titles\n",
    "orig_cols = list(df.columns)\n",
    "new_cols = []\n",
    "for col in orig_cols:\n",
    "  new_cols.append(col.strip().replace(' ', ' ').replace(' ', '_').lower().replace('.', ''))\n",
    "df.columns = new_cols"
   ]
  },
  {
   "cell_type": "code",
   "execution_count": 10,
   "metadata": {},
   "outputs": [
    {
     "data": {
      "text/plain": [
       "airline            object\n",
       "date_of_journey    object\n",
       "source             object\n",
       "destination        object\n",
       "route              object\n",
       "dep_time           object\n",
       "arrival_time       object\n",
       "duration           object\n",
       "total_stops        object\n",
       "additional_info    object\n",
       "price               int64\n",
       "dtype: object"
      ]
     },
     "execution_count": 10,
     "metadata": {},
     "output_type": "execute_result"
    }
   ],
   "source": [
    "# Datatypes\n",
    "df.dtypes"
   ]
  },
  {
   "cell_type": "code",
   "execution_count": 11,
   "metadata": {},
   "outputs": [],
   "source": [
    "# Function to convert datatypes to datetime\n",
    "def convert_to_datetime(col):\n",
    "  df[col]= pd.to_datetime(df[col])"
   ]
  },
  {
   "cell_type": "code",
   "execution_count": 12,
   "metadata": {},
   "outputs": [],
   "source": [
    "for i in ['date_of_journey', 'dep_time', 'arrival_time']:\n",
    "  convert_to_datetime(i)"
   ]
  },
  {
   "cell_type": "code",
   "execution_count": 13,
   "metadata": {},
   "outputs": [
    {
     "data": {
      "text/plain": [
       "airline                    object\n",
       "date_of_journey    datetime64[ns]\n",
       "source                     object\n",
       "destination                object\n",
       "route                      object\n",
       "dep_time           datetime64[ns]\n",
       "arrival_time       datetime64[ns]\n",
       "duration                   object\n",
       "total_stops                object\n",
       "additional_info            object\n",
       "price                       int64\n",
       "dtype: object"
      ]
     },
     "execution_count": 13,
     "metadata": {},
     "output_type": "execute_result"
    }
   ],
   "source": [
    "# Datatypes\n",
    "df.dtypes"
   ]
  },
  {
   "cell_type": "code",
   "execution_count": 14,
   "metadata": {},
   "outputs": [],
   "source": [
    "# Extract day and month from date_of_journey\n",
    "df['day_of_journey'] = df['date_of_journey'].dt.day\n",
    "df['month_of_journey'] = df['date_of_journey'].dt.month"
   ]
  },
  {
   "cell_type": "code",
   "execution_count": 15,
   "metadata": {},
   "outputs": [
    {
     "data": {
      "text/html": [
       "<div>\n",
       "<style scoped>\n",
       "    .dataframe tbody tr th:only-of-type {\n",
       "        vertical-align: middle;\n",
       "    }\n",
       "\n",
       "    .dataframe tbody tr th {\n",
       "        vertical-align: top;\n",
       "    }\n",
       "\n",
       "    .dataframe thead th {\n",
       "        text-align: right;\n",
       "    }\n",
       "</style>\n",
       "<table border=\"1\" class=\"dataframe\">\n",
       "  <thead>\n",
       "    <tr style=\"text-align: right;\">\n",
       "      <th></th>\n",
       "      <th>airline</th>\n",
       "      <th>date_of_journey</th>\n",
       "      <th>source</th>\n",
       "      <th>destination</th>\n",
       "      <th>route</th>\n",
       "      <th>dep_time</th>\n",
       "      <th>arrival_time</th>\n",
       "      <th>duration</th>\n",
       "      <th>total_stops</th>\n",
       "      <th>additional_info</th>\n",
       "      <th>price</th>\n",
       "      <th>day_of_journey</th>\n",
       "      <th>month_of_journey</th>\n",
       "    </tr>\n",
       "  </thead>\n",
       "  <tbody>\n",
       "    <tr>\n",
       "      <th>0</th>\n",
       "      <td>IndiGo</td>\n",
       "      <td>2019-03-24</td>\n",
       "      <td>Banglore</td>\n",
       "      <td>New Delhi</td>\n",
       "      <td>BLR → DEL</td>\n",
       "      <td>2022-12-26 22:20:00</td>\n",
       "      <td>2022-03-22 01:10:00</td>\n",
       "      <td>2h 50m</td>\n",
       "      <td>non-stop</td>\n",
       "      <td>No info</td>\n",
       "      <td>3897</td>\n",
       "      <td>24</td>\n",
       "      <td>3</td>\n",
       "    </tr>\n",
       "    <tr>\n",
       "      <th>1</th>\n",
       "      <td>Air India</td>\n",
       "      <td>2019-01-05</td>\n",
       "      <td>Kolkata</td>\n",
       "      <td>Banglore</td>\n",
       "      <td>CCU → IXR → BBI → BLR</td>\n",
       "      <td>2022-12-26 05:50:00</td>\n",
       "      <td>2022-12-26 13:15:00</td>\n",
       "      <td>7h 25m</td>\n",
       "      <td>2 stops</td>\n",
       "      <td>No info</td>\n",
       "      <td>7662</td>\n",
       "      <td>5</td>\n",
       "      <td>1</td>\n",
       "    </tr>\n",
       "    <tr>\n",
       "      <th>2</th>\n",
       "      <td>Jet Airways</td>\n",
       "      <td>2019-09-06</td>\n",
       "      <td>Delhi</td>\n",
       "      <td>Cochin</td>\n",
       "      <td>DEL → LKO → BOM → COK</td>\n",
       "      <td>2022-12-26 09:25:00</td>\n",
       "      <td>2022-06-10 04:25:00</td>\n",
       "      <td>19h</td>\n",
       "      <td>2 stops</td>\n",
       "      <td>No info</td>\n",
       "      <td>13882</td>\n",
       "      <td>6</td>\n",
       "      <td>9</td>\n",
       "    </tr>\n",
       "    <tr>\n",
       "      <th>3</th>\n",
       "      <td>IndiGo</td>\n",
       "      <td>2019-12-05</td>\n",
       "      <td>Kolkata</td>\n",
       "      <td>Banglore</td>\n",
       "      <td>CCU → NAG → BLR</td>\n",
       "      <td>2022-12-26 18:05:00</td>\n",
       "      <td>2022-12-26 23:30:00</td>\n",
       "      <td>5h 25m</td>\n",
       "      <td>1 stop</td>\n",
       "      <td>No info</td>\n",
       "      <td>6218</td>\n",
       "      <td>5</td>\n",
       "      <td>12</td>\n",
       "    </tr>\n",
       "    <tr>\n",
       "      <th>4</th>\n",
       "      <td>IndiGo</td>\n",
       "      <td>2019-01-03</td>\n",
       "      <td>Banglore</td>\n",
       "      <td>New Delhi</td>\n",
       "      <td>BLR → NAG → DEL</td>\n",
       "      <td>2022-12-26 16:50:00</td>\n",
       "      <td>2022-12-26 21:35:00</td>\n",
       "      <td>4h 45m</td>\n",
       "      <td>1 stop</td>\n",
       "      <td>No info</td>\n",
       "      <td>13302</td>\n",
       "      <td>3</td>\n",
       "      <td>1</td>\n",
       "    </tr>\n",
       "  </tbody>\n",
       "</table>\n",
       "</div>"
      ],
      "text/plain": [
       "       airline date_of_journey    source destination                  route  \\\n",
       "0       IndiGo      2019-03-24  Banglore   New Delhi              BLR → DEL   \n",
       "1    Air India      2019-01-05   Kolkata    Banglore  CCU → IXR → BBI → BLR   \n",
       "2  Jet Airways      2019-09-06     Delhi      Cochin  DEL → LKO → BOM → COK   \n",
       "3       IndiGo      2019-12-05   Kolkata    Banglore        CCU → NAG → BLR   \n",
       "4       IndiGo      2019-01-03  Banglore   New Delhi        BLR → NAG → DEL   \n",
       "\n",
       "             dep_time        arrival_time duration total_stops  \\\n",
       "0 2022-12-26 22:20:00 2022-03-22 01:10:00   2h 50m    non-stop   \n",
       "1 2022-12-26 05:50:00 2022-12-26 13:15:00   7h 25m     2 stops   \n",
       "2 2022-12-26 09:25:00 2022-06-10 04:25:00      19h     2 stops   \n",
       "3 2022-12-26 18:05:00 2022-12-26 23:30:00   5h 25m      1 stop   \n",
       "4 2022-12-26 16:50:00 2022-12-26 21:35:00   4h 45m      1 stop   \n",
       "\n",
       "  additional_info  price  day_of_journey  month_of_journey  \n",
       "0         No info   3897              24                 3  \n",
       "1         No info   7662               5                 1  \n",
       "2         No info  13882               6                 9  \n",
       "3         No info   6218               5                12  \n",
       "4         No info  13302               3                 1  "
      ]
     },
     "execution_count": 15,
     "metadata": {},
     "output_type": "execute_result"
    }
   ],
   "source": [
    "df.head()"
   ]
  },
  {
   "cell_type": "code",
   "execution_count": 16,
   "metadata": {},
   "outputs": [],
   "source": [
    "df.drop('date_of_journey', axis=1, inplace=True)"
   ]
  },
  {
   "cell_type": "code",
   "execution_count": 17,
   "metadata": {},
   "outputs": [],
   "source": [
    "# Function to extract hour and minutes \n",
    "def extract_hour(data, col):\n",
    "  data[col + '_hour'] = data[col].dt.hour\n",
    "  \n",
    "def extract_minute(data, col):\n",
    "  data[col + '_minute'] = data[col].dt.minute\n",
    "  \n",
    "def drop_col(data, col):\n",
    "  data.drop(col, axis=1, inplace=True)"
   ]
  },
  {
   "cell_type": "code",
   "execution_count": 18,
   "metadata": {},
   "outputs": [],
   "source": [
    "extract_hour(df, 'dep_time')\n",
    "\n",
    "extract_minute(df, 'dep_time')\n",
    "\n",
    "drop_col(df, 'dep_time')"
   ]
  },
  {
   "cell_type": "code",
   "execution_count": 19,
   "metadata": {},
   "outputs": [],
   "source": [
    "extract_hour(df, 'arrival_time')\n",
    "\n",
    "extract_minute(df, 'arrival_time')\n",
    "\n",
    "drop_col(df, 'arrival_time')"
   ]
  },
  {
   "cell_type": "code",
   "execution_count": 20,
   "metadata": {},
   "outputs": [
    {
     "data": {
      "text/html": [
       "<div>\n",
       "<style scoped>\n",
       "    .dataframe tbody tr th:only-of-type {\n",
       "        vertical-align: middle;\n",
       "    }\n",
       "\n",
       "    .dataframe tbody tr th {\n",
       "        vertical-align: top;\n",
       "    }\n",
       "\n",
       "    .dataframe thead th {\n",
       "        text-align: right;\n",
       "    }\n",
       "</style>\n",
       "<table border=\"1\" class=\"dataframe\">\n",
       "  <thead>\n",
       "    <tr style=\"text-align: right;\">\n",
       "      <th></th>\n",
       "      <th>airline</th>\n",
       "      <th>source</th>\n",
       "      <th>destination</th>\n",
       "      <th>route</th>\n",
       "      <th>duration</th>\n",
       "      <th>total_stops</th>\n",
       "      <th>additional_info</th>\n",
       "      <th>price</th>\n",
       "      <th>day_of_journey</th>\n",
       "      <th>month_of_journey</th>\n",
       "      <th>dep_time_hour</th>\n",
       "      <th>dep_time_minute</th>\n",
       "      <th>arrival_time_hour</th>\n",
       "      <th>arrival_time_minute</th>\n",
       "    </tr>\n",
       "  </thead>\n",
       "  <tbody>\n",
       "    <tr>\n",
       "      <th>0</th>\n",
       "      <td>IndiGo</td>\n",
       "      <td>Banglore</td>\n",
       "      <td>New Delhi</td>\n",
       "      <td>BLR → DEL</td>\n",
       "      <td>2h 50m</td>\n",
       "      <td>non-stop</td>\n",
       "      <td>No info</td>\n",
       "      <td>3897</td>\n",
       "      <td>24</td>\n",
       "      <td>3</td>\n",
       "      <td>22</td>\n",
       "      <td>20</td>\n",
       "      <td>1</td>\n",
       "      <td>10</td>\n",
       "    </tr>\n",
       "    <tr>\n",
       "      <th>1</th>\n",
       "      <td>Air India</td>\n",
       "      <td>Kolkata</td>\n",
       "      <td>Banglore</td>\n",
       "      <td>CCU → IXR → BBI → BLR</td>\n",
       "      <td>7h 25m</td>\n",
       "      <td>2 stops</td>\n",
       "      <td>No info</td>\n",
       "      <td>7662</td>\n",
       "      <td>5</td>\n",
       "      <td>1</td>\n",
       "      <td>5</td>\n",
       "      <td>50</td>\n",
       "      <td>13</td>\n",
       "      <td>15</td>\n",
       "    </tr>\n",
       "    <tr>\n",
       "      <th>2</th>\n",
       "      <td>Jet Airways</td>\n",
       "      <td>Delhi</td>\n",
       "      <td>Cochin</td>\n",
       "      <td>DEL → LKO → BOM → COK</td>\n",
       "      <td>19h</td>\n",
       "      <td>2 stops</td>\n",
       "      <td>No info</td>\n",
       "      <td>13882</td>\n",
       "      <td>6</td>\n",
       "      <td>9</td>\n",
       "      <td>9</td>\n",
       "      <td>25</td>\n",
       "      <td>4</td>\n",
       "      <td>25</td>\n",
       "    </tr>\n",
       "    <tr>\n",
       "      <th>3</th>\n",
       "      <td>IndiGo</td>\n",
       "      <td>Kolkata</td>\n",
       "      <td>Banglore</td>\n",
       "      <td>CCU → NAG → BLR</td>\n",
       "      <td>5h 25m</td>\n",
       "      <td>1 stop</td>\n",
       "      <td>No info</td>\n",
       "      <td>6218</td>\n",
       "      <td>5</td>\n",
       "      <td>12</td>\n",
       "      <td>18</td>\n",
       "      <td>5</td>\n",
       "      <td>23</td>\n",
       "      <td>30</td>\n",
       "    </tr>\n",
       "    <tr>\n",
       "      <th>4</th>\n",
       "      <td>IndiGo</td>\n",
       "      <td>Banglore</td>\n",
       "      <td>New Delhi</td>\n",
       "      <td>BLR → NAG → DEL</td>\n",
       "      <td>4h 45m</td>\n",
       "      <td>1 stop</td>\n",
       "      <td>No info</td>\n",
       "      <td>13302</td>\n",
       "      <td>3</td>\n",
       "      <td>1</td>\n",
       "      <td>16</td>\n",
       "      <td>50</td>\n",
       "      <td>21</td>\n",
       "      <td>35</td>\n",
       "    </tr>\n",
       "  </tbody>\n",
       "</table>\n",
       "</div>"
      ],
      "text/plain": [
       "       airline    source destination                  route duration  \\\n",
       "0       IndiGo  Banglore   New Delhi              BLR → DEL   2h 50m   \n",
       "1    Air India   Kolkata    Banglore  CCU → IXR → BBI → BLR   7h 25m   \n",
       "2  Jet Airways     Delhi      Cochin  DEL → LKO → BOM → COK      19h   \n",
       "3       IndiGo   Kolkata    Banglore        CCU → NAG → BLR   5h 25m   \n",
       "4       IndiGo  Banglore   New Delhi        BLR → NAG → DEL   4h 45m   \n",
       "\n",
       "  total_stops additional_info  price  day_of_journey  month_of_journey  \\\n",
       "0    non-stop         No info   3897              24                 3   \n",
       "1     2 stops         No info   7662               5                 1   \n",
       "2     2 stops         No info  13882               6                 9   \n",
       "3      1 stop         No info   6218               5                12   \n",
       "4      1 stop         No info  13302               3                 1   \n",
       "\n",
       "   dep_time_hour  dep_time_minute  arrival_time_hour  arrival_time_minute  \n",
       "0             22               20                  1                   10  \n",
       "1              5               50                 13                   15  \n",
       "2              9               25                  4                   25  \n",
       "3             18                5                 23                   30  \n",
       "4             16               50                 21                   35  "
      ]
     },
     "execution_count": 20,
     "metadata": {},
     "output_type": "execute_result"
    }
   ],
   "source": [
    "df.head()"
   ]
  },
  {
   "attachments": {},
   "cell_type": "markdown",
   "metadata": {},
   "source": [
    "Now we will apply pre-processing on the duration column by separating duration hours and minutes."
   ]
  },
  {
   "cell_type": "code",
   "execution_count": 21,
   "metadata": {},
   "outputs": [],
   "source": [
    "# Create a list of duration column\n",
    "duration = list(df['duration'])\n",
    "\n",
    "for i in range(len(duration)):\n",
    "  if len(duration[i].split(' ')) == 2:  # Check if duration contains only hour\n",
    "    pass\n",
    "  else:\n",
    "    duration[i] = duration[i] + ' 0m' # Add 0 minute"
   ]
  },
  {
   "cell_type": "code",
   "execution_count": 22,
   "metadata": {},
   "outputs": [],
   "source": [
    "df['duration'] = duration"
   ]
  },
  {
   "cell_type": "code",
   "execution_count": 23,
   "metadata": {},
   "outputs": [
    {
     "data": {
      "text/html": [
       "<div>\n",
       "<style scoped>\n",
       "    .dataframe tbody tr th:only-of-type {\n",
       "        vertical-align: middle;\n",
       "    }\n",
       "\n",
       "    .dataframe tbody tr th {\n",
       "        vertical-align: top;\n",
       "    }\n",
       "\n",
       "    .dataframe thead th {\n",
       "        text-align: right;\n",
       "    }\n",
       "</style>\n",
       "<table border=\"1\" class=\"dataframe\">\n",
       "  <thead>\n",
       "    <tr style=\"text-align: right;\">\n",
       "      <th></th>\n",
       "      <th>airline</th>\n",
       "      <th>source</th>\n",
       "      <th>destination</th>\n",
       "      <th>route</th>\n",
       "      <th>duration</th>\n",
       "      <th>total_stops</th>\n",
       "      <th>additional_info</th>\n",
       "      <th>price</th>\n",
       "      <th>day_of_journey</th>\n",
       "      <th>month_of_journey</th>\n",
       "      <th>dep_time_hour</th>\n",
       "      <th>dep_time_minute</th>\n",
       "      <th>arrival_time_hour</th>\n",
       "      <th>arrival_time_minute</th>\n",
       "    </tr>\n",
       "  </thead>\n",
       "  <tbody>\n",
       "    <tr>\n",
       "      <th>0</th>\n",
       "      <td>IndiGo</td>\n",
       "      <td>Banglore</td>\n",
       "      <td>New Delhi</td>\n",
       "      <td>BLR → DEL</td>\n",
       "      <td>2h 50m</td>\n",
       "      <td>non-stop</td>\n",
       "      <td>No info</td>\n",
       "      <td>3897</td>\n",
       "      <td>24</td>\n",
       "      <td>3</td>\n",
       "      <td>22</td>\n",
       "      <td>20</td>\n",
       "      <td>1</td>\n",
       "      <td>10</td>\n",
       "    </tr>\n",
       "    <tr>\n",
       "      <th>1</th>\n",
       "      <td>Air India</td>\n",
       "      <td>Kolkata</td>\n",
       "      <td>Banglore</td>\n",
       "      <td>CCU → IXR → BBI → BLR</td>\n",
       "      <td>7h 25m</td>\n",
       "      <td>2 stops</td>\n",
       "      <td>No info</td>\n",
       "      <td>7662</td>\n",
       "      <td>5</td>\n",
       "      <td>1</td>\n",
       "      <td>5</td>\n",
       "      <td>50</td>\n",
       "      <td>13</td>\n",
       "      <td>15</td>\n",
       "    </tr>\n",
       "    <tr>\n",
       "      <th>2</th>\n",
       "      <td>Jet Airways</td>\n",
       "      <td>Delhi</td>\n",
       "      <td>Cochin</td>\n",
       "      <td>DEL → LKO → BOM → COK</td>\n",
       "      <td>19h 0m</td>\n",
       "      <td>2 stops</td>\n",
       "      <td>No info</td>\n",
       "      <td>13882</td>\n",
       "      <td>6</td>\n",
       "      <td>9</td>\n",
       "      <td>9</td>\n",
       "      <td>25</td>\n",
       "      <td>4</td>\n",
       "      <td>25</td>\n",
       "    </tr>\n",
       "    <tr>\n",
       "      <th>3</th>\n",
       "      <td>IndiGo</td>\n",
       "      <td>Kolkata</td>\n",
       "      <td>Banglore</td>\n",
       "      <td>CCU → NAG → BLR</td>\n",
       "      <td>5h 25m</td>\n",
       "      <td>1 stop</td>\n",
       "      <td>No info</td>\n",
       "      <td>6218</td>\n",
       "      <td>5</td>\n",
       "      <td>12</td>\n",
       "      <td>18</td>\n",
       "      <td>5</td>\n",
       "      <td>23</td>\n",
       "      <td>30</td>\n",
       "    </tr>\n",
       "    <tr>\n",
       "      <th>4</th>\n",
       "      <td>IndiGo</td>\n",
       "      <td>Banglore</td>\n",
       "      <td>New Delhi</td>\n",
       "      <td>BLR → NAG → DEL</td>\n",
       "      <td>4h 45m</td>\n",
       "      <td>1 stop</td>\n",
       "      <td>No info</td>\n",
       "      <td>13302</td>\n",
       "      <td>3</td>\n",
       "      <td>1</td>\n",
       "      <td>16</td>\n",
       "      <td>50</td>\n",
       "      <td>21</td>\n",
       "      <td>35</td>\n",
       "    </tr>\n",
       "  </tbody>\n",
       "</table>\n",
       "</div>"
      ],
      "text/plain": [
       "       airline    source destination                  route duration  \\\n",
       "0       IndiGo  Banglore   New Delhi              BLR → DEL   2h 50m   \n",
       "1    Air India   Kolkata    Banglore  CCU → IXR → BBI → BLR   7h 25m   \n",
       "2  Jet Airways     Delhi      Cochin  DEL → LKO → BOM → COK   19h 0m   \n",
       "3       IndiGo   Kolkata    Banglore        CCU → NAG → BLR   5h 25m   \n",
       "4       IndiGo  Banglore   New Delhi        BLR → NAG → DEL   4h 45m   \n",
       "\n",
       "  total_stops additional_info  price  day_of_journey  month_of_journey  \\\n",
       "0    non-stop         No info   3897              24                 3   \n",
       "1     2 stops         No info   7662               5                 1   \n",
       "2     2 stops         No info  13882               6                 9   \n",
       "3      1 stop         No info   6218               5                12   \n",
       "4      1 stop         No info  13302               3                 1   \n",
       "\n",
       "   dep_time_hour  dep_time_minute  arrival_time_hour  arrival_time_minute  \n",
       "0             22               20                  1                   10  \n",
       "1              5               50                 13                   15  \n",
       "2              9               25                  4                   25  \n",
       "3             18                5                 23                   30  \n",
       "4             16               50                 21                   35  "
      ]
     },
     "execution_count": 23,
     "metadata": {},
     "output_type": "execute_result"
    }
   ],
   "source": [
    "df.head()"
   ]
  },
  {
   "cell_type": "code",
   "execution_count": 24,
   "metadata": {},
   "outputs": [],
   "source": [
    "# Function to extract hour\n",
    "def hour(x):\n",
    "  return x.split(' ')[0][0:-1]\n",
    "\n",
    "# Function to extract minute\n",
    "def minute(x):\n",
    "  return x.split(' ')[1][0:-1]"
   ]
  },
  {
   "cell_type": "code",
   "execution_count": 25,
   "metadata": {},
   "outputs": [],
   "source": [
    "df['dur_hour'] = df['duration'].apply(hour)"
   ]
  },
  {
   "cell_type": "code",
   "execution_count": 26,
   "metadata": {},
   "outputs": [],
   "source": [
    "df['dur_minute'] = df['duration'].apply(minute)"
   ]
  },
  {
   "cell_type": "code",
   "execution_count": 27,
   "metadata": {},
   "outputs": [
    {
     "data": {
      "text/html": [
       "<div>\n",
       "<style scoped>\n",
       "    .dataframe tbody tr th:only-of-type {\n",
       "        vertical-align: middle;\n",
       "    }\n",
       "\n",
       "    .dataframe tbody tr th {\n",
       "        vertical-align: top;\n",
       "    }\n",
       "\n",
       "    .dataframe thead th {\n",
       "        text-align: right;\n",
       "    }\n",
       "</style>\n",
       "<table border=\"1\" class=\"dataframe\">\n",
       "  <thead>\n",
       "    <tr style=\"text-align: right;\">\n",
       "      <th></th>\n",
       "      <th>airline</th>\n",
       "      <th>source</th>\n",
       "      <th>destination</th>\n",
       "      <th>route</th>\n",
       "      <th>duration</th>\n",
       "      <th>total_stops</th>\n",
       "      <th>additional_info</th>\n",
       "      <th>price</th>\n",
       "      <th>day_of_journey</th>\n",
       "      <th>month_of_journey</th>\n",
       "      <th>dep_time_hour</th>\n",
       "      <th>dep_time_minute</th>\n",
       "      <th>arrival_time_hour</th>\n",
       "      <th>arrival_time_minute</th>\n",
       "      <th>dur_hour</th>\n",
       "      <th>dur_minute</th>\n",
       "    </tr>\n",
       "  </thead>\n",
       "  <tbody>\n",
       "    <tr>\n",
       "      <th>0</th>\n",
       "      <td>IndiGo</td>\n",
       "      <td>Banglore</td>\n",
       "      <td>New Delhi</td>\n",
       "      <td>BLR → DEL</td>\n",
       "      <td>2h 50m</td>\n",
       "      <td>non-stop</td>\n",
       "      <td>No info</td>\n",
       "      <td>3897</td>\n",
       "      <td>24</td>\n",
       "      <td>3</td>\n",
       "      <td>22</td>\n",
       "      <td>20</td>\n",
       "      <td>1</td>\n",
       "      <td>10</td>\n",
       "      <td>2</td>\n",
       "      <td>50</td>\n",
       "    </tr>\n",
       "    <tr>\n",
       "      <th>1</th>\n",
       "      <td>Air India</td>\n",
       "      <td>Kolkata</td>\n",
       "      <td>Banglore</td>\n",
       "      <td>CCU → IXR → BBI → BLR</td>\n",
       "      <td>7h 25m</td>\n",
       "      <td>2 stops</td>\n",
       "      <td>No info</td>\n",
       "      <td>7662</td>\n",
       "      <td>5</td>\n",
       "      <td>1</td>\n",
       "      <td>5</td>\n",
       "      <td>50</td>\n",
       "      <td>13</td>\n",
       "      <td>15</td>\n",
       "      <td>7</td>\n",
       "      <td>25</td>\n",
       "    </tr>\n",
       "    <tr>\n",
       "      <th>2</th>\n",
       "      <td>Jet Airways</td>\n",
       "      <td>Delhi</td>\n",
       "      <td>Cochin</td>\n",
       "      <td>DEL → LKO → BOM → COK</td>\n",
       "      <td>19h 0m</td>\n",
       "      <td>2 stops</td>\n",
       "      <td>No info</td>\n",
       "      <td>13882</td>\n",
       "      <td>6</td>\n",
       "      <td>9</td>\n",
       "      <td>9</td>\n",
       "      <td>25</td>\n",
       "      <td>4</td>\n",
       "      <td>25</td>\n",
       "      <td>19</td>\n",
       "      <td>0</td>\n",
       "    </tr>\n",
       "    <tr>\n",
       "      <th>3</th>\n",
       "      <td>IndiGo</td>\n",
       "      <td>Kolkata</td>\n",
       "      <td>Banglore</td>\n",
       "      <td>CCU → NAG → BLR</td>\n",
       "      <td>5h 25m</td>\n",
       "      <td>1 stop</td>\n",
       "      <td>No info</td>\n",
       "      <td>6218</td>\n",
       "      <td>5</td>\n",
       "      <td>12</td>\n",
       "      <td>18</td>\n",
       "      <td>5</td>\n",
       "      <td>23</td>\n",
       "      <td>30</td>\n",
       "      <td>5</td>\n",
       "      <td>25</td>\n",
       "    </tr>\n",
       "    <tr>\n",
       "      <th>4</th>\n",
       "      <td>IndiGo</td>\n",
       "      <td>Banglore</td>\n",
       "      <td>New Delhi</td>\n",
       "      <td>BLR → NAG → DEL</td>\n",
       "      <td>4h 45m</td>\n",
       "      <td>1 stop</td>\n",
       "      <td>No info</td>\n",
       "      <td>13302</td>\n",
       "      <td>3</td>\n",
       "      <td>1</td>\n",
       "      <td>16</td>\n",
       "      <td>50</td>\n",
       "      <td>21</td>\n",
       "      <td>35</td>\n",
       "      <td>4</td>\n",
       "      <td>45</td>\n",
       "    </tr>\n",
       "  </tbody>\n",
       "</table>\n",
       "</div>"
      ],
      "text/plain": [
       "       airline    source destination                  route duration  \\\n",
       "0       IndiGo  Banglore   New Delhi              BLR → DEL   2h 50m   \n",
       "1    Air India   Kolkata    Banglore  CCU → IXR → BBI → BLR   7h 25m   \n",
       "2  Jet Airways     Delhi      Cochin  DEL → LKO → BOM → COK   19h 0m   \n",
       "3       IndiGo   Kolkata    Banglore        CCU → NAG → BLR   5h 25m   \n",
       "4       IndiGo  Banglore   New Delhi        BLR → NAG → DEL   4h 45m   \n",
       "\n",
       "  total_stops additional_info  price  day_of_journey  month_of_journey  \\\n",
       "0    non-stop         No info   3897              24                 3   \n",
       "1     2 stops         No info   7662               5                 1   \n",
       "2     2 stops         No info  13882               6                 9   \n",
       "3      1 stop         No info   6218               5                12   \n",
       "4      1 stop         No info  13302               3                 1   \n",
       "\n",
       "   dep_time_hour  dep_time_minute  arrival_time_hour  arrival_time_minute  \\\n",
       "0             22               20                  1                   10   \n",
       "1              5               50                 13                   15   \n",
       "2              9               25                  4                   25   \n",
       "3             18                5                 23                   30   \n",
       "4             16               50                 21                   35   \n",
       "\n",
       "  dur_hour dur_minute  \n",
       "0        2         50  \n",
       "1        7         25  \n",
       "2       19          0  \n",
       "3        5         25  \n",
       "4        4         45  "
      ]
     },
     "execution_count": 27,
     "metadata": {},
     "output_type": "execute_result"
    }
   ],
   "source": [
    "df.head()"
   ]
  },
  {
   "cell_type": "code",
   "execution_count": 28,
   "metadata": {},
   "outputs": [],
   "source": [
    "drop_col(df, 'duration')"
   ]
  },
  {
   "cell_type": "code",
   "execution_count": 29,
   "metadata": {},
   "outputs": [
    {
     "data": {
      "text/plain": [
       "airline                object\n",
       "source                 object\n",
       "destination            object\n",
       "route                  object\n",
       "total_stops            object\n",
       "additional_info        object\n",
       "price                   int64\n",
       "day_of_journey          int64\n",
       "month_of_journey        int64\n",
       "dep_time_hour           int64\n",
       "dep_time_minute         int64\n",
       "arrival_time_hour       int64\n",
       "arrival_time_minute     int64\n",
       "dur_hour               object\n",
       "dur_minute             object\n",
       "dtype: object"
      ]
     },
     "execution_count": 29,
     "metadata": {},
     "output_type": "execute_result"
    }
   ],
   "source": [
    "df.dtypes"
   ]
  },
  {
   "cell_type": "code",
   "execution_count": 30,
   "metadata": {},
   "outputs": [],
   "source": [
    "df['dur_hour'] = df['dur_hour'].astype(int)\n",
    "\n",
    "df['dur_minute'] = df['dur_minute'].astype(int)"
   ]
  },
  {
   "attachments": {},
   "cell_type": "markdown",
   "metadata": {},
   "source": [
    "#### Finding the categorical values"
   ]
  },
  {
   "cell_type": "code",
   "execution_count": 31,
   "metadata": {},
   "outputs": [
    {
     "data": {
      "text/plain": [
       "['airline', 'source', 'destination', 'route', 'total_stops', 'additional_info']"
      ]
     },
     "execution_count": 31,
     "metadata": {},
     "output_type": "execute_result"
    }
   ],
   "source": [
    "categorical_col = [column for column in df.columns if df[column].dtype=='object']\n",
    "categorical_col"
   ]
  },
  {
   "attachments": {},
   "cell_type": "markdown",
   "metadata": {},
   "source": [
    "#### Finding the continuous values"
   ]
  },
  {
   "cell_type": "code",
   "execution_count": 32,
   "metadata": {},
   "outputs": [
    {
     "data": {
      "text/plain": [
       "['price',\n",
       " 'day_of_journey',\n",
       " 'month_of_journey',\n",
       " 'dep_time_hour',\n",
       " 'dep_time_minute',\n",
       " 'arrival_time_hour',\n",
       " 'arrival_time_minute',\n",
       " 'dur_hour',\n",
       " 'dur_minute']"
      ]
     },
     "execution_count": 32,
     "metadata": {},
     "output_type": "execute_result"
    }
   ],
   "source": [
    "continuous_col = [column for column in df.columns if df[column].dtype!='object']\n",
    "continuous_col"
   ]
  },
  {
   "attachments": {},
   "cell_type": "markdown",
   "metadata": {},
   "source": [
    "## Handling Categorical Data"
   ]
  },
  {
   "attachments": {},
   "cell_type": "markdown",
   "metadata": {},
   "source": [
    "We will use two main Encoding Techniques to convert categorical data into some numerical format:\n",
    "\n",
    "1. Nominal data - classified without a normal order or rank\n",
    "\n",
    "2. Ordinal data - has a predetermined or natural order"
   ]
  },
  {
   "cell_type": "code",
   "execution_count": 33,
   "metadata": {},
   "outputs": [],
   "source": [
    "categorical = df[categorical_col]"
   ]
  },
  {
   "cell_type": "code",
   "execution_count": 34,
   "metadata": {},
   "outputs": [
    {
     "data": {
      "text/html": [
       "<div>\n",
       "<style scoped>\n",
       "    .dataframe tbody tr th:only-of-type {\n",
       "        vertical-align: middle;\n",
       "    }\n",
       "\n",
       "    .dataframe tbody tr th {\n",
       "        vertical-align: top;\n",
       "    }\n",
       "\n",
       "    .dataframe thead th {\n",
       "        text-align: right;\n",
       "    }\n",
       "</style>\n",
       "<table border=\"1\" class=\"dataframe\">\n",
       "  <thead>\n",
       "    <tr style=\"text-align: right;\">\n",
       "      <th></th>\n",
       "      <th>airline</th>\n",
       "      <th>source</th>\n",
       "      <th>destination</th>\n",
       "      <th>route</th>\n",
       "      <th>total_stops</th>\n",
       "      <th>additional_info</th>\n",
       "    </tr>\n",
       "  </thead>\n",
       "  <tbody>\n",
       "    <tr>\n",
       "      <th>0</th>\n",
       "      <td>IndiGo</td>\n",
       "      <td>Banglore</td>\n",
       "      <td>New Delhi</td>\n",
       "      <td>BLR → DEL</td>\n",
       "      <td>non-stop</td>\n",
       "      <td>No info</td>\n",
       "    </tr>\n",
       "    <tr>\n",
       "      <th>1</th>\n",
       "      <td>Air India</td>\n",
       "      <td>Kolkata</td>\n",
       "      <td>Banglore</td>\n",
       "      <td>CCU → IXR → BBI → BLR</td>\n",
       "      <td>2 stops</td>\n",
       "      <td>No info</td>\n",
       "    </tr>\n",
       "    <tr>\n",
       "      <th>2</th>\n",
       "      <td>Jet Airways</td>\n",
       "      <td>Delhi</td>\n",
       "      <td>Cochin</td>\n",
       "      <td>DEL → LKO → BOM → COK</td>\n",
       "      <td>2 stops</td>\n",
       "      <td>No info</td>\n",
       "    </tr>\n",
       "    <tr>\n",
       "      <th>3</th>\n",
       "      <td>IndiGo</td>\n",
       "      <td>Kolkata</td>\n",
       "      <td>Banglore</td>\n",
       "      <td>CCU → NAG → BLR</td>\n",
       "      <td>1 stop</td>\n",
       "      <td>No info</td>\n",
       "    </tr>\n",
       "    <tr>\n",
       "      <th>4</th>\n",
       "      <td>IndiGo</td>\n",
       "      <td>Banglore</td>\n",
       "      <td>New Delhi</td>\n",
       "      <td>BLR → NAG → DEL</td>\n",
       "      <td>1 stop</td>\n",
       "      <td>No info</td>\n",
       "    </tr>\n",
       "  </tbody>\n",
       "</table>\n",
       "</div>"
      ],
      "text/plain": [
       "       airline    source destination                  route total_stops  \\\n",
       "0       IndiGo  Banglore   New Delhi              BLR → DEL    non-stop   \n",
       "1    Air India   Kolkata    Banglore  CCU → IXR → BBI → BLR     2 stops   \n",
       "2  Jet Airways     Delhi      Cochin  DEL → LKO → BOM → COK     2 stops   \n",
       "3       IndiGo   Kolkata    Banglore        CCU → NAG → BLR      1 stop   \n",
       "4       IndiGo  Banglore   New Delhi        BLR → NAG → DEL      1 stop   \n",
       "\n",
       "  additional_info  \n",
       "0         No info  \n",
       "1         No info  \n",
       "2         No info  \n",
       "3         No info  \n",
       "4         No info  "
      ]
     },
     "execution_count": 34,
     "metadata": {},
     "output_type": "execute_result"
    }
   ],
   "source": [
    "categorical.head()"
   ]
  },
  {
   "cell_type": "code",
   "execution_count": 35,
   "metadata": {},
   "outputs": [],
   "source": [
    "# Find the rows that contain the specific string\n",
    "rows_to_drop = categorical[categorical[\"airline\"].str.contains(\"Trujet\")].index\n",
    "\n",
    "# Drop the rows\n",
    "categorical = categorical.drop(index=rows_to_drop)"
   ]
  },
  {
   "cell_type": "code",
   "execution_count": 36,
   "metadata": {},
   "outputs": [
    {
     "data": {
      "text/plain": [
       "Jet Airways                          3849\n",
       "IndiGo                               2053\n",
       "Air India                            1751\n",
       "Multiple carriers                    1196\n",
       "SpiceJet                              818\n",
       "Vistara                               479\n",
       "Air Asia                              319\n",
       "GoAir                                 194\n",
       "Multiple carriers Premium economy      13\n",
       "Jet Airways Business                    6\n",
       "Vistara Premium economy                 3\n",
       "Name: airline, dtype: int64"
      ]
     },
     "execution_count": 36,
     "metadata": {},
     "output_type": "execute_result"
    }
   ],
   "source": [
    "categorical['airline'].value_counts()"
   ]
  },
  {
   "cell_type": "code",
   "execution_count": 37,
   "metadata": {},
   "outputs": [],
   "source": [
    "# Function to format money tick labels\n",
    "def format_tick_labels(tick_labels):\n",
    "    formatted_tick_labels = []\n",
    "    for label in tick_labels:\n",
    "        formatted_label = \"$\"\n",
    "        label_str = str(label)\n",
    "        for i, character in enumerate(reversed(label_str)):\n",
    "            if i > 0 and i % 3 == 0:\n",
    "                formatted_label += \",\"\n",
    "            formatted_label += character\n",
    "        formatted_tick_labels.append(formatted_label[::-1])\n",
    "    return formatted_tick_labels"
   ]
  },
  {
   "cell_type": "code",
   "execution_count": 38,
   "metadata": {},
   "outputs": [],
   "source": [
    "import textwrap\n",
    "\n",
    "# Function to wrap long xtick labels \n",
    "def wrap_labels(ax, width, break_long_words=False):\n",
    "  labels = []\n",
    "  for label in ax.get_xticklabels():\n",
    "      text = label.get_text()\n",
    "      labels.append(textwrap.fill(text, width=width,\n",
    "                    break_long_words=break_long_words))\n",
    "  ax.set_xticklabels(labels, rotation=0)"
   ]
  },
  {
   "cell_type": "code",
   "execution_count": 39,
   "metadata": {},
   "outputs": [
    {
     "data": {
      "image/png": "[encoded data removed]",
      "text/plain": [
       "<Figure size 1000x500 with 1 Axes>"
      ]
     },
     "metadata": {},
     "output_type": "display_data"
    }
   ],
   "source": [
    "# Create plot\n",
    "plt.figure(figsize=(10, 5))\n",
    "ax = sns.barplot(x='airline', y='price', data=df.sort_values('price', ascending=False), errorbar=None)\n",
    "\n",
    "ax.set_title('Airline vs Price Analysis', fontsize=16, loc='left')\n",
    "ax.set_xlabel('Airline', fontsize=14)\n",
    "ax.set_ylabel('Price (USD)', fontsize=14)\n",
    "\n",
    "# Extract the tick labels from the dataframe\n",
    "# tick_labels = df['price'].tolist()\n",
    "\n",
    "# Format tick labels\n",
    "tick_labels = [0, 10000, 20000, 30000, 40000, 50000, 60000]\n",
    "formatted_tick_labels = format_tick_labels(tick_labels)\n",
    "\n",
    "# Set the tick labels\n",
    "ax.set_yticklabels(formatted_tick_labels)\n",
    "\n",
    "# Call the function\n",
    "wrap_labels(ax, 10)\n",
    "\n",
    "plt.show()"
   ]
  },
  {
   "attachments": {},
   "cell_type": "markdown",
   "metadata": {},
   "source": [
    "From the graph we can clearly see that Jet Airways Business have the highest ticket prices, whereas SpiceJet have the lowest ticket prices."
   ]
  },
  {
   "cell_type": "code",
   "execution_count": 40,
   "metadata": {},
   "outputs": [
    {
     "data": {
      "image/png": "[encoded data removed]",
      "text/plain": [
       "<Figure size 1000x500 with 1 Axes>"
      ]
     },
     "metadata": {},
     "output_type": "display_data"
    }
   ],
   "source": [
    "plt.figure(figsize=(10, 5))\n",
    "ax = sns.barplot(x='total_stops', y='price', data=df.sort_values('price', ascending=False), errorbar=None)\n",
    "ax.set_title('Total Stops vs Price Analysis', fontsize=16, loc='left')\n",
    "ax.set_xlabel('Total Stops', fontsize=14)\n",
    "ax.set_ylabel('Price', fontsize=14)\n",
    "\n",
    "\n",
    "# Format tick labels\n",
    "tick_labels = [0, 10000, 20000, 30000, 40000, 50000, 60000, 70000, 80000, 90000]\n",
    "formatted_tick_labels = format_tick_labels(tick_labels)\n",
    "\n",
    "# Set the tick labels\n",
    "ax.set_yticklabels(formatted_tick_labels)\n",
    "\n",
    "plt.show()"
   ]
  },
  {
   "attachments": {},
   "cell_type": "markdown",
   "metadata": {},
   "source": [
    "From the graph, we can see how the tickets prices increase as the number of stops increase."
   ]
  },
  {
   "attachments": {},
   "cell_type": "markdown",
   "metadata": {},
   "source": [
    "Most machine learning algorithms cannot work with categorical data and needs to be converted into numerical data. To deal with this issue, we will use *One Hot Encoding* technique - where the categorical parameters will prepare separate columns."
   ]
  },
  {
   "cell_type": "code",
   "execution_count": 41,
   "metadata": {},
   "outputs": [],
   "source": [
    "# As airlines is Nominal Categorical data we will perform OneHotEncoding\n",
    "airline = pd.get_dummies(categorical['airline'], drop_first=True)"
   ]
  },
  {
   "cell_type": "code",
   "execution_count": 42,
   "metadata": {},
   "outputs": [
    {
     "data": {
      "text/html": [
       "<div>\n",
       "<style scoped>\n",
       "    .dataframe tbody tr th:only-of-type {\n",
       "        vertical-align: middle;\n",
       "    }\n",
       "\n",
       "    .dataframe tbody tr th {\n",
       "        vertical-align: top;\n",
       "    }\n",
       "\n",
       "    .dataframe thead th {\n",
       "        text-align: right;\n",
       "    }\n",
       "</style>\n",
       "<table border=\"1\" class=\"dataframe\">\n",
       "  <thead>\n",
       "    <tr style=\"text-align: right;\">\n",
       "      <th></th>\n",
       "      <th>Air India</th>\n",
       "      <th>GoAir</th>\n",
       "      <th>IndiGo</th>\n",
       "      <th>Jet Airways</th>\n",
       "      <th>Jet Airways Business</th>\n",
       "      <th>Multiple carriers</th>\n",
       "      <th>Multiple carriers Premium economy</th>\n",
       "      <th>SpiceJet</th>\n",
       "      <th>Vistara</th>\n",
       "      <th>Vistara Premium economy</th>\n",
       "    </tr>\n",
       "  </thead>\n",
       "  <tbody>\n",
       "    <tr>\n",
       "      <th>0</th>\n",
       "      <td>0</td>\n",
       "      <td>0</td>\n",
       "      <td>1</td>\n",
       "      <td>0</td>\n",
       "      <td>0</td>\n",
       "      <td>0</td>\n",
       "      <td>0</td>\n",
       "      <td>0</td>\n",
       "      <td>0</td>\n",
       "      <td>0</td>\n",
       "    </tr>\n",
       "    <tr>\n",
       "      <th>1</th>\n",
       "      <td>1</td>\n",
       "      <td>0</td>\n",
       "      <td>0</td>\n",
       "      <td>0</td>\n",
       "      <td>0</td>\n",
       "      <td>0</td>\n",
       "      <td>0</td>\n",
       "      <td>0</td>\n",
       "      <td>0</td>\n",
       "      <td>0</td>\n",
       "    </tr>\n",
       "    <tr>\n",
       "      <th>2</th>\n",
       "      <td>0</td>\n",
       "      <td>0</td>\n",
       "      <td>0</td>\n",
       "      <td>1</td>\n",
       "      <td>0</td>\n",
       "      <td>0</td>\n",
       "      <td>0</td>\n",
       "      <td>0</td>\n",
       "      <td>0</td>\n",
       "      <td>0</td>\n",
       "    </tr>\n",
       "    <tr>\n",
       "      <th>3</th>\n",
       "      <td>0</td>\n",
       "      <td>0</td>\n",
       "      <td>1</td>\n",
       "      <td>0</td>\n",
       "      <td>0</td>\n",
       "      <td>0</td>\n",
       "      <td>0</td>\n",
       "      <td>0</td>\n",
       "      <td>0</td>\n",
       "      <td>0</td>\n",
       "    </tr>\n",
       "    <tr>\n",
       "      <th>4</th>\n",
       "      <td>0</td>\n",
       "      <td>0</td>\n",
       "      <td>1</td>\n",
       "      <td>0</td>\n",
       "      <td>0</td>\n",
       "      <td>0</td>\n",
       "      <td>0</td>\n",
       "      <td>0</td>\n",
       "      <td>0</td>\n",
       "      <td>0</td>\n",
       "    </tr>\n",
       "  </tbody>\n",
       "</table>\n",
       "</div>"
      ],
      "text/plain": [
       "   Air India  GoAir  IndiGo  Jet Airways  Jet Airways Business  \\\n",
       "0          0      0       1            0                     0   \n",
       "1          1      0       0            0                     0   \n",
       "2          0      0       0            1                     0   \n",
       "3          0      0       1            0                     0   \n",
       "4          0      0       1            0                     0   \n",
       "\n",
       "   Multiple carriers  Multiple carriers Premium economy  SpiceJet  Vistara  \\\n",
       "0                  0                                  0         0        0   \n",
       "1                  0                                  0         0        0   \n",
       "2                  0                                  0         0        0   \n",
       "3                  0                                  0         0        0   \n",
       "4                  0                                  0         0        0   \n",
       "\n",
       "   Vistara Premium economy  \n",
       "0                        0  \n",
       "1                        0  \n",
       "2                        0  \n",
       "3                        0  \n",
       "4                        0  "
      ]
     },
     "execution_count": 42,
     "metadata": {},
     "output_type": "execute_result"
    }
   ],
   "source": [
    "airline.head()"
   ]
  },
  {
   "cell_type": "code",
   "execution_count": 43,
   "metadata": {},
   "outputs": [
    {
     "data": {
      "text/plain": [
       "Delhi       4536\n",
       "Kolkata     2871\n",
       "Banglore    2197\n",
       "Mumbai       696\n",
       "Chennai      381\n",
       "Name: source, dtype: int64"
      ]
     },
     "execution_count": 43,
     "metadata": {},
     "output_type": "execute_result"
    }
   ],
   "source": [
    "categorical['source'].value_counts()"
   ]
  },
  {
   "cell_type": "code",
   "execution_count": 44,
   "metadata": {},
   "outputs": [
    {
     "data": {
      "image/png": "[encoded data removed]",
      "text/plain": [
       "<Figure size 800x600 with 1 Axes>"
      ]
     },
     "metadata": {},
     "output_type": "display_data"
    }
   ],
   "source": [
    "plt.figure(figsize=(8, 6))\n",
    "ax = sns.barplot(x='source', y='price', data=df.sort_values('price', ascending=False), errorbar=None)\n",
    "ax.set_title('Source vs Price', fontsize=16, loc='left')\n",
    "ax.set_xlabel('City of Departure', fontsize=14)\n",
    "ax.set_ylabel('Price', fontsize=14)\n",
    "\n",
    "\n",
    "# Format tick labels\n",
    "tick_labels = [0, 10000, 20000, 30000, 40000, 50000, 60000, 70000, 80000, 90000]\n",
    "formatted_tick_labels = format_tick_labels(tick_labels)\n",
    "\n",
    "# Set the tick labels\n",
    "ax.set_yticklabels(formatted_tick_labels)\n",
    "\n",
    "plt.show()"
   ]
  },
  {
   "attachments": {},
   "cell_type": "markdown",
   "metadata": {},
   "source": [
    "Delhi is the most expensive to fly to, whereas Chennai is the cheapest city to fly to."
   ]
  },
  {
   "cell_type": "code",
   "execution_count": 45,
   "metadata": {},
   "outputs": [
    {
     "data": {
      "text/html": [
       "<div>\n",
       "<style scoped>\n",
       "    .dataframe tbody tr th:only-of-type {\n",
       "        vertical-align: middle;\n",
       "    }\n",
       "\n",
       "    .dataframe tbody tr th {\n",
       "        vertical-align: top;\n",
       "    }\n",
       "\n",
       "    .dataframe thead th {\n",
       "        text-align: right;\n",
       "    }\n",
       "</style>\n",
       "<table border=\"1\" class=\"dataframe\">\n",
       "  <thead>\n",
       "    <tr style=\"text-align: right;\">\n",
       "      <th></th>\n",
       "      <th>Chennai</th>\n",
       "      <th>Delhi</th>\n",
       "      <th>Kolkata</th>\n",
       "      <th>Mumbai</th>\n",
       "    </tr>\n",
       "  </thead>\n",
       "  <tbody>\n",
       "    <tr>\n",
       "      <th>0</th>\n",
       "      <td>0</td>\n",
       "      <td>0</td>\n",
       "      <td>0</td>\n",
       "      <td>0</td>\n",
       "    </tr>\n",
       "    <tr>\n",
       "      <th>1</th>\n",
       "      <td>0</td>\n",
       "      <td>0</td>\n",
       "      <td>1</td>\n",
       "      <td>0</td>\n",
       "    </tr>\n",
       "    <tr>\n",
       "      <th>2</th>\n",
       "      <td>0</td>\n",
       "      <td>1</td>\n",
       "      <td>0</td>\n",
       "      <td>0</td>\n",
       "    </tr>\n",
       "    <tr>\n",
       "      <th>3</th>\n",
       "      <td>0</td>\n",
       "      <td>0</td>\n",
       "      <td>1</td>\n",
       "      <td>0</td>\n",
       "    </tr>\n",
       "    <tr>\n",
       "      <th>4</th>\n",
       "      <td>0</td>\n",
       "      <td>0</td>\n",
       "      <td>0</td>\n",
       "      <td>0</td>\n",
       "    </tr>\n",
       "  </tbody>\n",
       "</table>\n",
       "</div>"
      ],
      "text/plain": [
       "   Chennai  Delhi  Kolkata  Mumbai\n",
       "0        0      0        0       0\n",
       "1        0      0        1       0\n",
       "2        0      1        0       0\n",
       "3        0      0        1       0\n",
       "4        0      0        0       0"
      ]
     },
     "execution_count": 45,
     "metadata": {},
     "output_type": "execute_result"
    }
   ],
   "source": [
    "# Encoding of souce column\n",
    "source = pd.get_dummies(categorical['source'], drop_first=True)\n",
    "source.head()"
   ]
  },
  {
   "cell_type": "code",
   "execution_count": 46,
   "metadata": {},
   "outputs": [
    {
     "data": {
      "text/plain": [
       "Cochin       4536\n",
       "Banglore     2871\n",
       "Delhi        1265\n",
       "New Delhi     932\n",
       "Hyderabad     696\n",
       "Kolkata       381\n",
       "Name: destination, dtype: int64"
      ]
     },
     "execution_count": 46,
     "metadata": {},
     "output_type": "execute_result"
    }
   ],
   "source": [
    "categorical['destination'].value_counts()"
   ]
  },
  {
   "cell_type": "code",
   "execution_count": 47,
   "metadata": {},
   "outputs": [
    {
     "data": {
      "image/png": "[encoded data removed]",
      "text/plain": [
       "<Figure size 800x600 with 1 Axes>"
      ]
     },
     "metadata": {},
     "output_type": "display_data"
    }
   ],
   "source": [
    "plt.figure(figsize=(8, 6))\n",
    "ax = sns.barplot(x='destination', y='price', data=df.sort_values('price', ascending=False), errorbar=None)\n",
    "ax.set_title('Destination vs Price', fontsize=16, loc='left')\n",
    "ax.set_xlabel('Destination', fontsize=14)\n",
    "ax.set_ylabel('Price', fontsize=14)\n",
    "\n",
    "\n",
    "# Format tick labels\n",
    "tick_labels = [0, 2000, 4000, 6000, 8000, 10000, 12000]\n",
    "formatted_tick_labels = format_tick_labels(tick_labels)\n",
    "\n",
    "# Set the tick labels\n",
    "ax.set_yticklabels(formatted_tick_labels)\n",
    "\n",
    "plt.show()"
   ]
  },
  {
   "attachments": {},
   "cell_type": "markdown",
   "metadata": {},
   "source": [
    "New Delhi is the most expensive destination to fly in to, while Kolkata is the cheapest destination to fly in to. "
   ]
  },
  {
   "cell_type": "code",
   "execution_count": 48,
   "metadata": {},
   "outputs": [
    {
     "data": {
      "text/html": [
       "<div>\n",
       "<style scoped>\n",
       "    .dataframe tbody tr th:only-of-type {\n",
       "        vertical-align: middle;\n",
       "    }\n",
       "\n",
       "    .dataframe tbody tr th {\n",
       "        vertical-align: top;\n",
       "    }\n",
       "\n",
       "    .dataframe thead th {\n",
       "        text-align: right;\n",
       "    }\n",
       "</style>\n",
       "<table border=\"1\" class=\"dataframe\">\n",
       "  <thead>\n",
       "    <tr style=\"text-align: right;\">\n",
       "      <th></th>\n",
       "      <th>Cochin</th>\n",
       "      <th>Delhi</th>\n",
       "      <th>Hyderabad</th>\n",
       "      <th>Kolkata</th>\n",
       "      <th>New Delhi</th>\n",
       "    </tr>\n",
       "  </thead>\n",
       "  <tbody>\n",
       "    <tr>\n",
       "      <th>0</th>\n",
       "      <td>0</td>\n",
       "      <td>0</td>\n",
       "      <td>0</td>\n",
       "      <td>0</td>\n",
       "      <td>1</td>\n",
       "    </tr>\n",
       "    <tr>\n",
       "      <th>1</th>\n",
       "      <td>0</td>\n",
       "      <td>0</td>\n",
       "      <td>0</td>\n",
       "      <td>0</td>\n",
       "      <td>0</td>\n",
       "    </tr>\n",
       "    <tr>\n",
       "      <th>2</th>\n",
       "      <td>1</td>\n",
       "      <td>0</td>\n",
       "      <td>0</td>\n",
       "      <td>0</td>\n",
       "      <td>0</td>\n",
       "    </tr>\n",
       "    <tr>\n",
       "      <th>3</th>\n",
       "      <td>0</td>\n",
       "      <td>0</td>\n",
       "      <td>0</td>\n",
       "      <td>0</td>\n",
       "      <td>0</td>\n",
       "    </tr>\n",
       "    <tr>\n",
       "      <th>4</th>\n",
       "      <td>0</td>\n",
       "      <td>0</td>\n",
       "      <td>0</td>\n",
       "      <td>0</td>\n",
       "      <td>1</td>\n",
       "    </tr>\n",
       "  </tbody>\n",
       "</table>\n",
       "</div>"
      ],
      "text/plain": [
       "   Cochin  Delhi  Hyderabad  Kolkata  New Delhi\n",
       "0       0      0          0        0          1\n",
       "1       0      0          0        0          0\n",
       "2       1      0          0        0          0\n",
       "3       0      0          0        0          0\n",
       "4       0      0          0        0          1"
      ]
     },
     "execution_count": 48,
     "metadata": {},
     "output_type": "execute_result"
    }
   ],
   "source": [
    "# Encoding of destination column\n",
    "destination = pd.get_dummies(categorical['destination'], drop_first=True)\n",
    "destination.head()"
   ]
  },
  {
   "cell_type": "code",
   "execution_count": 49,
   "metadata": {},
   "outputs": [
    {
     "data": {
      "text/plain": [
       "DEL → BOM → COK          2376\n",
       "BLR → DEL                1552\n",
       "CCU → BOM → BLR           979\n",
       "CCU → BLR                 724\n",
       "BOM → HYD                 621\n",
       "                         ... \n",
       "CCU → RPR → HYD → BLR       1\n",
       "CCU → VTZ → BLR             1\n",
       "CCU → IXZ → MAA → BLR       1\n",
       "BOM → COK → MAA → HYD       1\n",
       "BOM → BBI → HYD             1\n",
       "Name: route, Length: 127, dtype: int64"
      ]
     },
     "execution_count": 49,
     "metadata": {},
     "output_type": "execute_result"
    }
   ],
   "source": [
    "categorical['route'].value_counts()"
   ]
  },
  {
   "cell_type": "code",
   "execution_count": 50,
   "metadata": {},
   "outputs": [],
   "source": [
    "categorical['route_1']=categorical['route'].str.split('→').str[0]\n",
    "categorical['route_2']=categorical['route'].str.split('→').str[1]\n",
    "categorical['route_3']=categorical['route'].str.split('→').str[2]\n",
    "categorical['route_4']=categorical['route'].str.split('→').str[3]\n",
    "categorical['route_5']=categorical['route'].str.split('→').str[4]"
   ]
  },
  {
   "cell_type": "code",
   "execution_count": 51,
   "metadata": {},
   "outputs": [
    {
     "data": {
      "text/html": [
       "<div>\n",
       "<style scoped>\n",
       "    .dataframe tbody tr th:only-of-type {\n",
       "        vertical-align: middle;\n",
       "    }\n",
       "\n",
       "    .dataframe tbody tr th {\n",
       "        vertical-align: top;\n",
       "    }\n",
       "\n",
       "    .dataframe thead th {\n",
       "        text-align: right;\n",
       "    }\n",
       "</style>\n",
       "<table border=\"1\" class=\"dataframe\">\n",
       "  <thead>\n",
       "    <tr style=\"text-align: right;\">\n",
       "      <th></th>\n",
       "      <th>airline</th>\n",
       "      <th>source</th>\n",
       "      <th>destination</th>\n",
       "      <th>route</th>\n",
       "      <th>total_stops</th>\n",
       "      <th>additional_info</th>\n",
       "      <th>route_1</th>\n",
       "      <th>route_2</th>\n",
       "      <th>route_3</th>\n",
       "      <th>route_4</th>\n",
       "      <th>route_5</th>\n",
       "    </tr>\n",
       "  </thead>\n",
       "  <tbody>\n",
       "    <tr>\n",
       "      <th>0</th>\n",
       "      <td>IndiGo</td>\n",
       "      <td>Banglore</td>\n",
       "      <td>New Delhi</td>\n",
       "      <td>BLR → DEL</td>\n",
       "      <td>non-stop</td>\n",
       "      <td>No info</td>\n",
       "      <td>BLR</td>\n",
       "      <td>DEL</td>\n",
       "      <td>NaN</td>\n",
       "      <td>NaN</td>\n",
       "      <td>NaN</td>\n",
       "    </tr>\n",
       "    <tr>\n",
       "      <th>1</th>\n",
       "      <td>Air India</td>\n",
       "      <td>Kolkata</td>\n",
       "      <td>Banglore</td>\n",
       "      <td>CCU → IXR → BBI → BLR</td>\n",
       "      <td>2 stops</td>\n",
       "      <td>No info</td>\n",
       "      <td>CCU</td>\n",
       "      <td>IXR</td>\n",
       "      <td>BBI</td>\n",
       "      <td>BLR</td>\n",
       "      <td>NaN</td>\n",
       "    </tr>\n",
       "    <tr>\n",
       "      <th>2</th>\n",
       "      <td>Jet Airways</td>\n",
       "      <td>Delhi</td>\n",
       "      <td>Cochin</td>\n",
       "      <td>DEL → LKO → BOM → COK</td>\n",
       "      <td>2 stops</td>\n",
       "      <td>No info</td>\n",
       "      <td>DEL</td>\n",
       "      <td>LKO</td>\n",
       "      <td>BOM</td>\n",
       "      <td>COK</td>\n",
       "      <td>NaN</td>\n",
       "    </tr>\n",
       "    <tr>\n",
       "      <th>3</th>\n",
       "      <td>IndiGo</td>\n",
       "      <td>Kolkata</td>\n",
       "      <td>Banglore</td>\n",
       "      <td>CCU → NAG → BLR</td>\n",
       "      <td>1 stop</td>\n",
       "      <td>No info</td>\n",
       "      <td>CCU</td>\n",
       "      <td>NAG</td>\n",
       "      <td>BLR</td>\n",
       "      <td>NaN</td>\n",
       "      <td>NaN</td>\n",
       "    </tr>\n",
       "    <tr>\n",
       "      <th>4</th>\n",
       "      <td>IndiGo</td>\n",
       "      <td>Banglore</td>\n",
       "      <td>New Delhi</td>\n",
       "      <td>BLR → NAG → DEL</td>\n",
       "      <td>1 stop</td>\n",
       "      <td>No info</td>\n",
       "      <td>BLR</td>\n",
       "      <td>NAG</td>\n",
       "      <td>DEL</td>\n",
       "      <td>NaN</td>\n",
       "      <td>NaN</td>\n",
       "    </tr>\n",
       "  </tbody>\n",
       "</table>\n",
       "</div>"
      ],
      "text/plain": [
       "       airline    source destination                  route total_stops  \\\n",
       "0       IndiGo  Banglore   New Delhi              BLR → DEL    non-stop   \n",
       "1    Air India   Kolkata    Banglore  CCU → IXR → BBI → BLR     2 stops   \n",
       "2  Jet Airways     Delhi      Cochin  DEL → LKO → BOM → COK     2 stops   \n",
       "3       IndiGo   Kolkata    Banglore        CCU → NAG → BLR      1 stop   \n",
       "4       IndiGo  Banglore   New Delhi        BLR → NAG → DEL      1 stop   \n",
       "\n",
       "  additional_info route_1 route_2 route_3 route_4 route_5  \n",
       "0         No info    BLR      DEL     NaN     NaN     NaN  \n",
       "1         No info    CCU     IXR     BBI      BLR     NaN  \n",
       "2         No info    DEL     LKO     BOM      COK     NaN  \n",
       "3         No info    CCU     NAG      BLR     NaN     NaN  \n",
       "4         No info    BLR     NAG      DEL     NaN     NaN  "
      ]
     },
     "execution_count": 51,
     "metadata": {},
     "output_type": "execute_result"
    }
   ],
   "source": [
    "categorical.head()"
   ]
  },
  {
   "cell_type": "code",
   "execution_count": 52,
   "metadata": {},
   "outputs": [],
   "source": [
    "drop_col(categorical, 'route')"
   ]
  },
  {
   "cell_type": "code",
   "execution_count": 53,
   "metadata": {},
   "outputs": [
    {
     "data": {
      "text/plain": [
       "airline                0\n",
       "source                 0\n",
       "destination            0\n",
       "total_stops            0\n",
       "additional_info        0\n",
       "route_1                0\n",
       "route_2                0\n",
       "route_3             3491\n",
       "route_4             9115\n",
       "route_5            10635\n",
       "dtype: int64"
      ]
     },
     "execution_count": 53,
     "metadata": {},
     "output_type": "execute_result"
    }
   ],
   "source": [
    "categorical.isnull().sum()"
   ]
  },
  {
   "cell_type": "code",
   "execution_count": 54,
   "metadata": {},
   "outputs": [
    {
     "data": {
      "text/plain": [
       "Index(['airline', 'source', 'destination', 'total_stops', 'additional_info',\n",
       "       'route_1', 'route_2', 'route_3', 'route_4', 'route_5'],\n",
       "      dtype='object')"
      ]
     },
     "execution_count": 54,
     "metadata": {},
     "output_type": "execute_result"
    }
   ],
   "source": [
    "categorical.columns"
   ]
  },
  {
   "attachments": {},
   "cell_type": "markdown",
   "metadata": {},
   "source": [
    "Since there are quite a few nulls in route_3, route_4 and route_5, so we will fill these in the None."
   ]
  },
  {
   "cell_type": "code",
   "execution_count": 55,
   "metadata": {},
   "outputs": [],
   "source": [
    "for i in ['route_3', 'route_4', 'route_5']:\n",
    "  categorical[i].fillna('None', inplace=True)"
   ]
  },
  {
   "cell_type": "code",
   "execution_count": 56,
   "metadata": {},
   "outputs": [
    {
     "data": {
      "text/plain": [
       "airline            0\n",
       "source             0\n",
       "destination        0\n",
       "total_stops        0\n",
       "additional_info    0\n",
       "route_1            0\n",
       "route_2            0\n",
       "route_3            0\n",
       "route_4            0\n",
       "route_5            0\n",
       "dtype: int64"
      ]
     },
     "execution_count": 56,
     "metadata": {},
     "output_type": "execute_result"
    }
   ],
   "source": [
    "categorical.isnull().sum()"
   ]
  },
  {
   "cell_type": "code",
   "execution_count": 57,
   "metadata": {},
   "outputs": [
    {
     "name": "stdout",
     "output_type": "stream",
     "text": [
      "airline has a total of 11 categories\n",
      "source has a total of 5 categories\n",
      "destination has a total of 6 categories\n",
      "total_stops has a total of 5 categories\n",
      "additional_info has a total of 10 categories\n",
      "route_1 has a total of 5 categories\n",
      "route_2 has a total of 44 categories\n",
      "route_3 has a total of 30 categories\n",
      "route_4 has a total of 14 categories\n",
      "route_5 has a total of 6 categories\n"
     ]
    }
   ],
   "source": [
    "for i in categorical.columns:\n",
    "  print('{} has a total of {} categories'.format(i, len(categorical[i].value_counts())))"
   ]
  },
  {
   "cell_type": "code",
   "execution_count": 58,
   "metadata": {},
   "outputs": [
    {
     "data": {
      "image/png": "[encoded data removed]",
      "text/plain": [
       "<Figure size 1000x500 with 1 Axes>"
      ]
     },
     "metadata": {},
     "output_type": "display_data"
    }
   ],
   "source": [
    "plt.figure(figsize=(10,5))\n",
    "ax = sns.barplot(x='arrival_time_hour', y='price', data=df, errorbar=None)\n",
    "ax.set_title('Arrival Time vs Price', fontsize=18, loc='left')\n",
    "ax.set_xlabel('Arrival time (hour)', fontsize=11)\n",
    "ax.set_ylabel('Price (USD)', fontsize=11)\n",
    "\n",
    "# Format tick labels\n",
    "tick_labels = [0, 2000, 4000, 6000, 8000, 10000, 12000, 14000, 16000]\n",
    "formatted_tick_labels = format_tick_labels(tick_labels)\n",
    "\n",
    "# Set the tick labels\n",
    "ax.set_yticklabels(formatted_tick_labels)\n",
    "\n",
    "plt.show()"
   ]
  },
  {
   "attachments": {},
   "cell_type": "markdown",
   "metadata": {},
   "source": [
    "The most expensive arrival time is at 5, while the cheapest arrival time is at 3."
   ]
  },
  {
   "cell_type": "code",
   "execution_count": 59,
   "metadata": {},
   "outputs": [],
   "source": [
    "from sklearn.preprocessing import LabelEncoder\n",
    "encoder = LabelEncoder()"
   ]
  },
  {
   "cell_type": "code",
   "execution_count": 60,
   "metadata": {},
   "outputs": [],
   "source": [
    "for i in ['route_1', 'route_2', 'route_3', 'route_4', 'route_5']:\n",
    "  categorical[i] = encoder.fit_transform(categorical[i])"
   ]
  },
  {
   "cell_type": "code",
   "execution_count": 61,
   "metadata": {},
   "outputs": [
    {
     "data": {
      "text/html": [
       "<div>\n",
       "<style scoped>\n",
       "    .dataframe tbody tr th:only-of-type {\n",
       "        vertical-align: middle;\n",
       "    }\n",
       "\n",
       "    .dataframe tbody tr th {\n",
       "        vertical-align: top;\n",
       "    }\n",
       "\n",
       "    .dataframe thead th {\n",
       "        text-align: right;\n",
       "    }\n",
       "</style>\n",
       "<table border=\"1\" class=\"dataframe\">\n",
       "  <thead>\n",
       "    <tr style=\"text-align: right;\">\n",
       "      <th></th>\n",
       "      <th>airline</th>\n",
       "      <th>source</th>\n",
       "      <th>destination</th>\n",
       "      <th>total_stops</th>\n",
       "      <th>additional_info</th>\n",
       "      <th>route_1</th>\n",
       "      <th>route_2</th>\n",
       "      <th>route_3</th>\n",
       "      <th>route_4</th>\n",
       "      <th>route_5</th>\n",
       "    </tr>\n",
       "  </thead>\n",
       "  <tbody>\n",
       "    <tr>\n",
       "      <th>0</th>\n",
       "      <td>IndiGo</td>\n",
       "      <td>Banglore</td>\n",
       "      <td>New Delhi</td>\n",
       "      <td>non-stop</td>\n",
       "      <td>No info</td>\n",
       "      <td>0</td>\n",
       "      <td>13</td>\n",
       "      <td>29</td>\n",
       "      <td>13</td>\n",
       "      <td>5</td>\n",
       "    </tr>\n",
       "    <tr>\n",
       "      <th>1</th>\n",
       "      <td>Air India</td>\n",
       "      <td>Kolkata</td>\n",
       "      <td>Banglore</td>\n",
       "      <td>2 stops</td>\n",
       "      <td>No info</td>\n",
       "      <td>2</td>\n",
       "      <td>25</td>\n",
       "      <td>1</td>\n",
       "      <td>3</td>\n",
       "      <td>5</td>\n",
       "    </tr>\n",
       "    <tr>\n",
       "      <th>2</th>\n",
       "      <td>Jet Airways</td>\n",
       "      <td>Delhi</td>\n",
       "      <td>Cochin</td>\n",
       "      <td>2 stops</td>\n",
       "      <td>No info</td>\n",
       "      <td>3</td>\n",
       "      <td>32</td>\n",
       "      <td>4</td>\n",
       "      <td>5</td>\n",
       "      <td>5</td>\n",
       "    </tr>\n",
       "    <tr>\n",
       "      <th>3</th>\n",
       "      <td>IndiGo</td>\n",
       "      <td>Kolkata</td>\n",
       "      <td>Banglore</td>\n",
       "      <td>1 stop</td>\n",
       "      <td>No info</td>\n",
       "      <td>2</td>\n",
       "      <td>34</td>\n",
       "      <td>3</td>\n",
       "      <td>13</td>\n",
       "      <td>5</td>\n",
       "    </tr>\n",
       "    <tr>\n",
       "      <th>4</th>\n",
       "      <td>IndiGo</td>\n",
       "      <td>Banglore</td>\n",
       "      <td>New Delhi</td>\n",
       "      <td>1 stop</td>\n",
       "      <td>No info</td>\n",
       "      <td>0</td>\n",
       "      <td>34</td>\n",
       "      <td>8</td>\n",
       "      <td>13</td>\n",
       "      <td>5</td>\n",
       "    </tr>\n",
       "  </tbody>\n",
       "</table>\n",
       "</div>"
      ],
      "text/plain": [
       "       airline    source destination total_stops additional_info  route_1  \\\n",
       "0       IndiGo  Banglore   New Delhi    non-stop         No info        0   \n",
       "1    Air India   Kolkata    Banglore     2 stops         No info        2   \n",
       "2  Jet Airways     Delhi      Cochin     2 stops         No info        3   \n",
       "3       IndiGo   Kolkata    Banglore      1 stop         No info        2   \n",
       "4       IndiGo  Banglore   New Delhi      1 stop         No info        0   \n",
       "\n",
       "   route_2  route_3  route_4  route_5  \n",
       "0       13       29       13        5  \n",
       "1       25        1        3        5  \n",
       "2       32        4        5        5  \n",
       "3       34        3       13        5  \n",
       "4       34        8       13        5  "
      ]
     },
     "execution_count": 61,
     "metadata": {},
     "output_type": "execute_result"
    }
   ],
   "source": [
    "categorical.head()"
   ]
  },
  {
   "cell_type": "code",
   "execution_count": 62,
   "metadata": {},
   "outputs": [],
   "source": [
    "drop_col(categorical, 'additional_info')"
   ]
  },
  {
   "cell_type": "code",
   "execution_count": 63,
   "metadata": {},
   "outputs": [
    {
     "data": {
      "text/plain": [
       "array(['non-stop', '2 stops', '1 stop', '3 stops', '4 stops'],\n",
       "      dtype=object)"
      ]
     },
     "execution_count": 63,
     "metadata": {},
     "output_type": "execute_result"
    }
   ],
   "source": [
    "categorical['total_stops'].unique()"
   ]
  },
  {
   "cell_type": "code",
   "execution_count": 64,
   "metadata": {},
   "outputs": [],
   "source": [
    "# Encoding Total Stops\n",
    "total_stops_dict = {'non-stop':0,'2 stops':2, '1 stop':1, '3 stops':3, '4 stops':4}\n",
    "categorical['total_stops'] = categorical['total_stops'].map(total_stops_dict)"
   ]
  },
  {
   "cell_type": "code",
   "execution_count": 65,
   "metadata": {},
   "outputs": [
    {
     "data": {
      "text/plain": [
       "0        0\n",
       "1        2\n",
       "2        2\n",
       "3        1\n",
       "4        1\n",
       "        ..\n",
       "10678    0\n",
       "10679    0\n",
       "10680    0\n",
       "10681    0\n",
       "10682    2\n",
       "Name: total_stops, Length: 10681, dtype: int64"
      ]
     },
     "execution_count": 65,
     "metadata": {},
     "output_type": "execute_result"
    }
   ],
   "source": [
    "categorical['total_stops']"
   ]
  },
  {
   "cell_type": "code",
   "execution_count": 66,
   "metadata": {},
   "outputs": [],
   "source": [
    "drop_col(categorical, 'source')\n",
    "drop_col(categorical, 'destination')\n",
    "drop_col(categorical, 'airline')"
   ]
  },
  {
   "attachments": {},
   "cell_type": "markdown",
   "metadata": {},
   "source": [
    "## Prepare Data for Modeling"
   ]
  },
  {
   "attachments": {},
   "cell_type": "markdown",
   "metadata": {},
   "source": [
    "Now that all the preprocessing is finished, we will now do the finishing touches to get the data ready for modeling."
   ]
  },
  {
   "cell_type": "code",
   "execution_count": 67,
   "metadata": {},
   "outputs": [],
   "source": [
    "final_df=pd.concat([categorical,airline,source,destination,df[continuous_col]],axis=1)"
   ]
  },
  {
   "cell_type": "code",
   "execution_count": 68,
   "metadata": {},
   "outputs": [
    {
     "data": {
      "text/html": [
       "<div>\n",
       "<style scoped>\n",
       "    .dataframe tbody tr th:only-of-type {\n",
       "        vertical-align: middle;\n",
       "    }\n",
       "\n",
       "    .dataframe tbody tr th {\n",
       "        vertical-align: top;\n",
       "    }\n",
       "\n",
       "    .dataframe thead th {\n",
       "        text-align: right;\n",
       "    }\n",
       "</style>\n",
       "<table border=\"1\" class=\"dataframe\">\n",
       "  <thead>\n",
       "    <tr style=\"text-align: right;\">\n",
       "      <th></th>\n",
       "      <th>total_stops</th>\n",
       "      <th>route_1</th>\n",
       "      <th>route_2</th>\n",
       "      <th>route_3</th>\n",
       "      <th>route_4</th>\n",
       "      <th>route_5</th>\n",
       "      <th>Air India</th>\n",
       "      <th>GoAir</th>\n",
       "      <th>IndiGo</th>\n",
       "      <th>Jet Airways</th>\n",
       "      <th>Jet Airways Business</th>\n",
       "      <th>Multiple carriers</th>\n",
       "      <th>Multiple carriers Premium economy</th>\n",
       "      <th>SpiceJet</th>\n",
       "      <th>Vistara</th>\n",
       "      <th>Vistara Premium economy</th>\n",
       "      <th>...</th>\n",
       "      <th>Kolkata</th>\n",
       "      <th>Mumbai</th>\n",
       "      <th>Cochin</th>\n",
       "      <th>Delhi</th>\n",
       "      <th>Hyderabad</th>\n",
       "      <th>Kolkata</th>\n",
       "      <th>New Delhi</th>\n",
       "      <th>price</th>\n",
       "      <th>day_of_journey</th>\n",
       "      <th>month_of_journey</th>\n",
       "      <th>dep_time_hour</th>\n",
       "      <th>dep_time_minute</th>\n",
       "      <th>arrival_time_hour</th>\n",
       "      <th>arrival_time_minute</th>\n",
       "      <th>dur_hour</th>\n",
       "      <th>dur_minute</th>\n",
       "    </tr>\n",
       "  </thead>\n",
       "  <tbody>\n",
       "    <tr>\n",
       "      <th>0</th>\n",
       "      <td>0.0</td>\n",
       "      <td>0.0</td>\n",
       "      <td>13.0</td>\n",
       "      <td>29.0</td>\n",
       "      <td>13.0</td>\n",
       "      <td>5.0</td>\n",
       "      <td>0.0</td>\n",
       "      <td>0.0</td>\n",
       "      <td>1.0</td>\n",
       "      <td>0.0</td>\n",
       "      <td>0.0</td>\n",
       "      <td>0.0</td>\n",
       "      <td>0.0</td>\n",
       "      <td>0.0</td>\n",
       "      <td>0.0</td>\n",
       "      <td>0.0</td>\n",
       "      <td>...</td>\n",
       "      <td>0.0</td>\n",
       "      <td>0.0</td>\n",
       "      <td>0.0</td>\n",
       "      <td>0.0</td>\n",
       "      <td>0.0</td>\n",
       "      <td>0.0</td>\n",
       "      <td>1.0</td>\n",
       "      <td>3897</td>\n",
       "      <td>24</td>\n",
       "      <td>3</td>\n",
       "      <td>22</td>\n",
       "      <td>20</td>\n",
       "      <td>1</td>\n",
       "      <td>10</td>\n",
       "      <td>2</td>\n",
       "      <td>50</td>\n",
       "    </tr>\n",
       "    <tr>\n",
       "      <th>1</th>\n",
       "      <td>2.0</td>\n",
       "      <td>2.0</td>\n",
       "      <td>25.0</td>\n",
       "      <td>1.0</td>\n",
       "      <td>3.0</td>\n",
       "      <td>5.0</td>\n",
       "      <td>1.0</td>\n",
       "      <td>0.0</td>\n",
       "      <td>0.0</td>\n",
       "      <td>0.0</td>\n",
       "      <td>0.0</td>\n",
       "      <td>0.0</td>\n",
       "      <td>0.0</td>\n",
       "      <td>0.0</td>\n",
       "      <td>0.0</td>\n",
       "      <td>0.0</td>\n",
       "      <td>...</td>\n",
       "      <td>1.0</td>\n",
       "      <td>0.0</td>\n",
       "      <td>0.0</td>\n",
       "      <td>0.0</td>\n",
       "      <td>0.0</td>\n",
       "      <td>0.0</td>\n",
       "      <td>0.0</td>\n",
       "      <td>7662</td>\n",
       "      <td>5</td>\n",
       "      <td>1</td>\n",
       "      <td>5</td>\n",
       "      <td>50</td>\n",
       "      <td>13</td>\n",
       "      <td>15</td>\n",
       "      <td>7</td>\n",
       "      <td>25</td>\n",
       "    </tr>\n",
       "    <tr>\n",
       "      <th>2</th>\n",
       "      <td>2.0</td>\n",
       "      <td>3.0</td>\n",
       "      <td>32.0</td>\n",
       "      <td>4.0</td>\n",
       "      <td>5.0</td>\n",
       "      <td>5.0</td>\n",
       "      <td>0.0</td>\n",
       "      <td>0.0</td>\n",
       "      <td>0.0</td>\n",
       "      <td>1.0</td>\n",
       "      <td>0.0</td>\n",
       "      <td>0.0</td>\n",
       "      <td>0.0</td>\n",
       "      <td>0.0</td>\n",
       "      <td>0.0</td>\n",
       "      <td>0.0</td>\n",
       "      <td>...</td>\n",
       "      <td>0.0</td>\n",
       "      <td>0.0</td>\n",
       "      <td>1.0</td>\n",
       "      <td>0.0</td>\n",
       "      <td>0.0</td>\n",
       "      <td>0.0</td>\n",
       "      <td>0.0</td>\n",
       "      <td>13882</td>\n",
       "      <td>6</td>\n",
       "      <td>9</td>\n",
       "      <td>9</td>\n",
       "      <td>25</td>\n",
       "      <td>4</td>\n",
       "      <td>25</td>\n",
       "      <td>19</td>\n",
       "      <td>0</td>\n",
       "    </tr>\n",
       "    <tr>\n",
       "      <th>3</th>\n",
       "      <td>1.0</td>\n",
       "      <td>2.0</td>\n",
       "      <td>34.0</td>\n",
       "      <td>3.0</td>\n",
       "      <td>13.0</td>\n",
       "      <td>5.0</td>\n",
       "      <td>0.0</td>\n",
       "      <td>0.0</td>\n",
       "      <td>1.0</td>\n",
       "      <td>0.0</td>\n",
       "      <td>0.0</td>\n",
       "      <td>0.0</td>\n",
       "      <td>0.0</td>\n",
       "      <td>0.0</td>\n",
       "      <td>0.0</td>\n",
       "      <td>0.0</td>\n",
       "      <td>...</td>\n",
       "      <td>1.0</td>\n",
       "      <td>0.0</td>\n",
       "      <td>0.0</td>\n",
       "      <td>0.0</td>\n",
       "      <td>0.0</td>\n",
       "      <td>0.0</td>\n",
       "      <td>0.0</td>\n",
       "      <td>6218</td>\n",
       "      <td>5</td>\n",
       "      <td>12</td>\n",
       "      <td>18</td>\n",
       "      <td>5</td>\n",
       "      <td>23</td>\n",
       "      <td>30</td>\n",
       "      <td>5</td>\n",
       "      <td>25</td>\n",
       "    </tr>\n",
       "    <tr>\n",
       "      <th>4</th>\n",
       "      <td>1.0</td>\n",
       "      <td>0.0</td>\n",
       "      <td>34.0</td>\n",
       "      <td>8.0</td>\n",
       "      <td>13.0</td>\n",
       "      <td>5.0</td>\n",
       "      <td>0.0</td>\n",
       "      <td>0.0</td>\n",
       "      <td>1.0</td>\n",
       "      <td>0.0</td>\n",
       "      <td>0.0</td>\n",
       "      <td>0.0</td>\n",
       "      <td>0.0</td>\n",
       "      <td>0.0</td>\n",
       "      <td>0.0</td>\n",
       "      <td>0.0</td>\n",
       "      <td>...</td>\n",
       "      <td>0.0</td>\n",
       "      <td>0.0</td>\n",
       "      <td>0.0</td>\n",
       "      <td>0.0</td>\n",
       "      <td>0.0</td>\n",
       "      <td>0.0</td>\n",
       "      <td>1.0</td>\n",
       "      <td>13302</td>\n",
       "      <td>3</td>\n",
       "      <td>1</td>\n",
       "      <td>16</td>\n",
       "      <td>50</td>\n",
       "      <td>21</td>\n",
       "      <td>35</td>\n",
       "      <td>4</td>\n",
       "      <td>45</td>\n",
       "    </tr>\n",
       "  </tbody>\n",
       "</table>\n",
       "<p>5 rows × 34 columns</p>\n",
       "</div>"
      ],
      "text/plain": [
       "   total_stops  route_1  route_2  route_3  route_4  route_5  Air India  GoAir  \\\n",
       "0          0.0      0.0     13.0     29.0     13.0      5.0        0.0    0.0   \n",
       "1          2.0      2.0     25.0      1.0      3.0      5.0        1.0    0.0   \n",
       "2          2.0      3.0     32.0      4.0      5.0      5.0        0.0    0.0   \n",
       "3          1.0      2.0     34.0      3.0     13.0      5.0        0.0    0.0   \n",
       "4          1.0      0.0     34.0      8.0     13.0      5.0        0.0    0.0   \n",
       "\n",
       "   IndiGo  Jet Airways  Jet Airways Business  Multiple carriers  \\\n",
       "0     1.0          0.0                   0.0                0.0   \n",
       "1     0.0          0.0                   0.0                0.0   \n",
       "2     0.0          1.0                   0.0                0.0   \n",
       "3     1.0          0.0                   0.0                0.0   \n",
       "4     1.0          0.0                   0.0                0.0   \n",
       "\n",
       "   Multiple carriers Premium economy  SpiceJet  Vistara  \\\n",
       "0                                0.0       0.0      0.0   \n",
       "1                                0.0       0.0      0.0   \n",
       "2                                0.0       0.0      0.0   \n",
       "3                                0.0       0.0      0.0   \n",
       "4                                0.0       0.0      0.0   \n",
       "\n",
       "   Vistara Premium economy  ...  Kolkata  Mumbai  Cochin  Delhi  Hyderabad  \\\n",
       "0                      0.0  ...      0.0     0.0     0.0    0.0        0.0   \n",
       "1                      0.0  ...      1.0     0.0     0.0    0.0        0.0   \n",
       "2                      0.0  ...      0.0     0.0     1.0    0.0        0.0   \n",
       "3                      0.0  ...      1.0     0.0     0.0    0.0        0.0   \n",
       "4                      0.0  ...      0.0     0.0     0.0    0.0        0.0   \n",
       "\n",
       "   Kolkata  New Delhi  price  day_of_journey  month_of_journey  dep_time_hour  \\\n",
       "0      0.0        1.0   3897              24                 3             22   \n",
       "1      0.0        0.0   7662               5                 1              5   \n",
       "2      0.0        0.0  13882               6                 9              9   \n",
       "3      0.0        0.0   6218               5                12             18   \n",
       "4      0.0        1.0  13302               3                 1             16   \n",
       "\n",
       "   dep_time_minute  arrival_time_hour  arrival_time_minute  dur_hour  \\\n",
       "0               20                  1                   10         2   \n",
       "1               50                 13                   15         7   \n",
       "2               25                  4                   25        19   \n",
       "3                5                 23                   30         5   \n",
       "4               50                 21                   35         4   \n",
       "\n",
       "   dur_minute  \n",
       "0          50  \n",
       "1          25  \n",
       "2           0  \n",
       "3          25  \n",
       "4          45  \n",
       "\n",
       "[5 rows x 34 columns]"
      ]
     },
     "execution_count": 68,
     "metadata": {},
     "output_type": "execute_result"
    }
   ],
   "source": [
    "pd.set_option('display.max_columns', 33)\n",
    "final_df.head()"
   ]
  },
  {
   "attachments": {},
   "cell_type": "markdown",
   "metadata": {},
   "source": [
    "### Check for Outliers"
   ]
  },
  {
   "cell_type": "code",
   "execution_count": 69,
   "metadata": {},
   "outputs": [],
   "source": [
    "def plot_data(df, col):\n",
    "    # Create a figure and a subplot\n",
    "    fig, ax = plt.subplots(1, 2, figsize=(12, 6))\n",
    "    \n",
    "    # Create a distplot on the first subplot\n",
    "    sns.distplot(df[col], ax=ax[0])\n",
    "    ax[0].set_title('Distribution of {}'.format(col), fontsize=16)\n",
    "    ax[0].set_xlabel(col, fontsize=14)\n",
    "    ax[0].set_ylabel('Frequency', fontsize=14)\n",
    "    \n",
    "    # Create a boxplot on the second subplot\n",
    "    sns.boxplot(df[col], ax=ax[1])\n",
    "    ax[1].set_title('Boxplot of {}'.format(col), fontsize=16)\n",
    "    ax[1].set_xlabel(col, fontsize=14)\n",
    "    ax[1].set_ylabel('Values', fontsize=14)\n",
    "    \n",
    "    plt.tight_layout(pad=2.0)\n",
    "    # Show the plot\n",
    "    plt.show()"
   ]
  },
  {
   "cell_type": "code",
   "execution_count": 70,
   "metadata": {},
   "outputs": [
    {
     "data": {
      "image/png": "[encoded data removed]",
      "text/plain": [
       "<Figure size 1200x600 with 2 Axes>"
      ]
     },
     "metadata": {},
     "output_type": "display_data"
    }
   ],
   "source": [
    "plot_data(final_df, 'price')"
   ]
  },
  {
   "attachments": {},
   "cell_type": "markdown",
   "metadata": {},
   "source": [
    "### Handling Outliers"
   ]
  },
  {
   "attachments": {},
   "cell_type": "markdown",
   "metadata": {},
   "source": [
    "As there are some outliers in price feature, we will replace with the median."
   ]
  },
  {
   "cell_type": "code",
   "execution_count": 71,
   "metadata": {},
   "outputs": [],
   "source": [
    "# Replace outliers with median of column\n",
    "final_df['price'] = np.where(final_df['price']>=40000, final_df['price'].median(), final_df['price'])"
   ]
  },
  {
   "cell_type": "code",
   "execution_count": 72,
   "metadata": {},
   "outputs": [
    {
     "data": {
      "image/png": "[encoded data removed]",
      "text/plain": [
       "<Figure size 1200x600 with 2 Axes>"
      ]
     },
     "metadata": {},
     "output_type": "display_data"
    }
   ],
   "source": [
    "plot_data(final_df, 'price')"
   ]
  },
  {
   "cell_type": "code",
   "execution_count": 73,
   "metadata": {},
   "outputs": [],
   "source": [
    "# Extract the features and target variable\n",
    "X = final_df.drop('price', axis=1)\n",
    "y = df['price']"
   ]
  },
  {
   "cell_type": "code",
   "execution_count": 74,
   "metadata": {},
   "outputs": [
    {
     "data": {
      "text/plain": [
       "(10682, 33)"
      ]
     },
     "execution_count": 74,
     "metadata": {},
     "output_type": "execute_result"
    }
   ],
   "source": [
    "X.shape"
   ]
  },
  {
   "cell_type": "code",
   "execution_count": 75,
   "metadata": {},
   "outputs": [
    {
     "data": {
      "text/html": [
       "<div>\n",
       "<style scoped>\n",
       "    .dataframe tbody tr th:only-of-type {\n",
       "        vertical-align: middle;\n",
       "    }\n",
       "\n",
       "    .dataframe tbody tr th {\n",
       "        vertical-align: top;\n",
       "    }\n",
       "\n",
       "    .dataframe thead th {\n",
       "        text-align: right;\n",
       "    }\n",
       "</style>\n",
       "<table border=\"1\" class=\"dataframe\">\n",
       "  <thead>\n",
       "    <tr style=\"text-align: right;\">\n",
       "      <th></th>\n",
       "      <th>total_stops</th>\n",
       "      <th>route_1</th>\n",
       "      <th>route_2</th>\n",
       "      <th>route_3</th>\n",
       "      <th>route_4</th>\n",
       "      <th>route_5</th>\n",
       "      <th>Air India</th>\n",
       "      <th>GoAir</th>\n",
       "      <th>IndiGo</th>\n",
       "      <th>Jet Airways</th>\n",
       "      <th>Jet Airways Business</th>\n",
       "      <th>Multiple carriers</th>\n",
       "      <th>Multiple carriers Premium economy</th>\n",
       "      <th>SpiceJet</th>\n",
       "      <th>Vistara</th>\n",
       "      <th>Vistara Premium economy</th>\n",
       "      <th>Chennai</th>\n",
       "      <th>Delhi</th>\n",
       "      <th>Kolkata</th>\n",
       "      <th>Mumbai</th>\n",
       "      <th>Cochin</th>\n",
       "      <th>Delhi</th>\n",
       "      <th>Hyderabad</th>\n",
       "      <th>Kolkata</th>\n",
       "      <th>New Delhi</th>\n",
       "      <th>day_of_journey</th>\n",
       "      <th>month_of_journey</th>\n",
       "      <th>dep_time_hour</th>\n",
       "      <th>dep_time_minute</th>\n",
       "      <th>arrival_time_hour</th>\n",
       "      <th>arrival_time_minute</th>\n",
       "      <th>dur_hour</th>\n",
       "      <th>dur_minute</th>\n",
       "    </tr>\n",
       "  </thead>\n",
       "  <tbody>\n",
       "    <tr>\n",
       "      <th>0</th>\n",
       "      <td>0.000000</td>\n",
       "      <td>0.000000</td>\n",
       "      <td>13.000000</td>\n",
       "      <td>29.000000</td>\n",
       "      <td>13.000000</td>\n",
       "      <td>5.000000</td>\n",
       "      <td>0.000000</td>\n",
       "      <td>0.000000</td>\n",
       "      <td>1.00000</td>\n",
       "      <td>0.00000</td>\n",
       "      <td>0.000000</td>\n",
       "      <td>0.000000</td>\n",
       "      <td>0.000000</td>\n",
       "      <td>0.000000</td>\n",
       "      <td>0.000000</td>\n",
       "      <td>0.000000</td>\n",
       "      <td>0.000000</td>\n",
       "      <td>0.000000</td>\n",
       "      <td>0.000000</td>\n",
       "      <td>0.000000</td>\n",
       "      <td>0.000000</td>\n",
       "      <td>0.000000</td>\n",
       "      <td>0.000000</td>\n",
       "      <td>0.000000</td>\n",
       "      <td>1.000000</td>\n",
       "      <td>24.0</td>\n",
       "      <td>3.0</td>\n",
       "      <td>22.0</td>\n",
       "      <td>20.0</td>\n",
       "      <td>1.0</td>\n",
       "      <td>10.0</td>\n",
       "      <td>2.0</td>\n",
       "      <td>50.0</td>\n",
       "    </tr>\n",
       "    <tr>\n",
       "      <th>1</th>\n",
       "      <td>2.000000</td>\n",
       "      <td>2.000000</td>\n",
       "      <td>25.000000</td>\n",
       "      <td>1.000000</td>\n",
       "      <td>3.000000</td>\n",
       "      <td>5.000000</td>\n",
       "      <td>1.000000</td>\n",
       "      <td>0.000000</td>\n",
       "      <td>0.00000</td>\n",
       "      <td>0.00000</td>\n",
       "      <td>0.000000</td>\n",
       "      <td>0.000000</td>\n",
       "      <td>0.000000</td>\n",
       "      <td>0.000000</td>\n",
       "      <td>0.000000</td>\n",
       "      <td>0.000000</td>\n",
       "      <td>0.000000</td>\n",
       "      <td>0.000000</td>\n",
       "      <td>1.000000</td>\n",
       "      <td>0.000000</td>\n",
       "      <td>0.000000</td>\n",
       "      <td>0.000000</td>\n",
       "      <td>0.000000</td>\n",
       "      <td>0.000000</td>\n",
       "      <td>0.000000</td>\n",
       "      <td>5.0</td>\n",
       "      <td>1.0</td>\n",
       "      <td>5.0</td>\n",
       "      <td>50.0</td>\n",
       "      <td>13.0</td>\n",
       "      <td>15.0</td>\n",
       "      <td>7.0</td>\n",
       "      <td>25.0</td>\n",
       "    </tr>\n",
       "    <tr>\n",
       "      <th>2</th>\n",
       "      <td>2.000000</td>\n",
       "      <td>3.000000</td>\n",
       "      <td>32.000000</td>\n",
       "      <td>4.000000</td>\n",
       "      <td>5.000000</td>\n",
       "      <td>5.000000</td>\n",
       "      <td>0.000000</td>\n",
       "      <td>0.000000</td>\n",
       "      <td>0.00000</td>\n",
       "      <td>1.00000</td>\n",
       "      <td>0.000000</td>\n",
       "      <td>0.000000</td>\n",
       "      <td>0.000000</td>\n",
       "      <td>0.000000</td>\n",
       "      <td>0.000000</td>\n",
       "      <td>0.000000</td>\n",
       "      <td>0.000000</td>\n",
       "      <td>1.000000</td>\n",
       "      <td>0.000000</td>\n",
       "      <td>0.000000</td>\n",
       "      <td>1.000000</td>\n",
       "      <td>0.000000</td>\n",
       "      <td>0.000000</td>\n",
       "      <td>0.000000</td>\n",
       "      <td>0.000000</td>\n",
       "      <td>6.0</td>\n",
       "      <td>9.0</td>\n",
       "      <td>9.0</td>\n",
       "      <td>25.0</td>\n",
       "      <td>4.0</td>\n",
       "      <td>25.0</td>\n",
       "      <td>19.0</td>\n",
       "      <td>0.0</td>\n",
       "    </tr>\n",
       "    <tr>\n",
       "      <th>3</th>\n",
       "      <td>1.000000</td>\n",
       "      <td>2.000000</td>\n",
       "      <td>34.000000</td>\n",
       "      <td>3.000000</td>\n",
       "      <td>13.000000</td>\n",
       "      <td>5.000000</td>\n",
       "      <td>0.000000</td>\n",
       "      <td>0.000000</td>\n",
       "      <td>1.00000</td>\n",
       "      <td>0.00000</td>\n",
       "      <td>0.000000</td>\n",
       "      <td>0.000000</td>\n",
       "      <td>0.000000</td>\n",
       "      <td>0.000000</td>\n",
       "      <td>0.000000</td>\n",
       "      <td>0.000000</td>\n",
       "      <td>0.000000</td>\n",
       "      <td>0.000000</td>\n",
       "      <td>1.000000</td>\n",
       "      <td>0.000000</td>\n",
       "      <td>0.000000</td>\n",
       "      <td>0.000000</td>\n",
       "      <td>0.000000</td>\n",
       "      <td>0.000000</td>\n",
       "      <td>0.000000</td>\n",
       "      <td>5.0</td>\n",
       "      <td>12.0</td>\n",
       "      <td>18.0</td>\n",
       "      <td>5.0</td>\n",
       "      <td>23.0</td>\n",
       "      <td>30.0</td>\n",
       "      <td>5.0</td>\n",
       "      <td>25.0</td>\n",
       "    </tr>\n",
       "    <tr>\n",
       "      <th>4</th>\n",
       "      <td>1.000000</td>\n",
       "      <td>0.000000</td>\n",
       "      <td>34.000000</td>\n",
       "      <td>8.000000</td>\n",
       "      <td>13.000000</td>\n",
       "      <td>5.000000</td>\n",
       "      <td>0.000000</td>\n",
       "      <td>0.000000</td>\n",
       "      <td>1.00000</td>\n",
       "      <td>0.00000</td>\n",
       "      <td>0.000000</td>\n",
       "      <td>0.000000</td>\n",
       "      <td>0.000000</td>\n",
       "      <td>0.000000</td>\n",
       "      <td>0.000000</td>\n",
       "      <td>0.000000</td>\n",
       "      <td>0.000000</td>\n",
       "      <td>0.000000</td>\n",
       "      <td>0.000000</td>\n",
       "      <td>0.000000</td>\n",
       "      <td>0.000000</td>\n",
       "      <td>0.000000</td>\n",
       "      <td>0.000000</td>\n",
       "      <td>0.000000</td>\n",
       "      <td>1.000000</td>\n",
       "      <td>3.0</td>\n",
       "      <td>1.0</td>\n",
       "      <td>16.0</td>\n",
       "      <td>50.0</td>\n",
       "      <td>21.0</td>\n",
       "      <td>35.0</td>\n",
       "      <td>4.0</td>\n",
       "      <td>45.0</td>\n",
       "    </tr>\n",
       "    <tr>\n",
       "      <th>...</th>\n",
       "      <td>...</td>\n",
       "      <td>...</td>\n",
       "      <td>...</td>\n",
       "      <td>...</td>\n",
       "      <td>...</td>\n",
       "      <td>...</td>\n",
       "      <td>...</td>\n",
       "      <td>...</td>\n",
       "      <td>...</td>\n",
       "      <td>...</td>\n",
       "      <td>...</td>\n",
       "      <td>...</td>\n",
       "      <td>...</td>\n",
       "      <td>...</td>\n",
       "      <td>...</td>\n",
       "      <td>...</td>\n",
       "      <td>...</td>\n",
       "      <td>...</td>\n",
       "      <td>...</td>\n",
       "      <td>...</td>\n",
       "      <td>...</td>\n",
       "      <td>...</td>\n",
       "      <td>...</td>\n",
       "      <td>...</td>\n",
       "      <td>...</td>\n",
       "      <td>...</td>\n",
       "      <td>...</td>\n",
       "      <td>...</td>\n",
       "      <td>...</td>\n",
       "      <td>...</td>\n",
       "      <td>...</td>\n",
       "      <td>...</td>\n",
       "      <td>...</td>\n",
       "    </tr>\n",
       "    <tr>\n",
       "      <th>10677</th>\n",
       "      <td>0.000000</td>\n",
       "      <td>2.000000</td>\n",
       "      <td>5.000000</td>\n",
       "      <td>29.000000</td>\n",
       "      <td>13.000000</td>\n",
       "      <td>5.000000</td>\n",
       "      <td>1.000000</td>\n",
       "      <td>0.000000</td>\n",
       "      <td>0.00000</td>\n",
       "      <td>0.00000</td>\n",
       "      <td>0.000000</td>\n",
       "      <td>0.000000</td>\n",
       "      <td>0.000000</td>\n",
       "      <td>0.000000</td>\n",
       "      <td>0.000000</td>\n",
       "      <td>0.000000</td>\n",
       "      <td>0.000000</td>\n",
       "      <td>0.000000</td>\n",
       "      <td>1.000000</td>\n",
       "      <td>0.000000</td>\n",
       "      <td>0.000000</td>\n",
       "      <td>0.000000</td>\n",
       "      <td>0.000000</td>\n",
       "      <td>0.000000</td>\n",
       "      <td>0.000000</td>\n",
       "      <td>27.0</td>\n",
       "      <td>4.0</td>\n",
       "      <td>20.0</td>\n",
       "      <td>45.0</td>\n",
       "      <td>23.0</td>\n",
       "      <td>20.0</td>\n",
       "      <td>2.0</td>\n",
       "      <td>35.0</td>\n",
       "    </tr>\n",
       "    <tr>\n",
       "      <th>10678</th>\n",
       "      <td>0.000000</td>\n",
       "      <td>0.000000</td>\n",
       "      <td>13.000000</td>\n",
       "      <td>29.000000</td>\n",
       "      <td>13.000000</td>\n",
       "      <td>5.000000</td>\n",
       "      <td>0.000000</td>\n",
       "      <td>0.000000</td>\n",
       "      <td>0.00000</td>\n",
       "      <td>1.00000</td>\n",
       "      <td>0.000000</td>\n",
       "      <td>0.000000</td>\n",
       "      <td>0.000000</td>\n",
       "      <td>0.000000</td>\n",
       "      <td>0.000000</td>\n",
       "      <td>0.000000</td>\n",
       "      <td>0.000000</td>\n",
       "      <td>0.000000</td>\n",
       "      <td>0.000000</td>\n",
       "      <td>0.000000</td>\n",
       "      <td>0.000000</td>\n",
       "      <td>1.000000</td>\n",
       "      <td>0.000000</td>\n",
       "      <td>0.000000</td>\n",
       "      <td>0.000000</td>\n",
       "      <td>27.0</td>\n",
       "      <td>4.0</td>\n",
       "      <td>8.0</td>\n",
       "      <td>20.0</td>\n",
       "      <td>11.0</td>\n",
       "      <td>20.0</td>\n",
       "      <td>3.0</td>\n",
       "      <td>0.0</td>\n",
       "    </tr>\n",
       "    <tr>\n",
       "      <th>10679</th>\n",
       "      <td>0.000000</td>\n",
       "      <td>0.000000</td>\n",
       "      <td>13.000000</td>\n",
       "      <td>29.000000</td>\n",
       "      <td>13.000000</td>\n",
       "      <td>5.000000</td>\n",
       "      <td>0.000000</td>\n",
       "      <td>0.000000</td>\n",
       "      <td>0.00000</td>\n",
       "      <td>0.00000</td>\n",
       "      <td>0.000000</td>\n",
       "      <td>0.000000</td>\n",
       "      <td>0.000000</td>\n",
       "      <td>0.000000</td>\n",
       "      <td>1.000000</td>\n",
       "      <td>0.000000</td>\n",
       "      <td>0.000000</td>\n",
       "      <td>0.000000</td>\n",
       "      <td>0.000000</td>\n",
       "      <td>0.000000</td>\n",
       "      <td>0.000000</td>\n",
       "      <td>0.000000</td>\n",
       "      <td>0.000000</td>\n",
       "      <td>0.000000</td>\n",
       "      <td>1.000000</td>\n",
       "      <td>3.0</td>\n",
       "      <td>1.0</td>\n",
       "      <td>11.0</td>\n",
       "      <td>30.0</td>\n",
       "      <td>14.0</td>\n",
       "      <td>10.0</td>\n",
       "      <td>2.0</td>\n",
       "      <td>40.0</td>\n",
       "    </tr>\n",
       "    <tr>\n",
       "      <th>10680</th>\n",
       "      <td>2.000000</td>\n",
       "      <td>3.000000</td>\n",
       "      <td>16.000000</td>\n",
       "      <td>4.000000</td>\n",
       "      <td>5.000000</td>\n",
       "      <td>5.000000</td>\n",
       "      <td>1.000000</td>\n",
       "      <td>0.000000</td>\n",
       "      <td>0.00000</td>\n",
       "      <td>0.00000</td>\n",
       "      <td>0.000000</td>\n",
       "      <td>0.000000</td>\n",
       "      <td>0.000000</td>\n",
       "      <td>0.000000</td>\n",
       "      <td>0.000000</td>\n",
       "      <td>0.000000</td>\n",
       "      <td>0.000000</td>\n",
       "      <td>1.000000</td>\n",
       "      <td>0.000000</td>\n",
       "      <td>0.000000</td>\n",
       "      <td>1.000000</td>\n",
       "      <td>0.000000</td>\n",
       "      <td>0.000000</td>\n",
       "      <td>0.000000</td>\n",
       "      <td>0.000000</td>\n",
       "      <td>5.0</td>\n",
       "      <td>9.0</td>\n",
       "      <td>10.0</td>\n",
       "      <td>55.0</td>\n",
       "      <td>19.0</td>\n",
       "      <td>15.0</td>\n",
       "      <td>8.0</td>\n",
       "      <td>20.0</td>\n",
       "    </tr>\n",
       "    <tr>\n",
       "      <th>10681</th>\n",
       "      <td>0.824174</td>\n",
       "      <td>2.019474</td>\n",
       "      <td>11.880723</td>\n",
       "      <td>13.232188</td>\n",
       "      <td>11.791967</td>\n",
       "      <td>4.983054</td>\n",
       "      <td>0.163936</td>\n",
       "      <td>0.018163</td>\n",
       "      <td>0.19221</td>\n",
       "      <td>0.36036</td>\n",
       "      <td>0.000562</td>\n",
       "      <td>0.111975</td>\n",
       "      <td>0.001217</td>\n",
       "      <td>0.076585</td>\n",
       "      <td>0.044846</td>\n",
       "      <td>0.000281</td>\n",
       "      <td>0.035671</td>\n",
       "      <td>0.424679</td>\n",
       "      <td>0.268795</td>\n",
       "      <td>0.065162</td>\n",
       "      <td>0.424679</td>\n",
       "      <td>0.118435</td>\n",
       "      <td>0.065162</td>\n",
       "      <td>0.035671</td>\n",
       "      <td>0.087258</td>\n",
       "      <td>3.0</td>\n",
       "      <td>6.0</td>\n",
       "      <td>13.0</td>\n",
       "      <td>5.0</td>\n",
       "      <td>16.0</td>\n",
       "      <td>20.0</td>\n",
       "      <td>3.0</td>\n",
       "      <td>15.0</td>\n",
       "    </tr>\n",
       "  </tbody>\n",
       "</table>\n",
       "<p>10682 rows × 33 columns</p>\n",
       "</div>"
      ],
      "text/plain": [
       "       total_stops   route_1    route_2    route_3    route_4   route_5  \\\n",
       "0         0.000000  0.000000  13.000000  29.000000  13.000000  5.000000   \n",
       "1         2.000000  2.000000  25.000000   1.000000   3.000000  5.000000   \n",
       "2         2.000000  3.000000  32.000000   4.000000   5.000000  5.000000   \n",
       "3         1.000000  2.000000  34.000000   3.000000  13.000000  5.000000   \n",
       "4         1.000000  0.000000  34.000000   8.000000  13.000000  5.000000   \n",
       "...            ...       ...        ...        ...        ...       ...   \n",
       "10677     0.000000  2.000000   5.000000  29.000000  13.000000  5.000000   \n",
       "10678     0.000000  0.000000  13.000000  29.000000  13.000000  5.000000   \n",
       "10679     0.000000  0.000000  13.000000  29.000000  13.000000  5.000000   \n",
       "10680     2.000000  3.000000  16.000000   4.000000   5.000000  5.000000   \n",
       "10681     0.824174  2.019474  11.880723  13.232188  11.791967  4.983054   \n",
       "\n",
       "       Air India     GoAir   IndiGo  Jet Airways  Jet Airways Business  \\\n",
       "0       0.000000  0.000000  1.00000      0.00000              0.000000   \n",
       "1       1.000000  0.000000  0.00000      0.00000              0.000000   \n",
       "2       0.000000  0.000000  0.00000      1.00000              0.000000   \n",
       "3       0.000000  0.000000  1.00000      0.00000              0.000000   \n",
       "4       0.000000  0.000000  1.00000      0.00000              0.000000   \n",
       "...          ...       ...      ...          ...                   ...   \n",
       "10677   1.000000  0.000000  0.00000      0.00000              0.000000   \n",
       "10678   0.000000  0.000000  0.00000      1.00000              0.000000   \n",
       "10679   0.000000  0.000000  0.00000      0.00000              0.000000   \n",
       "10680   1.000000  0.000000  0.00000      0.00000              0.000000   \n",
       "10681   0.163936  0.018163  0.19221      0.36036              0.000562   \n",
       "\n",
       "       Multiple carriers  Multiple carriers Premium economy  SpiceJet  \\\n",
       "0               0.000000                           0.000000  0.000000   \n",
       "1               0.000000                           0.000000  0.000000   \n",
       "2               0.000000                           0.000000  0.000000   \n",
       "3               0.000000                           0.000000  0.000000   \n",
       "4               0.000000                           0.000000  0.000000   \n",
       "...                  ...                                ...       ...   \n",
       "10677           0.000000                           0.000000  0.000000   \n",
       "10678           0.000000                           0.000000  0.000000   \n",
       "10679           0.000000                           0.000000  0.000000   \n",
       "10680           0.000000                           0.000000  0.000000   \n",
       "10681           0.111975                           0.001217  0.076585   \n",
       "\n",
       "        Vistara  Vistara Premium economy   Chennai     Delhi   Kolkata  \\\n",
       "0      0.000000                 0.000000  0.000000  0.000000  0.000000   \n",
       "1      0.000000                 0.000000  0.000000  0.000000  1.000000   \n",
       "2      0.000000                 0.000000  0.000000  1.000000  0.000000   \n",
       "3      0.000000                 0.000000  0.000000  0.000000  1.000000   \n",
       "4      0.000000                 0.000000  0.000000  0.000000  0.000000   \n",
       "...         ...                      ...       ...       ...       ...   \n",
       "10677  0.000000                 0.000000  0.000000  0.000000  1.000000   \n",
       "10678  0.000000                 0.000000  0.000000  0.000000  0.000000   \n",
       "10679  1.000000                 0.000000  0.000000  0.000000  0.000000   \n",
       "10680  0.000000                 0.000000  0.000000  1.000000  0.000000   \n",
       "10681  0.044846                 0.000281  0.035671  0.424679  0.268795   \n",
       "\n",
       "         Mumbai    Cochin     Delhi  Hyderabad   Kolkata  New Delhi  \\\n",
       "0      0.000000  0.000000  0.000000   0.000000  0.000000   1.000000   \n",
       "1      0.000000  0.000000  0.000000   0.000000  0.000000   0.000000   \n",
       "2      0.000000  1.000000  0.000000   0.000000  0.000000   0.000000   \n",
       "3      0.000000  0.000000  0.000000   0.000000  0.000000   0.000000   \n",
       "4      0.000000  0.000000  0.000000   0.000000  0.000000   1.000000   \n",
       "...         ...       ...       ...        ...       ...        ...   \n",
       "10677  0.000000  0.000000  0.000000   0.000000  0.000000   0.000000   \n",
       "10678  0.000000  0.000000  1.000000   0.000000  0.000000   0.000000   \n",
       "10679  0.000000  0.000000  0.000000   0.000000  0.000000   1.000000   \n",
       "10680  0.000000  1.000000  0.000000   0.000000  0.000000   0.000000   \n",
       "10681  0.065162  0.424679  0.118435   0.065162  0.035671   0.087258   \n",
       "\n",
       "       day_of_journey  month_of_journey  dep_time_hour  dep_time_minute  \\\n",
       "0                24.0               3.0           22.0             20.0   \n",
       "1                 5.0               1.0            5.0             50.0   \n",
       "2                 6.0               9.0            9.0             25.0   \n",
       "3                 5.0              12.0           18.0              5.0   \n",
       "4                 3.0               1.0           16.0             50.0   \n",
       "...               ...               ...            ...              ...   \n",
       "10677            27.0               4.0           20.0             45.0   \n",
       "10678            27.0               4.0            8.0             20.0   \n",
       "10679             3.0               1.0           11.0             30.0   \n",
       "10680             5.0               9.0           10.0             55.0   \n",
       "10681             3.0               6.0           13.0              5.0   \n",
       "\n",
       "       arrival_time_hour  arrival_time_minute  dur_hour  dur_minute  \n",
       "0                    1.0                 10.0       2.0        50.0  \n",
       "1                   13.0                 15.0       7.0        25.0  \n",
       "2                    4.0                 25.0      19.0         0.0  \n",
       "3                   23.0                 30.0       5.0        25.0  \n",
       "4                   21.0                 35.0       4.0        45.0  \n",
       "...                  ...                  ...       ...         ...  \n",
       "10677               23.0                 20.0       2.0        35.0  \n",
       "10678               11.0                 20.0       3.0         0.0  \n",
       "10679               14.0                 10.0       2.0        40.0  \n",
       "10680               19.0                 15.0       8.0        20.0  \n",
       "10681               16.0                 20.0       3.0        15.0  \n",
       "\n",
       "[10682 rows x 33 columns]"
      ]
     },
     "execution_count": 75,
     "metadata": {},
     "output_type": "execute_result"
    }
   ],
   "source": [
    "from sklearn.impute import SimpleImputer\n",
    "\n",
    "imputer = SimpleImputer(strategy='mean')\n",
    "imputed = imputer.fit_transform(X)\n",
    "X_imputed = pd.DataFrame(imputed, columns=X.columns)\n",
    "\n",
    "X_imputed"
   ]
  },
  {
   "cell_type": "code",
   "execution_count": 76,
   "metadata": {},
   "outputs": [],
   "source": [
    "# from sklearn.experimental import enable_iterative_imputer\n",
    "# from sklearn.impute import IterativeImputer\n",
    "\n",
    "# # Setting the random_state argument for reproducibility\n",
    "# imputer = IterativeImputer(random_state=123)\n",
    "# imputed = imputer.fit_transform(X)\n",
    "# X_imputed = pd.DataFrame(imputed, columns=X.columns)\n",
    "\n",
    "# print(round(X_imputed, 2))\n"
   ]
  },
  {
   "cell_type": "code",
   "execution_count": 77,
   "metadata": {},
   "outputs": [],
   "source": [
    "# from sklearn.impute import SimpleImputer\n",
    "\n",
    "# # Mean Imputation\n",
    "# mean_imputer = SimpleImputer(strategy='mean')\n",
    "# mean_imputed = mean_imputer.fit_transform(X)\n",
    "# df_mean_imputed = pd.DataFrame(mean_imputed, columns=X.columns)\n",
    "\n",
    "# # Median Imputation\n",
    "# median_imputer = SimpleImputer(strategy='median')\n",
    "# median_imputed = median_imputer.fit_transform(X)\n",
    "# df_median_imputed = pd.DataFrame(median_imputed, columns=X.columns)"
   ]
  },
  {
   "cell_type": "code",
   "execution_count": 78,
   "metadata": {},
   "outputs": [],
   "source": [
    "# from sklearn.metrics import mean_squared_error\n",
    "\n",
    "# # Plotting a comparison between the different strategies\n",
    "# fig, axes = plt.subplots(nrows=3, ncols=1, sharex=True, figsize=(12, 10))\n",
    "# axes = np.reshape(axes, -1)\n",
    "\n",
    "# dfs = [df_mean_imputed, df_median_imputed, X]\n",
    "# titles = ['Mean Imputation', 'Median Imputation', 'Iterative Imputation']\n",
    "\n",
    "# for i, df in enumerate(dfs):\n",
    "#     # Plotting the data\n",
    "#     x = df.total_stops\n",
    "#     y = df.arrival_time_minute\n",
    "#     sns.scatterplot(x, ax=axes[i], color='green')\n",
    "    \n",
    "#     # Fitting and plotting a linear regression line\n",
    "#     m, b = np.polyfit(x, y, 1)\n",
    "#     linreg = m*x + b\n",
    "#     axes[i].plot(x, linreg, color='black')\n",
    "    \n",
    "#     # Setting the titles and including the RMSE values\n",
    "#     axes[i].set_title(titles[i], fontsize=16, fontweight='bold')\n",
    "#     rmse = round(mean_squared_error(y, linreg, squared=False), 3)\n",
    "#     axes[i].text(500, 10, f'RMSE: {rmse}', fontsize=14, fontweight='bold')"
   ]
  },
  {
   "cell_type": "code",
   "execution_count": 79,
   "metadata": {},
   "outputs": [],
   "source": [
    "# X.isnull().sum()"
   ]
  },
  {
   "cell_type": "code",
   "execution_count": 80,
   "metadata": {},
   "outputs": [],
   "source": [
    "# X.fillna(method = 'ffill', inplace = True)"
   ]
  },
  {
   "cell_type": "code",
   "execution_count": 81,
   "metadata": {},
   "outputs": [],
   "source": [
    "# X.isnull().sum()"
   ]
  },
  {
   "attachments": {},
   "cell_type": "markdown",
   "metadata": {},
   "source": [
    "### Feature Selection"
   ]
  },
  {
   "attachments": {},
   "cell_type": "markdown",
   "metadata": {},
   "source": [
    "This is about finding the best features to use that have a good relationship with the independent variable.\n",
    "\n",
    "For this we will use mutual_info_classif"
   ]
  },
  {
   "cell_type": "code",
   "execution_count": 82,
   "metadata": {},
   "outputs": [],
   "source": [
    "from sklearn.feature_selection import mutual_info_classif"
   ]
  },
  {
   "cell_type": "code",
   "execution_count": 83,
   "metadata": {},
   "outputs": [
    {
     "data": {
      "text/plain": [
       "array([0.47560264, 0.26621823, 0.3259936 , 0.26171219, 0.84018405,\n",
       "       0.72400151, 0.07418449, 0.        , 0.08754892, 0.13583661,\n",
       "       0.01750796, 0.05292739, 0.00132224, 0.02833514, 0.0355561 ,\n",
       "       0.        , 0.02149267, 0.28294386, 0.11532519, 0.01881925,\n",
       "       0.28402493, 0.04115752, 0.0158374 , 0.02920511, 0.04160328,\n",
       "       0.11417557, 0.1133715 , 0.11486949, 0.1035788 , 0.1804505 ,\n",
       "       0.14525466, 0.17496868, 0.10381022])"
      ]
     },
     "execution_count": 83,
     "metadata": {},
     "output_type": "execute_result"
    }
   ],
   "source": [
    "# Assigning X to the imputed version of X\n",
    "X = X_imputed\n",
    "\n",
    "# Calculate mutual information scores\n",
    "mutual_info_classif(X, y)"
   ]
  },
  {
   "cell_type": "code",
   "execution_count": 84,
   "metadata": {},
   "outputs": [
    {
     "data": {
      "text/html": [
       "<div>\n",
       "<style scoped>\n",
       "    .dataframe tbody tr th:only-of-type {\n",
       "        vertical-align: middle;\n",
       "    }\n",
       "\n",
       "    .dataframe tbody tr th {\n",
       "        vertical-align: top;\n",
       "    }\n",
       "\n",
       "    .dataframe thead th {\n",
       "        text-align: right;\n",
       "    }\n",
       "</style>\n",
       "<table border=\"1\" class=\"dataframe\">\n",
       "  <thead>\n",
       "    <tr style=\"text-align: right;\">\n",
       "      <th></th>\n",
       "      <th>0</th>\n",
       "    </tr>\n",
       "  </thead>\n",
       "  <tbody>\n",
       "    <tr>\n",
       "      <th>total_stops</th>\n",
       "      <td>0.488668</td>\n",
       "    </tr>\n",
       "    <tr>\n",
       "      <th>route_1</th>\n",
       "      <td>0.249066</td>\n",
       "    </tr>\n",
       "    <tr>\n",
       "      <th>route_2</th>\n",
       "      <td>0.351273</td>\n",
       "    </tr>\n",
       "    <tr>\n",
       "      <th>route_3</th>\n",
       "      <td>0.264632</td>\n",
       "    </tr>\n",
       "    <tr>\n",
       "      <th>route_4</th>\n",
       "      <td>0.824452</td>\n",
       "    </tr>\n",
       "    <tr>\n",
       "      <th>route_5</th>\n",
       "      <td>0.773006</td>\n",
       "    </tr>\n",
       "    <tr>\n",
       "      <th>Air India</th>\n",
       "      <td>0.049915</td>\n",
       "    </tr>\n",
       "    <tr>\n",
       "      <th>GoAir</th>\n",
       "      <td>0.000000</td>\n",
       "    </tr>\n",
       "    <tr>\n",
       "      <th>IndiGo</th>\n",
       "      <td>0.106006</td>\n",
       "    </tr>\n",
       "    <tr>\n",
       "      <th>Jet Airways</th>\n",
       "      <td>0.139895</td>\n",
       "    </tr>\n",
       "    <tr>\n",
       "      <th>Jet Airways Business</th>\n",
       "      <td>0.005909</td>\n",
       "    </tr>\n",
       "    <tr>\n",
       "      <th>Multiple carriers</th>\n",
       "      <td>0.040776</td>\n",
       "    </tr>\n",
       "    <tr>\n",
       "      <th>Multiple carriers Premium economy</th>\n",
       "      <td>0.005654</td>\n",
       "    </tr>\n",
       "    <tr>\n",
       "      <th>SpiceJet</th>\n",
       "      <td>0.027005</td>\n",
       "    </tr>\n",
       "    <tr>\n",
       "      <th>Vistara</th>\n",
       "      <td>0.023205</td>\n",
       "    </tr>\n",
       "    <tr>\n",
       "      <th>Vistara Premium economy</th>\n",
       "      <td>0.000000</td>\n",
       "    </tr>\n",
       "    <tr>\n",
       "      <th>Chennai</th>\n",
       "      <td>0.025180</td>\n",
       "    </tr>\n",
       "    <tr>\n",
       "      <th>Delhi</th>\n",
       "      <td>0.288677</td>\n",
       "    </tr>\n",
       "    <tr>\n",
       "      <th>Kolkata</th>\n",
       "      <td>0.110844</td>\n",
       "    </tr>\n",
       "    <tr>\n",
       "      <th>Mumbai</th>\n",
       "      <td>0.019421</td>\n",
       "    </tr>\n",
       "    <tr>\n",
       "      <th>Cochin</th>\n",
       "      <td>0.291898</td>\n",
       "    </tr>\n",
       "    <tr>\n",
       "      <th>Delhi</th>\n",
       "      <td>0.025585</td>\n",
       "    </tr>\n",
       "    <tr>\n",
       "      <th>Hyderabad</th>\n",
       "      <td>0.027387</td>\n",
       "    </tr>\n",
       "    <tr>\n",
       "      <th>Kolkata</th>\n",
       "      <td>0.015072</td>\n",
       "    </tr>\n",
       "    <tr>\n",
       "      <th>New Delhi</th>\n",
       "      <td>0.058052</td>\n",
       "    </tr>\n",
       "    <tr>\n",
       "      <th>day_of_journey</th>\n",
       "      <td>0.111374</td>\n",
       "    </tr>\n",
       "    <tr>\n",
       "      <th>month_of_journey</th>\n",
       "      <td>0.108633</td>\n",
       "    </tr>\n",
       "    <tr>\n",
       "      <th>dep_time_hour</th>\n",
       "      <td>0.111187</td>\n",
       "    </tr>\n",
       "    <tr>\n",
       "      <th>dep_time_minute</th>\n",
       "      <td>0.110206</td>\n",
       "    </tr>\n",
       "    <tr>\n",
       "      <th>arrival_time_hour</th>\n",
       "      <td>0.170301</td>\n",
       "    </tr>\n",
       "    <tr>\n",
       "      <th>arrival_time_minute</th>\n",
       "      <td>0.124649</td>\n",
       "    </tr>\n",
       "    <tr>\n",
       "      <th>dur_hour</th>\n",
       "      <td>0.163288</td>\n",
       "    </tr>\n",
       "    <tr>\n",
       "      <th>dur_minute</th>\n",
       "      <td>0.111834</td>\n",
       "    </tr>\n",
       "  </tbody>\n",
       "</table>\n",
       "</div>"
      ],
      "text/plain": [
       "                                          0\n",
       "total_stops                        0.488668\n",
       "route_1                            0.249066\n",
       "route_2                            0.351273\n",
       "route_3                            0.264632\n",
       "route_4                            0.824452\n",
       "route_5                            0.773006\n",
       "Air India                          0.049915\n",
       "GoAir                              0.000000\n",
       "IndiGo                             0.106006\n",
       "Jet Airways                        0.139895\n",
       "Jet Airways Business               0.005909\n",
       "Multiple carriers                  0.040776\n",
       "Multiple carriers Premium economy  0.005654\n",
       "SpiceJet                           0.027005\n",
       "Vistara                            0.023205\n",
       "Vistara Premium economy            0.000000\n",
       "Chennai                            0.025180\n",
       "Delhi                              0.288677\n",
       "Kolkata                            0.110844\n",
       "Mumbai                             0.019421\n",
       "Cochin                             0.291898\n",
       "Delhi                              0.025585\n",
       "Hyderabad                          0.027387\n",
       "Kolkata                            0.015072\n",
       "New Delhi                          0.058052\n",
       "day_of_journey                     0.111374\n",
       "month_of_journey                   0.108633\n",
       "dep_time_hour                      0.111187\n",
       "dep_time_minute                    0.110206\n",
       "arrival_time_hour                  0.170301\n",
       "arrival_time_minute                0.124649\n",
       "dur_hour                           0.163288\n",
       "dur_minute                         0.111834"
      ]
     },
     "execution_count": 84,
     "metadata": {},
     "output_type": "execute_result"
    }
   ],
   "source": [
    "imp_df = pd.DataFrame(mutual_info_classif(X, y), index=X.columns)\n",
    "imp_df"
   ]
  },
  {
   "cell_type": "code",
   "execution_count": 85,
   "metadata": {},
   "outputs": [
    {
     "data": {
      "text/html": [
       "<div>\n",
       "<style scoped>\n",
       "    .dataframe tbody tr th:only-of-type {\n",
       "        vertical-align: middle;\n",
       "    }\n",
       "\n",
       "    .dataframe tbody tr th {\n",
       "        vertical-align: top;\n",
       "    }\n",
       "\n",
       "    .dataframe thead th {\n",
       "        text-align: right;\n",
       "    }\n",
       "</style>\n",
       "<table border=\"1\" class=\"dataframe\">\n",
       "  <thead>\n",
       "    <tr style=\"text-align: right;\">\n",
       "      <th></th>\n",
       "      <th>importance</th>\n",
       "    </tr>\n",
       "  </thead>\n",
       "  <tbody>\n",
       "    <tr>\n",
       "      <th>route_4</th>\n",
       "      <td>0.824452</td>\n",
       "    </tr>\n",
       "    <tr>\n",
       "      <th>route_5</th>\n",
       "      <td>0.773006</td>\n",
       "    </tr>\n",
       "    <tr>\n",
       "      <th>total_stops</th>\n",
       "      <td>0.488668</td>\n",
       "    </tr>\n",
       "    <tr>\n",
       "      <th>route_2</th>\n",
       "      <td>0.351273</td>\n",
       "    </tr>\n",
       "    <tr>\n",
       "      <th>Cochin</th>\n",
       "      <td>0.291898</td>\n",
       "    </tr>\n",
       "    <tr>\n",
       "      <th>Delhi</th>\n",
       "      <td>0.288677</td>\n",
       "    </tr>\n",
       "    <tr>\n",
       "      <th>route_3</th>\n",
       "      <td>0.264632</td>\n",
       "    </tr>\n",
       "    <tr>\n",
       "      <th>route_1</th>\n",
       "      <td>0.249066</td>\n",
       "    </tr>\n",
       "    <tr>\n",
       "      <th>arrival_time_hour</th>\n",
       "      <td>0.170301</td>\n",
       "    </tr>\n",
       "    <tr>\n",
       "      <th>dur_hour</th>\n",
       "      <td>0.163288</td>\n",
       "    </tr>\n",
       "    <tr>\n",
       "      <th>Jet Airways</th>\n",
       "      <td>0.139895</td>\n",
       "    </tr>\n",
       "    <tr>\n",
       "      <th>arrival_time_minute</th>\n",
       "      <td>0.124649</td>\n",
       "    </tr>\n",
       "    <tr>\n",
       "      <th>dur_minute</th>\n",
       "      <td>0.111834</td>\n",
       "    </tr>\n",
       "    <tr>\n",
       "      <th>day_of_journey</th>\n",
       "      <td>0.111374</td>\n",
       "    </tr>\n",
       "    <tr>\n",
       "      <th>dep_time_hour</th>\n",
       "      <td>0.111187</td>\n",
       "    </tr>\n",
       "    <tr>\n",
       "      <th>Kolkata</th>\n",
       "      <td>0.110844</td>\n",
       "    </tr>\n",
       "    <tr>\n",
       "      <th>dep_time_minute</th>\n",
       "      <td>0.110206</td>\n",
       "    </tr>\n",
       "    <tr>\n",
       "      <th>month_of_journey</th>\n",
       "      <td>0.108633</td>\n",
       "    </tr>\n",
       "    <tr>\n",
       "      <th>IndiGo</th>\n",
       "      <td>0.106006</td>\n",
       "    </tr>\n",
       "    <tr>\n",
       "      <th>New Delhi</th>\n",
       "      <td>0.058052</td>\n",
       "    </tr>\n",
       "    <tr>\n",
       "      <th>Air India</th>\n",
       "      <td>0.049915</td>\n",
       "    </tr>\n",
       "    <tr>\n",
       "      <th>Multiple carriers</th>\n",
       "      <td>0.040776</td>\n",
       "    </tr>\n",
       "    <tr>\n",
       "      <th>Hyderabad</th>\n",
       "      <td>0.027387</td>\n",
       "    </tr>\n",
       "    <tr>\n",
       "      <th>SpiceJet</th>\n",
       "      <td>0.027005</td>\n",
       "    </tr>\n",
       "    <tr>\n",
       "      <th>Delhi</th>\n",
       "      <td>0.025585</td>\n",
       "    </tr>\n",
       "    <tr>\n",
       "      <th>Chennai</th>\n",
       "      <td>0.025180</td>\n",
       "    </tr>\n",
       "    <tr>\n",
       "      <th>Vistara</th>\n",
       "      <td>0.023205</td>\n",
       "    </tr>\n",
       "    <tr>\n",
       "      <th>Mumbai</th>\n",
       "      <td>0.019421</td>\n",
       "    </tr>\n",
       "    <tr>\n",
       "      <th>Kolkata</th>\n",
       "      <td>0.015072</td>\n",
       "    </tr>\n",
       "    <tr>\n",
       "      <th>Jet Airways Business</th>\n",
       "      <td>0.005909</td>\n",
       "    </tr>\n",
       "    <tr>\n",
       "      <th>Multiple carriers Premium economy</th>\n",
       "      <td>0.005654</td>\n",
       "    </tr>\n",
       "    <tr>\n",
       "      <th>GoAir</th>\n",
       "      <td>0.000000</td>\n",
       "    </tr>\n",
       "    <tr>\n",
       "      <th>Vistara Premium economy</th>\n",
       "      <td>0.000000</td>\n",
       "    </tr>\n",
       "  </tbody>\n",
       "</table>\n",
       "</div>"
      ],
      "text/plain": [
       "                                   importance\n",
       "route_4                              0.824452\n",
       "route_5                              0.773006\n",
       "total_stops                          0.488668\n",
       "route_2                              0.351273\n",
       "Cochin                               0.291898\n",
       "Delhi                                0.288677\n",
       "route_3                              0.264632\n",
       "route_1                              0.249066\n",
       "arrival_time_hour                    0.170301\n",
       "dur_hour                             0.163288\n",
       "Jet Airways                          0.139895\n",
       "arrival_time_minute                  0.124649\n",
       "dur_minute                           0.111834\n",
       "day_of_journey                       0.111374\n",
       "dep_time_hour                        0.111187\n",
       "Kolkata                              0.110844\n",
       "dep_time_minute                      0.110206\n",
       "month_of_journey                     0.108633\n",
       "IndiGo                               0.106006\n",
       "New Delhi                            0.058052\n",
       "Air India                            0.049915\n",
       "Multiple carriers                    0.040776\n",
       "Hyderabad                            0.027387\n",
       "SpiceJet                             0.027005\n",
       "Delhi                                0.025585\n",
       "Chennai                              0.025180\n",
       "Vistara                              0.023205\n",
       "Mumbai                               0.019421\n",
       "Kolkata                              0.015072\n",
       "Jet Airways Business                 0.005909\n",
       "Multiple carriers Premium economy    0.005654\n",
       "GoAir                                0.000000\n",
       "Vistara Premium economy              0.000000"
      ]
     },
     "execution_count": 85,
     "metadata": {},
     "output_type": "execute_result"
    }
   ],
   "source": [
    "imp_df.columns = ['importance']\n",
    "imp_df.sort_values(by='importance', ascending=False)"
   ]
  },
  {
   "attachments": {},
   "cell_type": "markdown",
   "metadata": {},
   "source": [
    "Since there are a few features that have approx. 0 value so they will be removed after authorizing it."
   ]
  },
  {
   "attachments": {},
   "cell_type": "markdown",
   "metadata": {},
   "source": [
    "### Modeling"
   ]
  },
  {
   "cell_type": "code",
   "execution_count": 86,
   "metadata": {},
   "outputs": [],
   "source": [
    "# Splitting the dataset\n",
    "from sklearn.model_selection import train_test_split\n",
    "\n",
    "X_train, X_test, y_train, y_test = train_test_split(X, y, test_size=0.2, random_state=123)"
   ]
  },
  {
   "attachments": {},
   "cell_type": "markdown",
   "metadata": {},
   "source": [
    "MAE, MSE, and RMSE are performance metrics used to evaluate the accuracy of a model's predictions.\n",
    "\n",
    "The **mean absolute error (MAE)** is calculated as the average of the absolute difference between the true values and the predicted values.\n",
    "\n",
    "The **mean squared error (MSE)** is calculated as the average of the squared difference between the true values and the predicted values.\n",
    "\n",
    "The **root mean squared error (RMSE)** is the square root of the mean squared error (MSE), which is calculated as the average of the squared differences between the true values and the predicted values."
   ]
  },
  {
   "cell_type": "code",
   "execution_count": 87,
   "metadata": {},
   "outputs": [],
   "source": [
    "from sklearn.metrics import r2_score, mean_absolute_error, mean_squared_error\n",
    "\n",
    "# Function to predict ML model accuracy with the data\n",
    "def predict_model(ml_model):\n",
    "  print('Model is: {}'.format(ml_model))\n",
    "  model= ml_model.fit(X_train,y_train)\n",
    "  print(\"Training score: {}\".format(model.score(X_train,y_train)))\n",
    "  predictions = model.predict(X_test)\n",
    "  print(\"Predictions are: {}\".format(predictions))\n",
    "  print('\\n')\n",
    "  # Calculate the R-squared score\n",
    "  r2score=r2_score(y_test,predictions) \n",
    "  print(\"r2 score is: {}\".format(r2score))\n",
    "  \n",
    "  # Calculate the mean absolute error     \n",
    "  print('MAE:{}'.format(mean_absolute_error(y_test,predictions)))\n",
    "  # Calculate the mean squared error \n",
    "  print('MSE:{}'.format(mean_squared_error(y_test,predictions)))\n",
    "  # Calculate the root mean squared error\n",
    "  print('RMSE:{}'.format(np.sqrt(mean_squared_error(y_test,predictions))))\n",
    "    \n",
    "  sns.displot(y_test-predictions, height=4, aspect=1.5)"
   ]
  },
  {
   "cell_type": "code",
   "execution_count": 88,
   "metadata": {},
   "outputs": [],
   "source": [
    "from sklearn.linear_model import LogisticRegression\n",
    "from sklearn.neighbors import KNeighborsRegressor\n",
    "from sklearn.tree import DecisionTreeRegressor\n",
    "from sklearn.ensemble import GradientBoostingRegressor,RandomForestRegressor"
   ]
  },
  {
   "attachments": {},
   "cell_type": "markdown",
   "metadata": {},
   "source": [
    "A **random forest regressor** is an ensemble learning method that combines the predictions of multiple decision tree regressors to produce a more accurate and stable prediction. It works by training a large number of decision trees on random subsets of the training data, and then average the predictions of these decision trees to make a final prediction. "
   ]
  },
  {
   "cell_type": "code",
   "execution_count": 89,
   "metadata": {},
   "outputs": [
    {
     "name": "stdout",
     "output_type": "stream",
     "text": [
      "Model is: RandomForestRegressor()\n",
      "Training score: 0.7643322966291164\n",
      "Predictions are: [10085.62916667 11477.00583333 13811.04166667 ... 12396.076\n",
      "  7373.23333333  9072.27166667]\n",
      "\n",
      "\n",
      "r2 score is: -0.18869569145440956\n",
      "MAE:3729.9215369572453\n",
      "MSE:22889140.944880456\n",
      "RMSE:4784.259707089536\n"
     ]
    },
    {
     "data": {
      "image/png": "[encoded data removed]",
      "text/plain": [
       "<Figure size 600x400 with 1 Axes>"
      ]
     },
     "metadata": {},
     "output_type": "display_data"
    }
   ],
   "source": [
    "# Predict using RandomForestRegressor model\n",
    "predict_model(RandomForestRegressor())\n",
    "plt.title('Density by Price', fontsize=16, loc='left')\n",
    "plt.xlabel('Price', fontsize=14)\n",
    "plt.ylabel('Density', fontsize=14)\n",
    "plt.show()"
   ]
  },
  {
   "attachments": {},
   "cell_type": "markdown",
   "metadata": {},
   "source": [
    "From the r2 score we can see that we predicted 84% correctly."
   ]
  },
  {
   "attachments": {},
   "cell_type": "markdown",
   "metadata": {},
   "source": [
    "**Logistic regression** is a classification algorithm used to predict a binary outcome (i.e., a outcome that can only have two possible values, such as 0 or 1, yes or no, true or false). It is a statistical method that uses a logistic function to model a binary dependent variable based on one or more independent variables."
   ]
  },
  {
   "cell_type": "code",
   "execution_count": 90,
   "metadata": {},
   "outputs": [
    {
     "name": "stdout",
     "output_type": "stream",
     "text": [
      "Model is: LogisticRegression()\n",
      "Training score: 0.07302516091281451\n",
      "Predictions are: [10844 10844 10844 ...  9663 10844 22096]\n",
      "\n",
      "\n",
      "r2 score is: -0.7853520552543864\n",
      "MAE:4107.9443144595225\n",
      "MSE:34378163.49695835\n",
      "RMSE:5863.28947749967\n"
     ]
    },
    {
     "data": {
      "image/png": "[encoded data removed]",
      "text/plain": [
       "<Figure size 600x400 with 1 Axes>"
      ]
     },
     "metadata": {},
     "output_type": "display_data"
    }
   ],
   "source": [
    "# Predict using LogisticRegression model\n",
    "predict_model(LogisticRegression())\n",
    "plt.title('Density by Price', fontsize=16, loc='left')\n",
    "plt.xlabel('Price', fontsize=14)\n",
    "plt.ylabel('Density', fontsize=14)\n",
    "plt.show()"
   ]
  },
  {
   "attachments": {},
   "cell_type": "markdown",
   "metadata": {},
   "source": [
    "**KNeighborsRegressor** is a regressor based on the k-nearest neighbors algorithm. It is a non-parametric method used for regression, meaning that it does not make any assumptions about the underlying distribution of the data.\n",
    "\n",
    "The KNeighborsRegressor class is part of the sklearn library in Python. It can be used to predict a continuous target variable based on a feature matrix. It works by finding the k nearest neighbors of a given data point, and using the mean of those neighbors as the prediction for the target variable."
   ]
  },
  {
   "cell_type": "code",
   "execution_count": 91,
   "metadata": {},
   "outputs": [
    {
     "name": "stdout",
     "output_type": "stream",
     "text": [
      "Model is: KNeighborsRegressor()\n",
      "Training score: 0.24359687988051737\n",
      "Predictions are: [12650.4 11464.8 12276.8 ...  8303.4  9344.4  9545. ]\n",
      "\n",
      "\n",
      "r2 score is: -0.15323986563648995\n",
      "MAE:3666.131867103416\n",
      "MSE:22206414.995507717\n",
      "RMSE:4712.368300070329\n"
     ]
    },
    {
     "data": {
      "image/png": "[encoded data removed]",
      "text/plain": [
       "<Figure size 600x400 with 1 Axes>"
      ]
     },
     "metadata": {},
     "output_type": "display_data"
    }
   ],
   "source": [
    "# Predict using KNeighborsRegressor model\n",
    "predict_model(KNeighborsRegressor())\n",
    "plt.title('Density by Price', fontsize=16, loc='left')\n",
    "plt.xlabel('Price', fontsize=14)\n",
    "plt.ylabel('Density', fontsize=14)\n",
    "plt.show()"
   ]
  },
  {
   "attachments": {},
   "cell_type": "markdown",
   "metadata": {},
   "source": [
    "**DecisionTreeRegressor** works by constructing a decision tree, which is a flowchart-like structure in which an internal node represents feature (or attribute), the branch represents a decision rule, and each leaf node represents the outcome. The topmost node in a decision tree is the root node. Decision trees can handle high-dimensional data and can be used to make predictions for both classification and regression problems.\n",
    "\n",
    "To make a prediction using a decision tree, the model starts at the root node and follows the decision rules defined in the tree until it reaches a leaf node, which contains the prediction. The model uses the features of the input data to determine which branch to follow at each node in the tree."
   ]
  },
  {
   "cell_type": "code",
   "execution_count": 92,
   "metadata": {},
   "outputs": [
    {
     "name": "stdout",
     "output_type": "stream",
     "text": [
      "Model is: DecisionTreeRegressor()\n",
      "Training score: 0.8822681817125285\n",
      "Predictions are: [ 9653. 10953. 15554. ... 14151.  7912.  8137.]\n",
      "\n",
      "\n",
      "r2 score is: -1.0250964466768098\n",
      "MAE:4612.89998440181\n",
      "MSE:38994604.19365024\n",
      "RMSE:6244.565973200239\n"
     ]
    },
    {
     "data": {
      "image/png": "[encoded data removed]",
      "text/plain": [
       "<Figure size 600x400 with 1 Axes>"
      ]
     },
     "metadata": {},
     "output_type": "display_data"
    }
   ],
   "source": [
    "# Predict using DecisionTreeRegressor model\n",
    "predict_model(DecisionTreeRegressor())\n",
    "plt.title('Density by Price', fontsize=16, loc='left')\n",
    "plt.xlabel('Price', fontsize=14)\n",
    "plt.ylabel('Density', fontsize=14)\n",
    "plt.show()"
   ]
  },
  {
   "attachments": {},
   "cell_type": "markdown",
   "metadata": {},
   "source": [
    "Support vecotor regression (SVR) is a type of support vector machine (SVM), which is a supervised learning algorithm that can be used for both classification and regression tasks. The goal is to find a hyperpane in a high-dimensional feature space that maximally separates the data points into their respective classes or target values. The hyperplane is chosen such that it maximally separates the data points from one another, while also maximizing the distance between the hyperplane and the nearest data points (the \"support vectors\").\n",
    "\n",
    "SVR is a powerful and flexible model that can handle both linear and nonlinear relationships in the data. It is particularly well-suited for cases where the data is noisy or has outlier values."
   ]
  },
  {
   "cell_type": "code",
   "execution_count": 93,
   "metadata": {},
   "outputs": [
    {
     "name": "stdout",
     "output_type": "stream",
     "text": [
      "Model is: SVR()\n",
      "Training score: -0.021090814224286714\n",
      "Predictions are: [8394.03772319 8437.40036119 8430.7821917  ... 8460.54615931 8451.16407731\n",
      " 8483.2863372 ]\n",
      "\n",
      "\n",
      "r2 score is: -0.012301979204327296\n",
      "MAE:3499.2024947168416\n",
      "MSE:19492560.499179672\n",
      "RMSE:4415.0379952135945\n"
     ]
    },
    {
     "data": {
      "image/png": "[encoded data removed]",
      "text/plain": [
       "<Figure size 600x400 with 1 Axes>"
      ]
     },
     "metadata": {},
     "output_type": "display_data"
    }
   ],
   "source": [
    "from sklearn.svm import SVR \n",
    "\n",
    "# Predict using SVR model\n",
    "predict_model(SVR())\n",
    "plt.title('Density by Price', fontsize=16, loc='left')\n",
    "plt.xlabel('Price', fontsize=14)\n",
    "plt.ylabel('Density', fontsize=14)\n",
    "plt.show()\n"
   ]
  },
  {
   "cell_type": "code",
   "execution_count": 94,
   "metadata": {},
   "outputs": [
    {
     "name": "stdout",
     "output_type": "stream",
     "text": [
      "Model is: GradientBoostingRegressor()\n",
      "Training score: 0.10077684917751684\n",
      "Predictions are: [ 9566.86117183 10389.09211766  9996.58758626 ...  9704.75594469\n",
      " 10158.76089767 10166.29919648]\n",
      "\n",
      "\n",
      "r2 score is: 0.039410905650726136\n",
      "MAE:3408.0962934961517\n",
      "MSE:18496793.863006003\n",
      "RMSE:4300.789911516953\n"
     ]
    },
    {
     "data": {
      "image/png": "[encoded data removed]",
      "text/plain": [
       "<Figure size 600x400 with 1 Axes>"
      ]
     },
     "metadata": {},
     "output_type": "display_data"
    }
   ],
   "source": [
    "# Predict using GradientBoostingRegressor model\n",
    "predict_model(GradientBoostingRegressor())\n",
    "plt.title('Density by Price', fontsize=16, loc='left')\n",
    "plt.xlabel('Price', fontsize=14)\n",
    "plt.ylabel('Density', fontsize=14)\n",
    "plt.show()"
   ]
  },
  {
   "attachments": {},
   "cell_type": "markdown",
   "metadata": {},
   "source": [
    "As RandomForestRegressor model had the highest accuracy, we will use this algorithm to build the model."
   ]
  },
  {
   "attachments": {},
   "cell_type": "markdown",
   "metadata": {},
   "source": [
    "### Hypertuning the Model"
   ]
  },
  {
   "cell_type": "code",
   "execution_count": 95,
   "metadata": {},
   "outputs": [],
   "source": [
    "from sklearn.model_selection import RandomizedSearchCV"
   ]
  },
  {
   "cell_type": "code",
   "execution_count": 96,
   "metadata": {},
   "outputs": [],
   "source": [
    "random_grid = {\n",
    "  'n_estimators': [100, 120, 150, 180, 200, 220],\n",
    "  'max_features': [1.0, 'sqrt'],\n",
    "  'max_depth': [5, 10, 15, 20]\n",
    "}"
   ]
  },
  {
   "cell_type": "code",
   "execution_count": 97,
   "metadata": {},
   "outputs": [
    {
     "name": "stdout",
     "output_type": "stream",
     "text": [
      "Fitting 3 folds for each of 10 candidates, totalling 30 fits\n",
      "[CV] END ...max_depth=5, max_features=sqrt, n_estimators=100; total time=   0.2s\n",
      "[CV] END ...max_depth=5, max_features=sqrt, n_estimators=100; total time=   0.2s\n",
      "[CV] END ...max_depth=5, max_features=sqrt, n_estimators=100; total time=   0.2s\n",
      "[CV] END ...max_depth=5, max_features=sqrt, n_estimators=200; total time=   0.4s\n",
      "[CV] END ...max_depth=5, max_features=sqrt, n_estimators=200; total time=   0.4s\n",
      "[CV] END ...max_depth=5, max_features=sqrt, n_estimators=200; total time=   0.3s\n",
      "[CV] END ....max_depth=5, max_features=1.0, n_estimators=150; total time=   1.0s\n",
      "[CV] END ....max_depth=5, max_features=1.0, n_estimators=150; total time=   1.0s\n",
      "[CV] END ....max_depth=5, max_features=1.0, n_estimators=180; total time=   1.3s\n",
      "[CV] END ....max_depth=5, max_features=1.0, n_estimators=180; total time=   1.3s\n",
      "[CV] END ....max_depth=5, max_features=1.0, n_estimators=180; total time=   1.1s\n",
      "[CV] END ..max_depth=20, max_features=sqrt, n_estimators=120; total time=   0.7s\n",
      "[CV] END ....max_depth=5, max_features=1.0, n_estimators=120; total time=   0.8s\n",
      "[CV] END ....max_depth=5, max_features=1.0, n_estimators=120; total time=   0.8s\n",
      "[CV] END ....max_depth=5, max_features=1.0, n_estimators=150; total time=   1.0s\n",
      "[CV] END ....max_depth=5, max_features=1.0, n_estimators=120; total time=   0.9s\n",
      "[CV] END ...max_depth=15, max_features=1.0, n_estimators=180; total time=   2.8s\n",
      "[CV] END ..max_depth=20, max_features=sqrt, n_estimators=120; total time=   0.6s\n",
      "[CV] END ...max_depth=15, max_features=1.0, n_estimators=180; total time=   2.9s\n",
      "[CV] END ...max_depth=15, max_features=1.0, n_estimators=180; total time=   2.9s\n",
      "[CV] END ..max_depth=20, max_features=sqrt, n_estimators=120; total time=   0.7s\n",
      "[CV] END ..max_depth=20, max_features=sqrt, n_estimators=150; total time=   0.8s\n",
      "[CV] END ..max_depth=10, max_features=sqrt, n_estimators=220; total time=   0.6s\n",
      "[CV] END ..max_depth=10, max_features=sqrt, n_estimators=220; total time=   0.7s\n",
      "[CV] END ..max_depth=20, max_features=sqrt, n_estimators=150; total time=   0.7s\n",
      "[CV] END ..max_depth=20, max_features=sqrt, n_estimators=150; total time=   0.9s\n",
      "[CV] END ...max_depth=15, max_features=1.0, n_estimators=100; total time=   1.6s\n",
      "[CV] END ...max_depth=15, max_features=1.0, n_estimators=100; total time=   1.6s\n",
      "[CV] END ...max_depth=15, max_features=1.0, n_estimators=100; total time=   1.6s\n",
      "[CV] END ..max_depth=10, max_features=sqrt, n_estimators=220; total time=   0.5s\n"
     ]
    },
    {
     "data": {
      "text/plain": [
       "{'n_estimators': 120, 'max_features': 1.0, 'max_depth': 5}"
      ]
     },
     "execution_count": 97,
     "metadata": {},
     "output_type": "execute_result"
    }
   ],
   "source": [
    "# Build the model\n",
    "rf=RandomForestRegressor()\n",
    "rf_random=RandomizedSearchCV(estimator=rf,param_distributions=random_grid,cv=3,verbose=2,n_jobs=-1,)\n",
    "\n",
    "rf_random.fit(X_train,y_train)\n",
    "\n",
    "# best parameter\n",
    "rf_random.best_params_"
   ]
  },
  {
   "cell_type": "code",
   "execution_count": 98,
   "metadata": {},
   "outputs": [
    {
     "data": {
      "text/plain": [
       "{'n_estimators': 120, 'max_features': 1.0, 'max_depth': 5}"
      ]
     },
     "execution_count": 98,
     "metadata": {},
     "output_type": "execute_result"
    }
   ],
   "source": [
    "# Best parameter\n",
    "rf_random.best_params_"
   ]
  },
  {
   "cell_type": "code",
   "execution_count": 99,
   "metadata": {},
   "outputs": [
    {
     "data": {
      "text/plain": [
       "<Figure size 1000x500 with 0 Axes>"
      ]
     },
     "metadata": {},
     "output_type": "display_data"
    },
    {
     "data": {
      "image/png": "[encoded data removed]",
      "text/plain": [
       "<Figure size 600x400 with 1 Axes>"
      ]
     },
     "metadata": {},
     "output_type": "display_data"
    }
   ],
   "source": [
    "# Make predictions on the test set\n",
    "prediction = rf_random.predict(X_test)\n",
    "\n",
    "# Distribution plot between actual value and predicted value\n",
    "plt.figure(figsize=(10,5))\n",
    "sns.displot(y_test-prediction, height=4, aspect=1.5)\n",
    "plt.title('Comparison of True and Predicted Values (Random Forest Refressor)', fontsize=16, loc='left')\n",
    "plt.xlabel('True Values', fontsize=14)\n",
    "plt.ylabel('Predictions', fontsize=14)\n",
    "plt.show()"
   ]
  },
  {
   "cell_type": "code",
   "execution_count": null,
   "metadata": {},
   "outputs": [],
   "source": []
  }
 ],
 "metadata": {
  "kernelspec": {
   "display_name": "Python 3.11.0 64-bit",
   "language": "python",
   "name": "python3"
  },
  "language_info": {
   "codemirror_mode": {
    "name": "ipython",
    "version": 3
   },
   "file_extension": ".py",
   "mimetype": "text/x-python",
   "name": "python",
   "nbconvert_exporter": "python",
   "pygments_lexer": "ipython3",
   "version": "3.11.0 (v3.11.0:deaf509e8f, Oct 24 2022, 14:43:23) [Clang 13.0.0 (clang-1300.0.29.30)]"
  },
  "orig_nbformat": 4,
  "vscode": {
   "interpreter": {
    "hash": "aee8b7b246df8f9039afb4144a1f6fd8d2ca17a180786b69acc140d282b71a49"
   }
  }
 },
 "nbformat": 4,
 "nbformat_minor": 2
}
