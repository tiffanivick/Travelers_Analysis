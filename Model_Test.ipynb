{
 "cells": [
  {
   "cell_type": "code",
   "execution_count": 1,
   "metadata": {},
   "outputs": [],
   "source": [
    "# Import libraries\n",
    "import pandas as pd\n",
    "from faker import Faker\n",
    "import random\n",
    "from faker.providers import BaseProvider\n",
    "\n",
    "import warnings\n",
    "warnings.filterwarnings('ignore')"
   ]
  },
  {
   "cell_type": "code",
   "execution_count": 2,
   "metadata": {},
   "outputs": [],
   "source": [
    "# Dictionary mapping city names to abbreviations\n",
    "city_abbreviations = {'Bangalore': 'BLR', 'Delhi': 'DEL', 'New Delhi': 'NDEL', 'Kolkata': 'CCU', 'Bhubaneswar': 'IXR', 'Bhubaneshwar': 'BBI', 'Lucknow': 'LKO', 'Mumbai': 'BOM', 'Kochi': 'COK', 'Chennai': 'MAA', 'Pune': 'PNQ', 'Indore': 'IDR', 'Guwahati': 'GAU', 'Nagpur': 'NAG', 'Hyderabad': 'HYD', 'Jaipur': 'JAI', 'Amritsar': 'ATQ', 'Jodhpur': 'JDH', 'Goa': 'GOI', 'Vadodara': 'BDQ', 'Thiruvananthapuram': 'TRV', 'Aurangabad': 'IXU', 'Bengaluru': 'IXB', 'Ahmedabad': 'AMD', 'Udaipur': 'UDR', 'Dehradun': 'DED', 'Bhopal': 'BHO', 'Vijayawada': 'VGA', 'Varanasi': 'VNS', 'Thrissur': 'TCR', 'Chandigarh': 'IXC', 'Patna': 'PAT', 'Jabalpur': 'JLR', 'Kanpur': 'KNU', 'Gwalior': 'GWL', 'Raipur': 'RPR', 'Vishakhapatnam': 'VTZ', 'Srinagar': 'IXS', 'Hubli': 'HBX', 'Imphal': 'IMF', 'Surat': 'STV'}"
   ]
  },
  {
   "cell_type": "code",
   "execution_count": 12,
   "metadata": {},
   "outputs": [],
   "source": [
    "# Create function for each data feature to use in generating fake data\n",
    "class FlightProvider(BaseProvider):\n",
    "    def airline(self):\n",
    "        # Generate a random airline from a predefined list\n",
    "        airlines = ['Air India', 'GoAir', 'IndiGo', 'Jet Airways', 'SpiceJet']\n",
    "        return self.random_element(airlines)\n",
    "    \n",
    "    def journey_date(self):\n",
    "        # Generate a random journey date (day, month, year)\n",
    "        return (self.random_int(1, 31), self.random_int(1, 12), self.random_int(2020, 2022))\n",
    "    \n",
    "    def source_city(self):\n",
    "        # Generate a random source city from a predefined list\n",
    "        cities = ['Banglore', 'Delhi', 'Mumbai', 'Kolkata', 'Chennai', ]\n",
    "        return self.random_element(cities)\n",
    "    \n",
    "    def destination(self):\n",
    "        # Generate a random destination city\n",
    "        cities = ['Banglore', 'Cochin', 'Delhi', 'Hyderabad', 'Kolkata', 'New Delhi']\n",
    "        return self.random_element(cities)\n",
    "    \n",
    "    def route(self):\n",
    "        # Generate a random route (list of cities)\n",
    "        cities = ['BLR', 'DEL', 'NDEL', 'CCU', 'IXR', 'BBI', 'LKO', 'BOM', 'COK', 'MAA', 'PNQ', 'IDR', 'GAU', 'NAG', 'HYD', 'JAI', 'ATQ', 'JDH', 'GOI', 'BDQ', 'TRV', 'IXU', 'IXB', 'AMD', 'UDR', 'DED', 'BHO', 'VGA', 'VNS', 'TCR', 'IXC', 'PAT', 'JLR', 'KNU', 'GWL', 'RPR', 'VTZ', 'IXS', 'HBX', 'IMF', 'STV']\n",
    "        # Add the source and destination cities to the route\n",
    "        route = [self.source_city, self.destination]\n",
    "        # Generate a random number of stops (between 2 and 4)\n",
    "        num_stops = self.random_int(2, 4)\n",
    "        # Add the stops to the route\n",
    "        for i in range(num_stops):\n",
    "            stop = self.random_element(cities)\n",
    "            # Make sure the stop is not the source or destination\n",
    "            while stop == self.source_city or stop == self.destination:\n",
    "                stop = self.random_element(cities)\n",
    "                route.insert(i+1, stop)\n",
    "        return self.random_elements(route)\n",
    "                \n",
    "    def departure_time(self):\n",
    "        # Generate a random departure time (hour and minute)\n",
    "        return (self.random_int(0, 23), self.random_int(0, 59))\n",
    "\n",
    "    def arrival_time(self):\n",
    "        # Generate a random arrival time (hour and minute)\n",
    "        return (self.random_int(0, 23), self.random_int(0, 59))\n",
    "\n",
    "    def duration(self):\n",
    "        # Generate a random duration (hours and minutes)\n",
    "        return (self.random_int(0, 23), self.random_int(0, 59))\n",
    "\n",
    "    def total_stops(self):\n",
    "        return self.len(self.route) - 1\n",
    "    \n",
    "    def flight_price(self):\n",
    "        # Generate a random flight price\n",
    "        return self.random_int(1700, 80000)\n",
    "    "
   ]
  },
  {
   "cell_type": "code",
   "execution_count": null,
   "metadata": {},
   "outputs": [],
   "source": [
    "city_abbreviations = {'Bangalore': 'BLR', 'Delhi': 'DEL', 'New Delhi': 'NDEL', 'Kolkata': 'CCU', 'Bhubaneswar': 'IXR', 'Bhubaneshwar': 'BBI', 'Lucknow': 'LKO', 'Mumbai': 'BOM', 'Kochi': 'COK', 'Chennai': 'MAA', 'Pune': 'PNQ', 'Indore': 'IDR', 'Guwahati': 'GAU', 'Nagpur': 'NAG', 'Hyderabad': 'HYD', 'Jaipur': 'JAI', 'Amritsar': 'ATQ', 'Jodhpur': 'JDH', 'Goa': 'GOI', 'Vadodara': 'BDQ', 'Thiruvananthapuram': 'TRV', 'Aurangabad': 'IXU', 'Bengaluru': 'IXB', 'Ahmedabad': 'AMD', 'Udaipur': 'UDR', 'Dehradun': 'DED', 'Bhopal': 'BHO', 'Vijayawada': 'VGA', 'Varanasi': 'VNS', 'Thrissur': 'TCR', 'Chandigarh': 'IXC', 'Patna': 'PAT', 'Jabalpur': 'JLR', 'Kanpur': 'KNU', 'Gwalior': 'GWL', 'Raipur': 'RPR', 'Vishakhapatnam': 'VTZ', 'Srinagar': 'IXS', 'Hubli': 'HBX', 'Imphal': 'IMF', 'Surat': 'STV'}\n",
    "\n",
    "fp = FlightProvider()"
   ]
  },
  {
   "cell_type": "code",
   "execution_count": 9,
   "metadata": {},
   "outputs": [],
   "source": [
    "# Initialize generator\n",
    "fake = Faker()\n",
    "fake.add_provider(FlightProvider)"
   ]
  },
  {
   "cell_type": "code",
   "execution_count": null,
   "metadata": {},
   "outputs": [],
   "source": [
    "# # import random\n",
    "\n",
    "# # Generate a list of random city names\n",
    "# cities = [fake.city() for _ in range(10)]\n",
    "\n",
    "# # Create a mapping between the city names and their abbreviations\n",
    "# abbreviations = {}\n",
    "# for city in cities:\n",
    "#     abbreviation = ''.join([word[:3] for word in city.split()])\n",
    "#     abbreviations[city] = abbreviation\n",
    "\n",
    "# # Generate fake flight data\n",
    "# routes = []\n",
    "# for _ in range(1000):\n",
    "#     source_city = random.choice(cities)\n",
    "#     destination_city = random.choice(cities)\n",
    "#     route = f'{abbreviations[source_city]}-{abbreviations[destination_city]}'\n",
    "#     routes.append(route)\n",
    "\n",
    "# print(routes)"
   ]
  },
  {
   "cell_type": "code",
   "execution_count": 15,
   "metadata": {},
   "outputs": [
    {
     "ename": "TypeError",
     "evalue": "object of type 'method' has no len()",
     "output_type": "error",
     "traceback": [
      "\u001b[0;31m---------------------------------------------------------------------------\u001b[0m",
      "\u001b[0;31mTypeError\u001b[0m                                 Traceback (most recent call last)",
      "Cell \u001b[0;32mIn [15], line 14\u001b[0m\n\u001b[1;32m     12\u001b[0m arrival_time \u001b[39m=\u001b[39m fake\u001b[39m.\u001b[39marrival_time()\n\u001b[1;32m     13\u001b[0m duration \u001b[39m=\u001b[39m fake\u001b[39m.\u001b[39mduration()\n\u001b[0;32m---> 14\u001b[0m total_stops \u001b[39m=\u001b[39m fake\u001b[39m.\u001b[39;49mtotal_stops()\n\u001b[1;32m     15\u001b[0m flight_price \u001b[39m=\u001b[39m fake\u001b[39m.\u001b[39mflight_price()\n\u001b[1;32m     17\u001b[0m flight_data[i] \u001b[39m=\u001b[39m {\n\u001b[1;32m     18\u001b[0m     \u001b[39m'\u001b[39m\u001b[39mairline\u001b[39m\u001b[39m'\u001b[39m: airline,\n\u001b[1;32m     19\u001b[0m     \u001b[39m'\u001b[39m\u001b[39mjourney_date\u001b[39m\u001b[39m'\u001b[39m: journey_date,\n\u001b[0;32m   (...)\u001b[0m\n\u001b[1;32m     27\u001b[0m     \u001b[39m'\u001b[39m\u001b[39mflight_price\u001b[39m\u001b[39m'\u001b[39m: flight_price\n\u001b[1;32m     28\u001b[0m } \n",
      "Cell \u001b[0;32mIn [8], line 51\u001b[0m, in \u001b[0;36mFlightProvider.total_stops\u001b[0;34m(self)\u001b[0m\n\u001b[1;32m     50\u001b[0m \u001b[39mdef\u001b[39;00m \u001b[39mtotal_stops\u001b[39m(\u001b[39mself\u001b[39m):\n\u001b[0;32m---> 51\u001b[0m         \u001b[39mreturn\u001b[39;00m \u001b[39mlen\u001b[39;49m(\u001b[39mself\u001b[39;49m\u001b[39m.\u001b[39;49mroute) \u001b[39m-\u001b[39m \u001b[39m1\u001b[39m\n",
      "\u001b[0;31mTypeError\u001b[0m: object of type 'method' has no len()"
     ]
    }
   ],
   "source": [
    "# Create an empty dictionary to hold the generated flight data\n",
    "flight_data = {}\n",
    "\n",
    "# Generate flight data \n",
    "for i in range(2000):\n",
    "    airline = fake.airline()\n",
    "    journey_date = fake.journey_date()\n",
    "    source_city = fake.source_city()\n",
    "    destination = fake.destination()\n",
    "    route = fake.route()\n",
    "    departure_time = fake.departure_time()\n",
    "    arrival_time = fake.arrival_time()\n",
    "    duration = fake.duration()\n",
    "    total_stops = fake.total_stops()\n",
    "    flight_price = fake.flight_price()\n",
    "\n",
    "    flight_data[i] = {\n",
    "        'airline': airline,\n",
    "        'journey_date': journey_date,\n",
    "        'source_city': source_city,\n",
    "        'destination': destination,\n",
    "        'route': route,\n",
    "        'departure_time': departure_time,\n",
    "        'arrival_time': arrival_time,\n",
    "        'duration': duration,\n",
    "        'total_stops': total_stops,\n",
    "        'flight_price': flight_price\n",
    "    } "
   ]
  },
  {
   "cell_type": "code",
   "execution_count": null,
   "metadata": {},
   "outputs": [],
   "source": [
    "# View the first key-value pair in the flight_data dictionary\n",
    "for key, value in flight_data.items():\n",
    "    if key == 0:\n",
    "        print(key, value)"
   ]
  },
  {
   "attachments": {},
   "cell_type": "markdown",
   "metadata": {},
   "source": [
    "We will need to do a bit of preprocessing on the data before it will be ready to use in the model."
   ]
  },
  {
   "cell_type": "code",
   "execution_count": null,
   "metadata": {},
   "outputs": [],
   "source": [
    "# Create dataframe of flight data\n",
    "flight_df = pd.DataFrame.from_dict(flight_data, orient='index')"
   ]
  },
  {
   "cell_type": "code",
   "execution_count": null,
   "metadata": {},
   "outputs": [],
   "source": [
    "# View the data\n",
    "flight_df.head()"
   ]
  },
  {
   "cell_type": "code",
   "execution_count": null,
   "metadata": {},
   "outputs": [],
   "source": [
    "# Calculate the total number of stops for each flight\n",
    "total_stops = fp.calculate_total_stops()\n",
    "\n",
    "# Add the total number of stops to the dataframe\n",
    "flight_df['total_stops'] = total_stops"
   ]
  },
  {
   "cell_type": "code",
   "execution_count": null,
   "metadata": {},
   "outputs": [],
   "source": [
    "# Create new variables to hold the days and months \n",
    "days = flight_df['journey_date'].apply(lambda x: x[0])\n",
    "months = flight_df['journey_date'].apply(lambda x: x[1])"
   ]
  },
  {
   "cell_type": "code",
   "execution_count": null,
   "metadata": {},
   "outputs": [],
   "source": [
    "# Add new columns to dataframe\n",
    "flight_df.insert(len(flight_df.columns), 'journey_day', days)\n",
    "flight_df.insert(len(flight_df.columns), 'journey_month', months)"
   ]
  },
  {
   "cell_type": "code",
   "execution_count": null,
   "metadata": {},
   "outputs": [],
   "source": [
    "flight_df.head()"
   ]
  },
  {
   "cell_type": "code",
   "execution_count": null,
   "metadata": {},
   "outputs": [],
   "source": [
    "# Drop the journey_date column\n",
    "flight_df = flight_df.drop('journey_date', axis=1)"
   ]
  },
  {
   "cell_type": "code",
   "execution_count": null,
   "metadata": {},
   "outputs": [],
   "source": [
    "flight_df.head()"
   ]
  },
  {
   "cell_type": "code",
   "execution_count": null,
   "metadata": {},
   "outputs": [],
   "source": [
    "# Extract hours\n",
    "def extract_hours(col):\n",
    "    flight_df[col + '_hour'] = flight_df[col].apply(lambda x: x[0])\n",
    "\n",
    "# Extract minutes\n",
    "def extract_minutes(col):\n",
    "    flight_df[col + '_minute'] = flight_df[col].apply(lambda x: x[1])\n",
    "\n",
    "# Drops the column\n",
    "def drop_column(col):\n",
    "    flight_df.drop(col, axis=1, inplace=True)\n",
    "\n",
    "\n",
    "# hours = flight_df['departure_time'].apply(lambda x: x[0])\n",
    "# minutes = flight_df['departure_time'].apply(lambda x: x[1])"
   ]
  },
  {
   "cell_type": "code",
   "execution_count": null,
   "metadata": {},
   "outputs": [],
   "source": [
    "# Call functions for departure_time\n",
    "extract_hours('departure_time')\n",
    "extract_minutes('departure_time')\n",
    "drop_column('departure_time')"
   ]
  },
  {
   "cell_type": "code",
   "execution_count": null,
   "metadata": {},
   "outputs": [],
   "source": [
    "# Call function for arrival_time\n",
    "extract_hours('arrival_time')\n",
    "extract_minutes('arrival_time')\n",
    "drop_column('arrival_time')"
   ]
  },
  {
   "cell_type": "code",
   "execution_count": null,
   "metadata": {},
   "outputs": [],
   "source": [
    "# Call function for duration\n",
    "extract_hours('duration')\n",
    "extract_minutes('duration')\n",
    "drop_column('duration')"
   ]
  },
  {
   "cell_type": "code",
   "execution_count": null,
   "metadata": {},
   "outputs": [],
   "source": [
    "flight_df.head()"
   ]
  },
  {
   "cell_type": "code",
   "execution_count": null,
   "metadata": {},
   "outputs": [],
   "source": [
    "flight_df['airline'].value_counts()"
   ]
  },
  {
   "cell_type": "code",
   "execution_count": null,
   "metadata": {},
   "outputs": [],
   "source": [
    "value_counts = flight_df['route'].value_counts()\n",
    "unique_values = value_counts.index\n",
    "print(unique_values)"
   ]
  },
  {
   "cell_type": "code",
   "execution_count": null,
   "metadata": {},
   "outputs": [],
   "source": [
    "# Create a dictionary mapping city names to abbreviations\n",
    "city_abbreviations = {\n",
    "    'BLR': 'Banglore',\n",
    "    'DEL': 'Delhi',\n",
    "    'NDEL': 'New Delhi',\n",
    "    'CCU': 'Kolkata',\n",
    "    'IXR': 'Ranchi',\n",
    "    'BBI': 'Bhubaneswar',\n",
    "    'LKO': 'Lucknow',\n",
    "    'BOM': 'Mombai',\n",
    "    'COK': 'Cochin',\n",
    "    'MAA': 'Chennai',\n",
    "    'PNQ': 'Pune',\n",
    "    'IDR': 'Indore',\n",
    "    'GAU': 'Guwahati',\n",
    "    'NAG': 'Nagpour',\n",
    "    'HYD': 'Hyderabad',\n",
    "    'JAI': 'Jaipur',\n",
    "    'ATQ': 'Amritsar',\n",
    "    'JDH': 'Jodhpur',\n",
    "    'GOI': 'Goa',\n",
    "    'BDQ': 'Vadodara',\n",
    "    'TRV': 'Thiruvananthapuram',\n",
    "    'IXU': 'Aurangabad',\n",
    "    'IXB': 'Bagdogra',\n",
    "    'AMD': 'Ahmedabad',\n",
    "    'UDR': 'Udaipur',\n",
    "    'DED': 'Dehradun',\n",
    "    'BHO': 'Bhopal',\n",
    "    'VGA': 'Vijayawada',\n",
    "    'VNS': 'Varanasi',\n",
    "    'TCR': 'Tuticorin',\n",
    "    'IXC': 'Chandigarh',\n",
    "    'PAT': 'Patna',\n",
    "    'JLR': 'Jabalpur',\n",
    "    'KNU': 'Kanpur',\n",
    "    'GWL': 'Gwalior',\n",
    "    'RPR': 'Raipur',\n",
    "    'VTZ': 'Visakhapatnam',\n",
    "    'IXS': 'Silchar',\n",
    "    'HBX': 'Hubli',\n",
    "    'IMF': 'Imphal',\n",
    "    'STV': 'Surat'\n",
    "}\n",
    "\n",
    "# Split the routes column into a list of routes\n",
    "routes_list = flight_df['routes'].str.split(',')\n",
    "\n",
    "# Create a list of abbreviated routes\n",
    "abbreviated_routes = []\n",
    "for routes in routes_list:\n",
    "    # Concatenate the abbreviations for the source and destination cities\n",
    "    abbreviated_route = city_abbreviations[routes[0]] + '-' + city_abbreviations[routes[-1]]\n",
    "    abbreviated_routes.append(abbreviated_route)"
   ]
  },
  {
   "cell_type": "code",
   "execution_count": null,
   "metadata": {},
   "outputs": [],
   "source": [
    "route = flight_df['route'].apply(lambda x: pd.Series(x).value_counts())\n",
    "route.head()"
   ]
  },
  {
   "cell_type": "code",
   "execution_count": null,
   "metadata": {},
   "outputs": [],
   "source": [
    "route.fillna('None', axis=1)"
   ]
  },
  {
   "cell_type": "code",
   "execution_count": null,
   "metadata": {},
   "outputs": [],
   "source": [
    "destination"
   ]
  },
  {
   "cell_type": "code",
   "execution_count": null,
   "metadata": {},
   "outputs": [],
   "source": []
  },
  {
   "cell_type": "code",
   "execution_count": null,
   "metadata": {},
   "outputs": [],
   "source": []
  },
  {
   "attachments": {},
   "cell_type": "markdown",
   "metadata": {},
   "source": [
    "---"
   ]
  },
  {
   "cell_type": "code",
   "execution_count": null,
   "metadata": {},
   "outputs": [],
   "source": [
    "# Load test data\n",
    "test_df = pd.read_csv('/Users/tiffanivick/Workspace/Travelers_Analysis/Test_set.csv')"
   ]
  },
  {
   "cell_type": "code",
   "execution_count": null,
   "metadata": {},
   "outputs": [],
   "source": [
    "# View the data\n",
    "test_df.head()"
   ]
  },
  {
   "cell_type": "code",
   "execution_count": null,
   "metadata": {},
   "outputs": [],
   "source": [
    "# Format the column titles to lowercase\n",
    "test_df = test_df.rename(columns=lambda x: x.lower())\n",
    "\n",
    "# View the updated dataframe\n",
    "test_df.head()"
   ]
  },
  {
   "attachments": {},
   "cell_type": "markdown",
   "metadata": {},
   "source": [
    "## Preprocess data"
   ]
  },
  {
   "cell_type": "code",
   "execution_count": null,
   "metadata": {},
   "outputs": [],
   "source": [
    "test_df.dtypes"
   ]
  },
  {
   "cell_type": "code",
   "execution_count": null,
   "metadata": {},
   "outputs": [],
   "source": [
    "def convert_to_datetime(col):\n",
    "    \"\"\" \n",
    "    Converts the column's datatype to datetime\n",
    "    \"\"\"\n",
    "    test_df[col] = pd.to_datetime(test_df[col])"
   ]
  },
  {
   "cell_type": "code",
   "execution_count": null,
   "metadata": {},
   "outputs": [],
   "source": [
    "test_df.columns"
   ]
  },
  {
   "cell_type": "code",
   "execution_count": null,
   "metadata": {},
   "outputs": [],
   "source": [
    "# Convert columns datatypes to datetime\n",
    "for i in ['date_of_journey', 'dep_time', 'arrival_time']:\n",
    "    convert_to_datetime(i)"
   ]
  },
  {
   "cell_type": "code",
   "execution_count": null,
   "metadata": {},
   "outputs": [],
   "source": [
    "test_df.dtypes"
   ]
  },
  {
   "cell_type": "code",
   "execution_count": null,
   "metadata": {},
   "outputs": [],
   "source": [
    "# Extract the day from the date_of_journey column\n",
    "test_df['journey_day'] = test_df['date_of_journey'].dt.day\n",
    "\n",
    "# Extract the month from the date_of_journey column\n",
    "test_df['journey_month'] = test_df['date_of_journey'].dt.month"
   ]
  },
  {
   "cell_type": "code",
   "execution_count": null,
   "metadata": {},
   "outputs": [],
   "source": [
    "test_df.head()"
   ]
  },
  {
   "cell_type": "code",
   "execution_count": null,
   "metadata": {},
   "outputs": [],
   "source": [
    "# Drop the date_of_journey column from the dataset\n",
    "test_df.drop('date_of_journey', axis=1, inplace=True)"
   ]
  },
  {
   "cell_type": "code",
   "execution_count": null,
   "metadata": {},
   "outputs": [],
   "source": [
    "def extract_hour(df, col):\n",
    "    \"\"\" \n",
    "    Extracts the hour from the datetime column\n",
    "    \"\"\"\n",
    "    df[col + '_hour'] = df[col].dt.hour\n",
    "    \n",
    "def extract_min(df, col):\n",
    "    \"\"\" \n",
    "    Extracts the minute from the datetime column\n",
    "    \"\"\"\n",
    "    df[col + '_minute'] = df[col].dt.minute    \n",
    "    \n",
    "def drop_col(df, col):\n",
    "    \"\"\" \n",
    "    Drops the column from the dataframe\n",
    "    \"\"\"\n",
    "    df.drop(col, axis=1, inplace=True)"
   ]
  },
  {
   "cell_type": "code",
   "execution_count": null,
   "metadata": {},
   "outputs": [],
   "source": [
    "# Call functions for the dep_time column\n",
    "extract_hour(test_df, 'dep_time')\n",
    "extract_min(test_df, 'dep_time')\n",
    "drop_col(test_df, 'dep_time')"
   ]
  },
  {
   "cell_type": "code",
   "execution_count": null,
   "metadata": {},
   "outputs": [],
   "source": [
    "# Call functions for the arrival_time column\n",
    "extract_hour(test_df, 'arrival_time')\n",
    "extract_min(test_df, 'arrival_time')\n",
    "drop_col(test_df, 'arrival_time')"
   ]
  },
  {
   "cell_type": "code",
   "execution_count": null,
   "metadata": {},
   "outputs": [],
   "source": [
    "test_df.head()"
   ]
  },
  {
   "cell_type": "code",
   "execution_count": null,
   "metadata": {},
   "outputs": [],
   "source": [
    "dur_list = list(test_df['duration'])\n",
    "\n",
    "for i in range(len(dur_list)):\n",
    "    if len(dur_list[i].split(' ')) == 2:\n",
    "        pass\n",
    "    else:\n",
    "        # Checks if duration contains only the hour\n",
    "        if 'h' in dur_list[i]:\n",
    "            # Adds 0 to minutes\n",
    "            dur_list[i] = dur_list[i] + ' 0m' \n",
    "        else:\n",
    "            dur_list[i] = '0h ' + dur_list[i]"
   ]
  },
  {
   "cell_type": "code",
   "execution_count": null,
   "metadata": {},
   "outputs": [],
   "source": [
    "test_df['duration'] = dur_list"
   ]
  },
  {
   "cell_type": "code",
   "execution_count": null,
   "metadata": {},
   "outputs": [],
   "source": [
    "test_df.head()"
   ]
  },
  {
   "cell_type": "code",
   "execution_count": null,
   "metadata": {},
   "outputs": [],
   "source": [
    "def hour(x):\n",
    "    \"\"\" \n",
    "    Returns the hour part\n",
    "    \"\"\"\n",
    "    return x.split(' ')[0][0: -1]\n",
    "\n",
    "def minutes(x):\n",
    "    \"\"\" \n",
    "    Returns the minute part\n",
    "    \"\"\"\n",
    "    return x.split(' ')[1][0: 2].strip('m')"
   ]
  },
  {
   "cell_type": "code",
   "execution_count": null,
   "metadata": {},
   "outputs": [],
   "source": [
    "test_df['dur_hour'] = test_df['duration'].apply(hour)"
   ]
  },
  {
   "cell_type": "code",
   "execution_count": null,
   "metadata": {},
   "outputs": [],
   "source": [
    "test_df['dur_min'] = test_df['duration'].apply(minutes)"
   ]
  },
  {
   "cell_type": "code",
   "execution_count": null,
   "metadata": {},
   "outputs": [],
   "source": [
    "test_df.head()"
   ]
  },
  {
   "cell_type": "code",
   "execution_count": null,
   "metadata": {},
   "outputs": [],
   "source": [
    "drop_col(test_df, 'duration')"
   ]
  },
  {
   "cell_type": "code",
   "execution_count": null,
   "metadata": {},
   "outputs": [],
   "source": [
    "test_df.dtypes"
   ]
  },
  {
   "cell_type": "code",
   "execution_count": null,
   "metadata": {},
   "outputs": [],
   "source": [
    "test_df['dur_hour'] = test_df['dur_hour'].astype(int)\n",
    "test_df['dur_min'] = test_df['dur_min'].astype(int)"
   ]
  },
  {
   "cell_type": "code",
   "execution_count": null,
   "metadata": {},
   "outputs": [],
   "source": [
    "test_df.dtypes"
   ]
  },
  {
   "cell_type": "code",
   "execution_count": null,
   "metadata": {},
   "outputs": [],
   "source": [
    "# Create a list to hold the categorical columns\n",
    "column = [column for column in test_df.columns if test_df[column].dtype == 'object']\n",
    "print(column)"
   ]
  },
  {
   "cell_type": "code",
   "execution_count": null,
   "metadata": {},
   "outputs": [],
   "source": [
    "# Create a list to hold the continuous columns\n",
    "continuous_col = [column for column in test_df.columns if test_df[column].dtype != 'object']\n",
    "print(continuous_col)"
   ]
  },
  {
   "cell_type": "code",
   "execution_count": null,
   "metadata": {},
   "outputs": [],
   "source": [
    "# Create a dataframe to hold the categorical data \n",
    "categorical = test_df[column]"
   ]
  },
  {
   "cell_type": "code",
   "execution_count": null,
   "metadata": {},
   "outputs": [],
   "source": [
    "categorical.head()"
   ]
  },
  {
   "cell_type": "code",
   "execution_count": null,
   "metadata": {},
   "outputs": [],
   "source": [
    "# Perform OneHotEncoding on airline data\n",
    "airline = pd.get_dummies(categorical['airline'], drop_first=True)"
   ]
  },
  {
   "cell_type": "code",
   "execution_count": null,
   "metadata": {},
   "outputs": [],
   "source": [
    "airline.head()"
   ]
  },
  {
   "cell_type": "code",
   "execution_count": null,
   "metadata": {},
   "outputs": [],
   "source": [
    "# Perform OneHotEncoding on source column\n",
    "source = pd.get_dummies(categorical['source'], drop_first=True)"
   ]
  },
  {
   "cell_type": "code",
   "execution_count": null,
   "metadata": {},
   "outputs": [],
   "source": [
    "source.head()"
   ]
  },
  {
   "cell_type": "code",
   "execution_count": null,
   "metadata": {},
   "outputs": [],
   "source": [
    "# Perform OneHotEncoding on destination column\n",
    "destination = pd.get_dummies(categorical['destination'], drop_first=True)"
   ]
  },
  {
   "cell_type": "code",
   "execution_count": null,
   "metadata": {},
   "outputs": [],
   "source": [
    "destination.head()"
   ]
  },
  {
   "cell_type": "code",
   "execution_count": null,
   "metadata": {},
   "outputs": [],
   "source": [
    "# Separate the routes in the route column\n",
    "categorical['route1']=categorical['route'].str.split('→').str[0]\n",
    "categorical['route2']=categorical['route'].str.split('→').str[1]\n",
    "categorical['route3']=categorical['route'].str.split('→').str[2]\n",
    "categorical['route4']=categorical['route'].str.split('→').str[3]\n",
    "categorical['route5']=categorical['route'].str.split('→').str[4]"
   ]
  },
  {
   "cell_type": "code",
   "execution_count": null,
   "metadata": {},
   "outputs": [],
   "source": [
    "categorical.head()"
   ]
  },
  {
   "cell_type": "code",
   "execution_count": null,
   "metadata": {},
   "outputs": [],
   "source": [
    "drop_col(categorical, 'route')"
   ]
  },
  {
   "cell_type": "code",
   "execution_count": null,
   "metadata": {},
   "outputs": [],
   "source": [
    "categorical.isnull().sum()"
   ]
  },
  {
   "cell_type": "code",
   "execution_count": null,
   "metadata": {},
   "outputs": [],
   "source": [
    "for i in ['route3', 'route4', 'route5']:\n",
    "    categorical[i].fillna('None', inplace=True)"
   ]
  },
  {
   "cell_type": "code",
   "execution_count": null,
   "metadata": {},
   "outputs": [],
   "source": [
    "categorical.isnull().sum()"
   ]
  },
  {
   "cell_type": "code",
   "execution_count": null,
   "metadata": {},
   "outputs": [],
   "source": [
    "# apply LabelEncoder\n",
    "from sklearn.preprocessing import LabelEncoder\n",
    "encoder = LabelEncoder()"
   ]
  },
  {
   "cell_type": "code",
   "execution_count": null,
   "metadata": {},
   "outputs": [],
   "source": [
    "for i in ['route1', 'route2', 'route3', 'route4', 'route5']:\n",
    "    categorical[i] = encoder.fit_transform(categorical[i]) "
   ]
  },
  {
   "cell_type": "code",
   "execution_count": null,
   "metadata": {},
   "outputs": [],
   "source": [
    "categorical.head()"
   ]
  },
  {
   "cell_type": "code",
   "execution_count": null,
   "metadata": {},
   "outputs": [],
   "source": [
    "drop_col(categorical, 'additional_info')"
   ]
  },
  {
   "cell_type": "code",
   "execution_count": null,
   "metadata": {},
   "outputs": [],
   "source": [
    "categorical['total_stops'].unique()"
   ]
  },
  {
   "cell_type": "code",
   "execution_count": null,
   "metadata": {},
   "outputs": [],
   "source": [
    "# Encode total stops\n",
    "dict = {'non-stop': 0, '1 stop': 1, '2 stops': 2, '3 stops': 3, '4 stops': 4}\n",
    "categorical['total_stops'] = categorical['total_stops'].map(dict)"
   ]
  },
  {
   "cell_type": "code",
   "execution_count": null,
   "metadata": {},
   "outputs": [],
   "source": [
    "categorical['total_stops']"
   ]
  },
  {
   "cell_type": "code",
   "execution_count": null,
   "metadata": {},
   "outputs": [],
   "source": [
    "drop_col(categorical,'source')\n",
    "drop_col(categorical,'destination')\n",
    "drop_col(categorical,'airline')"
   ]
  },
  {
   "cell_type": "code",
   "execution_count": null,
   "metadata": {},
   "outputs": [],
   "source": [
    "final_test_df = pd.concat([categorical, airline, source, destination, test_df[continuous_col]], axis=1)"
   ]
  },
  {
   "cell_type": "code",
   "execution_count": null,
   "metadata": {},
   "outputs": [],
   "source": [
    "final_test_df.head()"
   ]
  },
  {
   "cell_type": "code",
   "execution_count": null,
   "metadata": {},
   "outputs": [],
   "source": [
    "pd.set_option('display.max_columns',33)\n",
    "final_test_df.head()"
   ]
  },
  {
   "cell_type": "code",
   "execution_count": null,
   "metadata": {},
   "outputs": [],
   "source": [
    "test_df.shape"
   ]
  },
  {
   "attachments": {},
   "cell_type": "markdown",
   "metadata": {},
   "source": [
    "#### Test model with new dataset"
   ]
  },
  {
   "cell_type": "code",
   "execution_count": null,
   "metadata": {},
   "outputs": [],
   "source": [
    "X_test = final_test_df"
   ]
  },
  {
   "cell_type": "code",
   "execution_count": null,
   "metadata": {},
   "outputs": [],
   "source": [
    "\n",
    "X_train, X_test, y_train, y_test = train_test_split(X, y, test_size=0.20, random_state=123)"
   ]
  },
  {
   "cell_type": "code",
   "execution_count": null,
   "metadata": {},
   "outputs": [],
   "source": [
    "import pickle\n",
    "\n",
    "# Load the model\n",
    "with open('./pretrained_model.pkl', 'rb') as f:\n",
    "    model = pickle.load(f)"
   ]
  },
  {
   "cell_type": "code",
   "execution_count": null,
   "metadata": {},
   "outputs": [],
   "source": [
    "predictions = model.predict(X_test)"
   ]
  },
  {
   "attachments": {},
   "cell_type": "markdown",
   "metadata": {},
   "source": [
    "---"
   ]
  },
  {
   "cell_type": "code",
   "execution_count": null,
   "metadata": {},
   "outputs": [],
   "source": [
    "# flights = [\n",
    "#     {'total_stops': 2, 'routes': ['New York', 'Chicago', 'Los Angeles'], 'destination': 'Los Angeles', 'airline': 'United', 'journey_date': '2022-01-01', 'departure_time': '09:00', 'arrival_time': '12:30', 'duration': '03:30', 'price': 500},\n",
    "#     {'total_stops': 1, 'routes': ['Chicago', 'New York'], 'destination': 'New York', 'airline': 'Delta', 'journey_date': '2022-01-03', 'departure_time': '14:00', 'arrival_time': '17:30', 'duration': '03:30', 'price': 400},\n",
    "#     {'total_stops': 0, 'routes': ['Los Angeles', 'Chicago'], 'destination': 'Chicago', 'airline': 'American', 'journey_date': '2022-01-05', 'departure_time': '10:00', 'arrival_time': '12:00', 'duration': '02:00', 'price': 300},\n",
    "#     {'total_stops': 1, 'routes': ['New York', 'Chicago'], 'destination': 'Chicago', 'airline': 'United', 'journey_date': '2022-01-07', 'departure_time': '08:00', 'arrival_time': '10:30', 'duration': '02:30', 'price': 350},\n",
    "#     {'total_stops': 0, 'routes': ['Chicago', 'Los Angeles'], 'destination': 'Los Angeles', 'airline': 'Delta', 'journey_date': '2022-01-09', 'departure_time': '12:00', 'arrival_time': '15:00', 'duration': '03:00', 'price': 450},\n",
    "# ]"
   ]
  },
  {
   "cell_type": "code",
   "execution_count": null,
   "metadata": {},
   "outputs": [],
   "source": []
  }
 ],
 "metadata": {
  "kernelspec": {
   "display_name": "Python 3",
   "language": "python",
   "name": "python3"
  },
  "language_info": {
   "codemirror_mode": {
    "name": "ipython",
    "version": 3
   },
   "file_extension": ".py",
   "mimetype": "text/x-python",
   "name": "python",
   "nbconvert_exporter": "python",
   "pygments_lexer": "ipython3",
   "version": "3.11.0"
  },
  "orig_nbformat": 4,
  "vscode": {
   "interpreter": {
    "hash": "aee8b7b246df8f9039afb4144a1f6fd8d2ca17a180786b69acc140d282b71a49"
   }
  }
 },
 "nbformat": 4,
 "nbformat_minor": 2
}
